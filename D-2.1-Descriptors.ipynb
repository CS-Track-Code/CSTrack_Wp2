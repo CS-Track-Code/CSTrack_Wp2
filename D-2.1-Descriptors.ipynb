{
 "cells": [
  {
   "cell_type": "code",
   "execution_count": 4,
   "metadata": {
    "collapsed": false
   },
   "outputs": [
    {
     "name": "stdout",
     "output_type": "stream",
     "text": [
      "<class 'pandas.core.frame.DataFrame'>\n",
      "Int64Index: 12782 entries, 0 to 12781\n",
      "Data columns (total 35 columns):\n",
      "Apps                                196 non-null object\n",
      "Comments                            256 non-null object\n",
      "Date Update                         592 non-null object\n",
      "Dedication Time                     292 non-null object\n",
      "Description                         12718 non-null object\n",
      "Development Space                   1017 non-null object\n",
      "Development Time                    1265 non-null object\n",
      "End Date                            111 non-null object\n",
      "Geographical Location               7751 non-null object\n",
      "Images                              137 non-null object\n",
      "Insert Date                         12782 non-null object\n",
      "Investment                          1344 non-null object\n",
      "Language                            12782 non-null object\n",
      "Mail                                1171 non-null object\n",
      "Main Objectives                     1564 non-null object\n",
      "Main Program Or Person In Charge    1036 non-null object\n",
      "Member Age                          880 non-null object\n",
      "Methodology                         1653 non-null object\n",
      "Number Of Members                   16 non-null object\n",
      "Other On Line Resources             256 non-null object\n",
      "Participants Profile                7057 non-null object\n",
      "Plat Country                        12782 non-null object\n",
      "Plat ID                             12782 non-null object\n",
      "Platform Update Date                1325 non-null object\n",
      "Resources                           680 non-null object\n",
      "Results                             249 non-null object\n",
      "Social Media                        1059 non-null object\n",
      "Start Date                          169 non-null object\n",
      "Status                              278 non-null object\n",
      "Title                               12782 non-null object\n",
      "Tools And Materials                 6795 non-null object\n",
      "Topics                              1712 non-null object\n",
      "URL Platform                        12782 non-null object\n",
      "Web                                 2753 non-null object\n",
      "Wp2 ID                              12782 non-null object\n",
      "dtypes: object(35)\n",
      "memory usage: 3.5+ MB\n"
     ]
    }
   ],
   "source": [
    "#importing libraries\n",
    "import pandas as pd\n",
    "import matplotlib.pyplot as plt\n",
    "\n",
    "#read json data\n",
    "df = pd.read_json('inputData/data_as_of_24th_Nov_2020.json')\n",
    "df.info()"
   ]
  },
  {
   "cell_type": "markdown",
   "metadata": {},
   "source": [
    "# 5.1. Project Name"
   ]
  },
  {
   "cell_type": "code",
   "execution_count": 5,
   "metadata": {
    "collapsed": false
   },
   "outputs": [
    {
     "data": {
      "text/plain": [
       "count                                                 12782\n",
       "unique                                                12782\n",
       "top       \\n          \\n        Biodiversity of the Mobi...\n",
       "freq                                                      1\n",
       "Name: Title, dtype: object"
      ]
     },
     "execution_count": 5,
     "metadata": {},
     "output_type": "execute_result"
    }
   ],
   "source": [
    "filter_title = df['Title'].dropna(how = 'any')\n",
    "filter_title.describe()"
   ]
  },
  {
   "cell_type": "code",
   "execution_count": 6,
   "metadata": {
    "collapsed": false
   },
   "outputs": [
    {
     "data": {
      "text/html": [
       "<div>\n",
       "<style>\n",
       "    .dataframe thead tr:only-child th {\n",
       "        text-align: right;\n",
       "    }\n",
       "\n",
       "    .dataframe thead th {\n",
       "        text-align: left;\n",
       "    }\n",
       "\n",
       "    .dataframe tbody tr th {\n",
       "        vertical-align: top;\n",
       "    }\n",
       "</style>\n",
       "<table border=\"1\" class=\"dataframe\">\n",
       "  <thead>\n",
       "    <tr style=\"text-align: right;\">\n",
       "      <th></th>\n",
       "      <th>unique_values</th>\n",
       "      <th>counts</th>\n",
       "    </tr>\n",
       "  </thead>\n",
       "  <tbody>\n",
       "    <tr>\n",
       "      <th>0</th>\n",
       "      <td>\\n          \\n        Biodiversity of the Mobi...</td>\n",
       "      <td>1</td>\n",
       "    </tr>\n",
       "    <tr>\n",
       "      <th>1</th>\n",
       "      <td>Stein für Stein zurück in die Vergangenheit.</td>\n",
       "      <td>1</td>\n",
       "    </tr>\n",
       "    <tr>\n",
       "      <th>2</th>\n",
       "      <td>Fire-Database</td>\n",
       "      <td>1</td>\n",
       "    </tr>\n",
       "    <tr>\n",
       "      <th>3</th>\n",
       "      <td>Biodiversity of Florida.</td>\n",
       "      <td>1</td>\n",
       "    </tr>\n",
       "    <tr>\n",
       "      <th>4</th>\n",
       "      <td>\\n          \\n          Adirondack All-Taxa Bi...</td>\n",
       "      <td>1</td>\n",
       "    </tr>\n",
       "  </tbody>\n",
       "</table>\n",
       "</div>"
      ],
      "text/plain": [
       "                                       unique_values  counts\n",
       "0  \\n          \\n        Biodiversity of the Mobi...       1\n",
       "1       Stein für Stein zurück in die Vergangenheit.       1\n",
       "2                                      Fire-Database       1\n",
       "3                           Biodiversity of Florida.       1\n",
       "4  \\n          \\n          Adirondack All-Taxa Bi...       1"
      ]
     },
     "execution_count": 6,
     "metadata": {},
     "output_type": "execute_result"
    }
   ],
   "source": [
    "countsOfTitles= filter_title.value_counts().rename_axis('unique_values').reset_index(name='counts')\n",
    "\n",
    "#create output folder first\n",
    "\n",
    "countsOfTitles.to_csv('output/Description.csv', encoding='utf-8-sig') # write project names to .csv file\n",
    "countsOfTitles.head()"
   ]
  },
  {
   "cell_type": "markdown",
   "metadata": {},
   "source": [
    "# 5.2. Description"
   ]
  },
  {
   "cell_type": "code",
   "execution_count": 7,
   "metadata": {
    "collapsed": false
   },
   "outputs": [
    {
     "data": {
      "text/plain": [
       "count                                                 12718\n",
       "unique                                                12503\n",
       "top       [Ontario’s conservation reserves permanently p...\n",
       "freq                                                     23\n",
       "Name: Description, dtype: object"
      ]
     },
     "execution_count": 7,
     "metadata": {},
     "output_type": "execute_result"
    }
   ],
   "source": [
    "filter_description = df['Description'].dropna(how = 'any')\n",
    "filter_description.describe()"
   ]
  },
  {
   "cell_type": "code",
   "execution_count": 8,
   "metadata": {
    "collapsed": false
   },
   "outputs": [],
   "source": [
    "filter_description.to_csv('output/Description.csv', encoding='utf-8-sig') # write descriptions to .csv file"
   ]
  },
  {
   "cell_type": "markdown",
   "metadata": {},
   "source": [
    "# 5.3. Status"
   ]
  },
  {
   "cell_type": "code",
   "execution_count": 9,
   "metadata": {
    "collapsed": false
   },
   "outputs": [
    {
     "data": {
      "text/plain": [
       "count                                  278\n",
       "unique                                 256\n",
       "top       [  ESTADO DEL PROYECTO: Activo.]\n",
       "freq                                    12\n",
       "Name: Status, dtype: object"
      ]
     },
     "execution_count": 9,
     "metadata": {},
     "output_type": "execute_result"
    }
   ],
   "source": [
    "filter_status = df['Status'].dropna(how = 'any')\n",
    "filter_status.describe()"
   ]
  },
  {
   "cell_type": "code",
   "execution_count": 10,
   "metadata": {
    "collapsed": false
   },
   "outputs": [
    {
     "data": {
      "text/html": [
       "<div>\n",
       "<style>\n",
       "    .dataframe thead tr:only-child th {\n",
       "        text-align: right;\n",
       "    }\n",
       "\n",
       "    .dataframe thead th {\n",
       "        text-align: left;\n",
       "    }\n",
       "\n",
       "    .dataframe tbody tr th {\n",
       "        vertical-align: top;\n",
       "    }\n",
       "</style>\n",
       "<table border=\"1\" class=\"dataframe\">\n",
       "  <thead>\n",
       "    <tr style=\"text-align: right;\">\n",
       "      <th></th>\n",
       "      <th>unique_values</th>\n",
       "      <th>counts</th>\n",
       "    </tr>\n",
       "  </thead>\n",
       "  <tbody>\n",
       "    <tr>\n",
       "      <th>0</th>\n",
       "      <td>[  ESTADO DEL PROYECTO: Activo.]</td>\n",
       "      <td>12</td>\n",
       "    </tr>\n",
       "    <tr>\n",
       "      <th>1</th>\n",
       "      <td>[ESTADO DEL PROYECTO: Activo.]</td>\n",
       "      <td>4</td>\n",
       "    </tr>\n",
       "    <tr>\n",
       "      <th>2</th>\n",
       "      <td>COMPLETED</td>\n",
       "      <td>3</td>\n",
       "    </tr>\n",
       "    <tr>\n",
       "      <th>3</th>\n",
       "      <td>[https://www.zooniverse.org/projects/zoonivers...</td>\n",
       "      <td>2</td>\n",
       "    </tr>\n",
       "    <tr>\n",
       "      <th>4</th>\n",
       "      <td>[https://www.zooniverse.org/projects/mschwamb/...</td>\n",
       "      <td>2</td>\n",
       "    </tr>\n",
       "  </tbody>\n",
       "</table>\n",
       "</div>"
      ],
      "text/plain": [
       "                                       unique_values  counts\n",
       "0                   [  ESTADO DEL PROYECTO: Activo.]      12\n",
       "1                     [ESTADO DEL PROYECTO: Activo.]       4\n",
       "2                                          COMPLETED       3\n",
       "3  [https://www.zooniverse.org/projects/zoonivers...       2\n",
       "4  [https://www.zooniverse.org/projects/mschwamb/...       2"
      ]
     },
     "execution_count": 10,
     "metadata": {},
     "output_type": "execute_result"
    }
   ],
   "source": [
    "countsOfStatus= filter_status.value_counts().rename_axis('unique_values').reset_index(name='counts')\n",
    "countsOfStatus.to_csv('output/status.csv', index=True, header=True)\n",
    "countsOfStatus.head()"
   ]
  },
  {
   "cell_type": "markdown",
   "metadata": {},
   "source": [
    "# 5.4. Platform origin (referred to as  URL Platform in the database)"
   ]
  },
  {
   "cell_type": "code",
   "execution_count": 11,
   "metadata": {
    "collapsed": false
   },
   "outputs": [
    {
     "data": {
      "text/plain": [
       "count                                              12782\n",
       "unique                                             12643\n",
       "top       https://dabasdati.lv/en/cat/7/?links=en/cat/7/\n",
       "freq                                                  34\n",
       "Name: URL Platform, dtype: object"
      ]
     },
     "execution_count": 11,
     "metadata": {},
     "output_type": "execute_result"
    }
   ],
   "source": [
    "filter_plat_origin = df['URL Platform'].dropna(how = 'any')\n",
    "filter_plat_origin.describe()"
   ]
  },
  {
   "cell_type": "code",
   "execution_count": 12,
   "metadata": {
    "collapsed": false
   },
   "outputs": [
    {
     "data": {
      "text/html": [
       "<div>\n",
       "<style>\n",
       "    .dataframe thead tr:only-child th {\n",
       "        text-align: right;\n",
       "    }\n",
       "\n",
       "    .dataframe thead th {\n",
       "        text-align: left;\n",
       "    }\n",
       "\n",
       "    .dataframe tbody tr th {\n",
       "        vertical-align: top;\n",
       "    }\n",
       "</style>\n",
       "<table border=\"1\" class=\"dataframe\">\n",
       "  <thead>\n",
       "    <tr style=\"text-align: right;\">\n",
       "      <th></th>\n",
       "      <th>unique_values</th>\n",
       "      <th>counts</th>\n",
       "    </tr>\n",
       "  </thead>\n",
       "  <tbody>\n",
       "    <tr>\n",
       "      <th>0</th>\n",
       "      <td>https://dabasdati.lv/en/cat/7/?links=en/cat/7/</td>\n",
       "      <td>34</td>\n",
       "    </tr>\n",
       "    <tr>\n",
       "      <th>1</th>\n",
       "      <td>https://www.nationalgeographic.org/idea/citize...</td>\n",
       "      <td>23</td>\n",
       "    </tr>\n",
       "    <tr>\n",
       "      <th>2</th>\n",
       "      <td>https://medborgarforskning.se/lankar/</td>\n",
       "      <td>19</td>\n",
       "    </tr>\n",
       "    <tr>\n",
       "      <th>3</th>\n",
       "      <td>https://www.helmholtz.de/transfer/wissenstrans...</td>\n",
       "      <td>15</td>\n",
       "    </tr>\n",
       "    <tr>\n",
       "      <th>4</th>\n",
       "      <td>https://parcs.diba.cat/es/web/conservacio-de-l...</td>\n",
       "      <td>12</td>\n",
       "    </tr>\n",
       "  </tbody>\n",
       "</table>\n",
       "</div>"
      ],
      "text/plain": [
       "                                       unique_values  counts\n",
       "0     https://dabasdati.lv/en/cat/7/?links=en/cat/7/      34\n",
       "1  https://www.nationalgeographic.org/idea/citize...      23\n",
       "2              https://medborgarforskning.se/lankar/      19\n",
       "3  https://www.helmholtz.de/transfer/wissenstrans...      15\n",
       "4  https://parcs.diba.cat/es/web/conservacio-de-l...      12"
      ]
     },
     "execution_count": 12,
     "metadata": {},
     "output_type": "execute_result"
    }
   ],
   "source": [
    "platOrigin= filter_plat_origin.value_counts().rename_axis('unique_values').reset_index(name='counts')\n",
    "platOrigin.to_csv('output/origin.csv', index=True, header=True)\n",
    "platOrigin.head()"
   ]
  },
  {
   "cell_type": "markdown",
   "metadata": {},
   "source": [
    "# 5.5. Website link (referred to as web in the database)"
   ]
  },
  {
   "cell_type": "code",
   "execution_count": 13,
   "metadata": {
    "collapsed": false
   },
   "outputs": [
    {
     "data": {
      "text/plain": [
       "count                                                  2753\n",
       "unique                                                 2712\n",
       "top       [https://baynature.org/2019/12/23/nature-to-lo...\n",
       "freq                                                     12\n",
       "Name: Web, dtype: object"
      ]
     },
     "execution_count": 13,
     "metadata": {},
     "output_type": "execute_result"
    }
   ],
   "source": [
    "filter_web = df['Web'].dropna(how = 'any')\n",
    "filter_web.describe()"
   ]
  },
  {
   "cell_type": "code",
   "execution_count": 14,
   "metadata": {
    "collapsed": false
   },
   "outputs": [
    {
     "data": {
      "text/html": [
       "<div>\n",
       "<style>\n",
       "    .dataframe thead tr:only-child th {\n",
       "        text-align: right;\n",
       "    }\n",
       "\n",
       "    .dataframe thead th {\n",
       "        text-align: left;\n",
       "    }\n",
       "\n",
       "    .dataframe tbody tr th {\n",
       "        vertical-align: top;\n",
       "    }\n",
       "</style>\n",
       "<table border=\"1\" class=\"dataframe\">\n",
       "  <thead>\n",
       "    <tr style=\"text-align: right;\">\n",
       "      <th></th>\n",
       "      <th>unique_values</th>\n",
       "      <th>counts</th>\n",
       "    </tr>\n",
       "  </thead>\n",
       "  <tbody>\n",
       "    <tr>\n",
       "      <th>0</th>\n",
       "      <td>[https://baynature.org/2019/12/23/nature-to-lo...</td>\n",
       "      <td>12</td>\n",
       "    </tr>\n",
       "    <tr>\n",
       "      <th>1</th>\n",
       "      <td>[https://www.wlv.ac.uk/]</td>\n",
       "      <td>9</td>\n",
       "    </tr>\n",
       "    <tr>\n",
       "      <th>2</th>\n",
       "      <td>[http:, https://www.iedereenwetenschapper.be/p...</td>\n",
       "      <td>8</td>\n",
       "    </tr>\n",
       "    <tr>\n",
       "      <th>3</th>\n",
       "      <td>[http://www.mcdowellsonoran.org/volunteer/beco...</td>\n",
       "      <td>4</td>\n",
       "    </tr>\n",
       "    <tr>\n",
       "      <th>4</th>\n",
       "      <td>[https://www.science-et-cite.ch/de/tag/2-proje...</td>\n",
       "      <td>4</td>\n",
       "    </tr>\n",
       "  </tbody>\n",
       "</table>\n",
       "</div>"
      ],
      "text/plain": [
       "                                       unique_values  counts\n",
       "0  [https://baynature.org/2019/12/23/nature-to-lo...      12\n",
       "1                           [https://www.wlv.ac.uk/]       9\n",
       "2  [http:, https://www.iedereenwetenschapper.be/p...       8\n",
       "3  [http://www.mcdowellsonoran.org/volunteer/beco...       4\n",
       "4  [https://www.science-et-cite.ch/de/tag/2-proje...       4"
      ]
     },
     "execution_count": 14,
     "metadata": {},
     "output_type": "execute_result"
    }
   ],
   "source": [
    "\n",
    "countsOfWeb= filter_web.value_counts().rename_axis('unique_values').reset_index(name='counts')\n",
    "countsOfWeb.to_csv('output/web.csv', index=False, header=True)\n",
    "countsOfWeb.head()"
   ]
  },
  {
   "cell_type": "markdown",
   "metadata": {},
   "source": [
    "# 5.6. Social Media"
   ]
  },
  {
   "cell_type": "code",
   "execution_count": 15,
   "metadata": {
    "collapsed": false
   },
   "outputs": [
    {
     "data": {
      "text/plain": [
       "count                                                  1059\n",
       "unique                                                  961\n",
       "top       [https://www.meteoschweiz.admin.ch/home/aktuel...\n",
       "freq                                                     44\n",
       "Name: Social Media, dtype: object"
      ]
     },
     "execution_count": 15,
     "metadata": {},
     "output_type": "execute_result"
    }
   ],
   "source": [
    "filter_media = df['Social Media'].dropna(how = 'any')\n",
    "filter_media.describe()"
   ]
  },
  {
   "cell_type": "code",
   "execution_count": 16,
   "metadata": {
    "collapsed": false
   },
   "outputs": [
    {
     "data": {
      "text/html": [
       "<div>\n",
       "<style>\n",
       "    .dataframe thead tr:only-child th {\n",
       "        text-align: right;\n",
       "    }\n",
       "\n",
       "    .dataframe thead th {\n",
       "        text-align: left;\n",
       "    }\n",
       "\n",
       "    .dataframe tbody tr th {\n",
       "        vertical-align: top;\n",
       "    }\n",
       "</style>\n",
       "<table border=\"1\" class=\"dataframe\">\n",
       "  <thead>\n",
       "    <tr style=\"text-align: right;\">\n",
       "      <th></th>\n",
       "      <th>unique_values</th>\n",
       "      <th>counts</th>\n",
       "    </tr>\n",
       "  </thead>\n",
       "  <tbody>\n",
       "    <tr>\n",
       "      <th>0</th>\n",
       "      <td>[https://www.meteoschweiz.admin.ch/home/aktuel...</td>\n",
       "      <td>44</td>\n",
       "    </tr>\n",
       "    <tr>\n",
       "      <th>1</th>\n",
       "      <td>[https://www.facebook.com/groups/3631197279438...</td>\n",
       "      <td>11</td>\n",
       "    </tr>\n",
       "    <tr>\n",
       "      <th>2</th>\n",
       "      <td>[https://www.facebook.com/theNOVALabs]</td>\n",
       "      <td>5</td>\n",
       "    </tr>\n",
       "    <tr>\n",
       "      <th>3</th>\n",
       "      <td>[https://www.facebook.com/OPALexplorenature]</td>\n",
       "      <td>5</td>\n",
       "    </tr>\n",
       "    <tr>\n",
       "      <th>4</th>\n",
       "      <td>[https://blog.nhm.ac.uk/category/take-part/cit...</td>\n",
       "      <td>4</td>\n",
       "    </tr>\n",
       "  </tbody>\n",
       "</table>\n",
       "</div>"
      ],
      "text/plain": [
       "                                       unique_values  counts\n",
       "0  [https://www.meteoschweiz.admin.ch/home/aktuel...      44\n",
       "1  [https://www.facebook.com/groups/3631197279438...      11\n",
       "2             [https://www.facebook.com/theNOVALabs]       5\n",
       "3       [https://www.facebook.com/OPALexplorenature]       5\n",
       "4  [https://blog.nhm.ac.uk/category/take-part/cit...       4"
      ]
     },
     "execution_count": 16,
     "metadata": {},
     "output_type": "execute_result"
    }
   ],
   "source": [
    "\n",
    "countsOfMedia= filter_media.value_counts().rename_axis('unique_values').reset_index(name='counts')\n",
    "countsOfMedia.to_csv('output/media.csv', index=False, header=True)\n",
    "countsOfMedia.head()"
   ]
  },
  {
   "cell_type": "markdown",
   "metadata": {},
   "source": [
    "# 5.7. Contact Info (referred to as Mail in the database)"
   ]
  },
  {
   "cell_type": "code",
   "execution_count": 17,
   "metadata": {
    "collapsed": false
   },
   "outputs": [
    {
     "data": {
      "text/plain": [
       "count                          1171\n",
       "unique                         1077\n",
       "top       [mailto:huebn090@umn.edu]\n",
       "freq                             16\n",
       "Name: Mail, dtype: object"
      ]
     },
     "execution_count": 17,
     "metadata": {},
     "output_type": "execute_result"
    }
   ],
   "source": [
    "filter_mail = df['Mail'].dropna(how = 'any')\n",
    "filter_mail.describe()"
   ]
  },
  {
   "cell_type": "code",
   "execution_count": 18,
   "metadata": {
    "collapsed": false
   },
   "outputs": [
    {
     "data": {
      "text/html": [
       "<div>\n",
       "<style>\n",
       "    .dataframe thead tr:only-child th {\n",
       "        text-align: right;\n",
       "    }\n",
       "\n",
       "    .dataframe thead th {\n",
       "        text-align: left;\n",
       "    }\n",
       "\n",
       "    .dataframe tbody tr th {\n",
       "        vertical-align: top;\n",
       "    }\n",
       "</style>\n",
       "<table border=\"1\" class=\"dataframe\">\n",
       "  <thead>\n",
       "    <tr style=\"text-align: right;\">\n",
       "      <th></th>\n",
       "      <th>unique_values</th>\n",
       "      <th>counts</th>\n",
       "    </tr>\n",
       "  </thead>\n",
       "  <tbody>\n",
       "    <tr>\n",
       "      <th>0</th>\n",
       "      <td>[mailto:huebn090@umn.edu]</td>\n",
       "      <td>16</td>\n",
       "    </tr>\n",
       "    <tr>\n",
       "      <th>1</th>\n",
       "      <td>[https://twitter.com/@InstantWild]</td>\n",
       "      <td>12</td>\n",
       "    </tr>\n",
       "    <tr>\n",
       "      <th>2</th>\n",
       "      <td>[Kontakt: veronika.juettemann@uni-muenster.de,...</td>\n",
       "      <td>8</td>\n",
       "    </tr>\n",
       "    <tr>\n",
       "      <th>3</th>\n",
       "      <td>[https://twitter.com/@OPALnature]</td>\n",
       "      <td>5</td>\n",
       "    </tr>\n",
       "    <tr>\n",
       "      <th>4</th>\n",
       "      <td>[https://twitter.com/@sciathome]</td>\n",
       "      <td>5</td>\n",
       "    </tr>\n",
       "  </tbody>\n",
       "</table>\n",
       "</div>"
      ],
      "text/plain": [
       "                                       unique_values  counts\n",
       "0                          [mailto:huebn090@umn.edu]      16\n",
       "1                 [https://twitter.com/@InstantWild]      12\n",
       "2  [Kontakt: veronika.juettemann@uni-muenster.de,...       8\n",
       "3                  [https://twitter.com/@OPALnature]       5\n",
       "4                   [https://twitter.com/@sciathome]       5"
      ]
     },
     "execution_count": 18,
     "metadata": {},
     "output_type": "execute_result"
    }
   ],
   "source": [
    "\n",
    "countsOfMail= filter_mail.value_counts().rename_axis('unique_values').reset_index(name='counts')\n",
    "countsOfMail.to_csv('output/email.csv', index=False, header=True)\n",
    "countsOfMail.head()"
   ]
  },
  {
   "cell_type": "markdown",
   "metadata": {},
   "source": [
    "# 5.8. App (referred to as apps in the database)"
   ]
  },
  {
   "cell_type": "code",
   "execution_count": 19,
   "metadata": {
    "collapsed": false
   },
   "outputs": [
    {
     "data": {
      "text/plain": [
       "count                                                   196\n",
       "unique                                                  159\n",
       "top       [https://play.google.com/store/apps/details?id...\n",
       "freq                                                     12\n",
       "Name: Apps, dtype: object"
      ]
     },
     "execution_count": 19,
     "metadata": {},
     "output_type": "execute_result"
    }
   ],
   "source": [
    "df['Apps'].describe()\n"
   ]
  },
  {
   "cell_type": "code",
   "execution_count": 20,
   "metadata": {
    "collapsed": true
   },
   "outputs": [],
   "source": [
    "df['Apps'].to_csv(\"output/apps.csv\")"
   ]
  },
  {
   "cell_type": "markdown",
   "metadata": {},
   "source": [
    "# 5.9. Project topic (referred to as Topics in the database)"
   ]
  },
  {
   "cell_type": "code",
   "execution_count": 21,
   "metadata": {
    "collapsed": false
   },
   "outputs": [
    {
     "data": {
      "text/plain": [
       "count         1712\n",
       "unique        1304\n",
       "top       [Natuur]\n",
       "freq            64\n",
       "Name: Topics, dtype: object"
      ]
     },
     "execution_count": 21,
     "metadata": {},
     "output_type": "execute_result"
    }
   ],
   "source": [
    "filterTopics = df['Topics'].dropna(how = 'any')\n",
    "filterTopics.describe()"
   ]
  },
  {
   "cell_type": "code",
   "execution_count": 22,
   "metadata": {
    "collapsed": false
   },
   "outputs": [
    {
     "data": {
      "text/html": [
       "<div>\n",
       "<style>\n",
       "    .dataframe thead tr:only-child th {\n",
       "        text-align: right;\n",
       "    }\n",
       "\n",
       "    .dataframe thead th {\n",
       "        text-align: left;\n",
       "    }\n",
       "\n",
       "    .dataframe tbody tr th {\n",
       "        vertical-align: top;\n",
       "    }\n",
       "</style>\n",
       "<table border=\"1\" class=\"dataframe\">\n",
       "  <thead>\n",
       "    <tr style=\"text-align: right;\">\n",
       "      <th></th>\n",
       "      <th>unique_values</th>\n",
       "      <th>counts</th>\n",
       "    </tr>\n",
       "  </thead>\n",
       "  <tbody>\n",
       "    <tr>\n",
       "      <th>0</th>\n",
       "      <td>[Natuur]</td>\n",
       "      <td>64</td>\n",
       "    </tr>\n",
       "    <tr>\n",
       "      <th>1</th>\n",
       "      <td>[TAGS]</td>\n",
       "      <td>45</td>\n",
       "    </tr>\n",
       "    <tr>\n",
       "      <th>2</th>\n",
       "      <td>[ÁREAS DE CONOCIMIENTO: Biodiversidad y medioa...</td>\n",
       "      <td>30</td>\n",
       "    </tr>\n",
       "    <tr>\n",
       "      <th>3</th>\n",
       "      <td>[Natuur, Gezondheid]</td>\n",
       "      <td>29</td>\n",
       "    </tr>\n",
       "    <tr>\n",
       "      <th>4</th>\n",
       "      <td>[Gezondheid]</td>\n",
       "      <td>25</td>\n",
       "    </tr>\n",
       "  </tbody>\n",
       "</table>\n",
       "</div>"
      ],
      "text/plain": [
       "                                       unique_values  counts\n",
       "0                                           [Natuur]      64\n",
       "1                                             [TAGS]      45\n",
       "2  [ÁREAS DE CONOCIMIENTO: Biodiversidad y medioa...      30\n",
       "3                               [Natuur, Gezondheid]      29\n",
       "4                                       [Gezondheid]      25"
      ]
     },
     "execution_count": 22,
     "metadata": {},
     "output_type": "execute_result"
    }
   ],
   "source": [
    "countsOfTopics= filterTopics.value_counts().rename_axis('unique_values').reset_index(name='counts')\n",
    "countsOfTopics.to_csv('output/Topics.csv', index=False, header=True, encoding='utf-8-sig')\n",
    "countsOfTopics.head()"
   ]
  },
  {
   "cell_type": "code",
   "execution_count": 23,
   "metadata": {
    "collapsed": false
   },
   "outputs": [
    {
     "data": {
      "text/plain": [
       "{u'environmental change': None,\n",
       " u'wetlands': None,\n",
       " u'clean-up': None,\n",
       " u'expeditions': None,\n",
       " u'tachyglossus aculeatus': None,\n",
       " u'magnetic': None,\n",
       " u'eastern spotted skunk': None,\n",
       " u'deer%20vehicle%20collision': None,\n",
       " u'range%20map': None,\n",
       " u'woods': None,\n",
       " u'sleep': None,\n",
       " u'spiders': None,\n",
       " u'aviation': None,\n",
       " u'lake%20macquarie': None,\n",
       " u'early%20childhood%20development': None,\n",
       " u'cyprus': None,\n",
       " u'harmful cyanobacteria blooms': None,\n",
       " u'knowledge-based systems': None,\n",
       " u'wildlife%20friendly%20gardening': None,\n",
       " u'amr': None,\n",
       " u'solar%20system': None,\n",
       " u'brain power': None,\n",
       " u'snowing': None,\n",
       " u'Turismo Cient\\xedfico': None,\n",
       " u'range expansion': None,\n",
       " u'halymorpha halys': None,\n",
       " u'nest%20box': None,\n",
       " u'glider': None,\n",
       " u'charles': None,\n",
       " u'bays': None,\n",
       " u'dilated cardiomyopathy': None,\n",
       " u'nrm%20beach%20clean%20up%20marine%20debris%20litter%20pollution': None,\n",
       " u'alternative%20energy': None,\n",
       " u'teaching': None,\n",
       " u'tools & training': None,\n",
       " u'data entry': None,\n",
       " u'natural hazards': None,\n",
       " u'upside-down jellyfish': None,\n",
       " u'loon': None,\n",
       " u'ecosystem services': None,\n",
       " u'price%20discrimination': None,\n",
       " u'rescue': None,\n",
       " u'invasive%20plant': None,\n",
       " u'aurora': None,\n",
       " u'internet': None,\n",
       " u'renewables': None,\n",
       " u'prairie falcons': None,\n",
       " u'Salud y biotecnolog\\xeda ': None,\n",
       " u'TAGS coding': None,\n",
       " u'public%20media': None,\n",
       " u'threatened community': None,\n",
       " u'deer collision': None,\n",
       " u'cropland%20capture': None,\n",
       " u'TAGS health': None,\n",
       " u'D': None,\n",
       " u'ploceidae': None,\n",
       " u'Technologie': None,\n",
       " u'memes': None,\n",
       " u'tagging': None,\n",
       " u'rock%20and%20mineral%20hunting': None,\n",
       " u'school': None,\n",
       " u'snowflakes': None,\n",
       " u'parrot': None,\n",
       " u'naturalist': None,\n",
       " u'citizen%20scientist': None,\n",
       " u'san%20francisco%20public%20library': None,\n",
       " u'cme': None,\n",
       " u'king%20tide': None,\n",
       " u'smart phone app': None,\n",
       " u'tube': None,\n",
       " u'vector': None,\n",
       " u'alpine%20restoration': None,\n",
       " u'math': None,\n",
       " u'wood%20burning': None,\n",
       " u'optical character recognition': None,\n",
       " u'eastern%20bristlebird': None,\n",
       " u'eucalyptus': None,\n",
       " u'plant%20identification': None,\n",
       " u'Medioambiente ': None,\n",
       " u'environment change': None,\n",
       " u'malden river': None,\n",
       " u'rosenbergs': None,\n",
       " u'Salud ': None,\n",
       " u'TAGS australian mammal': None,\n",
       " u'information datasource; information sharing': None,\n",
       " u'TAGS aquila project': None,\n",
       " u'TAGS bird cams': None,\n",
       " u'welfare': None,\n",
       " u'plant conservation': None,\n",
       " u'marine debris': None,\n",
       " u'pulse': None,\n",
       " u'stem%20songs': None,\n",
       " u'ocean ': None,\n",
       " u'environmental archaeology': None,\n",
       " u'native fish': None,\n",
       " u'infiltration': None,\n",
       " u'mosquito lagoon': None,\n",
       " u'watershed%20health': None,\n",
       " u'TAGS arachnid': None,\n",
       " u'znev': None,\n",
       " u'pollard%20walk': None,\n",
       " u'species richness': None,\n",
       " u'TAGS berkeley': None,\n",
       " u'language processing': None,\n",
       " u'brain abnormality': None,\n",
       " u'panama': None,\n",
       " u'white-throated sparrows': None,\n",
       " u'oil%20spills': None,\n",
       " u'asia': None,\n",
       " u'children': None,\n",
       " u'bird%20management': None,\n",
       " u'secchi disk': None,\n",
       " u'words games with words': None,\n",
       " u'human motor system': None,\n",
       " u'glaciers': None,\n",
       " u'sonic booms': None,\n",
       " u'new': None,\n",
       " u'fall': None,\n",
       " u'target neos': None,\n",
       " u'cat%20personality': None,\n",
       " u'hypolithic': None,\n",
       " u'TAGS digitization': None,\n",
       " u'green%20infrastructure': None,\n",
       " u'barometer': None,\n",
       " u'TAGS bottom up': None,\n",
       " u'index survey': None,\n",
       " u'never': None,\n",
       " u'jet propulsion': None,\n",
       " u'anthropology': None,\n",
       " u'birdcalls': None,\n",
       " u'cytisus scoparius': None,\n",
       " u'protection': None,\n",
       " u'china': None,\n",
       " u'bleaching': None,\n",
       " u'statistical modeling': None,\n",
       " u'TAGS boston': None,\n",
       " u'rocky%20shore': None,\n",
       " u'glacial%20meltwater': None,\n",
       " u'data gathering': None,\n",
       " u'oral%20health': None,\n",
       " u'kids': None,\n",
       " u'TAGS acacia': None,\n",
       " u'water%20stream%20river': None,\n",
       " u'leaves': None,\n",
       " u'music of nature': None,\n",
       " u'museums': None,\n",
       " u'cape%20town': None,\n",
       " u'humpback whale': None,\n",
       " u'non-native species': None,\n",
       " u'mentor': None,\n",
       " u'urban%20ecology': None,\n",
       " u'help science': None,\n",
       " u'berks': None,\n",
       " u'xerostomia': None,\n",
       " u'drc': None,\n",
       " u'otters': None,\n",
       " u'natural history museum of los angeles': None,\n",
       " u'\\u0100': None,\n",
       " u'invasion': None,\n",
       " u'water%20clarity': None,\n",
       " u'frass': None,\n",
       " u'sparrows': None,\n",
       " u'wildlife monitoring': None,\n",
       " u\"TAGS alzheimer's\": None,\n",
       " u'parkinson%27s': None,\n",
       " u'large%20pelagic%20species': None,\n",
       " u'TAGS applied artificial intelligence': None,\n",
       " u'astrometry': None,\n",
       " u'whale%20watch': None,\n",
       " u'la jolla': None,\n",
       " u'TAGS education': None,\n",
       " u'koala count': None,\n",
       " u'landscape': None,\n",
       " u'genomics': None,\n",
       " u'the bucket brigade': None,\n",
       " u'participatory%20action%20research': None,\n",
       " u'science%20communication': None,\n",
       " u'apportionment': None,\n",
       " u'TAGS accessible database': None,\n",
       " u'cottontails': None,\n",
       " u'mexico': None,\n",
       " u'data%20gathering': None,\n",
       " u'story': None,\n",
       " u'noise pollution': None,\n",
       " u'indiana mushrooms': None,\n",
       " u'TAGS classroom': None,\n",
       " u'TAGS jchs': None,\n",
       " u'in oceans': None,\n",
       " u'music': None,\n",
       " u'armi': None,\n",
       " u'biological%20invasions': None,\n",
       " u'indiana': None,\n",
       " u'space%20science': None,\n",
       " u'soil%20health': None,\n",
       " u'credo%20detector': None,\n",
       " u'heart%20rate': None,\n",
       " u'solar%20power': None,\n",
       " u'online%20photo': None,\n",
       " u'safe%20sleep': None,\n",
       " u'washington%20d.c.': None,\n",
       " u'populations': None,\n",
       " u'genetic%20genealogy': None,\n",
       " u'research%20methods': None,\n",
       " u'Visualizaci\\xf3n de datos': None,\n",
       " u'equatorial%20guinea': None,\n",
       " u'zero%20energy': None,\n",
       " u'TAGS antarctica': None,\n",
       " u'northeastern%20university': None,\n",
       " u'sort pictures': None,\n",
       " u'organic': None,\n",
       " u'loons': None,\n",
       " u'watershed%20science': None,\n",
       " u'microbial%20research': None,\n",
       " u'koala%20count': None,\n",
       " u'climate change public data': None,\n",
       " u'Ciencias Sociales ': None,\n",
       " u'flora': None,\n",
       " u'household insect invaders': None,\n",
       " u'TAGS satellite': None,\n",
       " u'rights': None,\n",
       " u'monthly%20monitoring': None,\n",
       " u'story map': None,\n",
       " u'marine citizen science': None,\n",
       " u'eclipse': None,\n",
       " u'water%20quality%20monitor': None,\n",
       " u'advocacy': None,\n",
       " u'the%20national%20map': None,\n",
       " u'conventional%20tagging': None,\n",
       " u'swamis': None,\n",
       " u'ccd imaging': None,\n",
       " u'era': None,\n",
       " u'transparency': None,\n",
       " u'color%20scale': None,\n",
       " u'TAGS alps': None,\n",
       " u'coral%20conservation': None,\n",
       " u'tamborine%20mountain': None,\n",
       " u'my': None,\n",
       " u'cat%20tracker': None,\n",
       " u'magnetic%20navigation': None,\n",
       " u'collaboration%20platform': None,\n",
       " u'Social Science': None,\n",
       " u'3d-printing': None,\n",
       " u'TAGS cat': None,\n",
       " u'Arquitectura y/o planificaci\\xf3n del territorio': None,\n",
       " u'international%20space%20station': None,\n",
       " u'household': None,\n",
       " u'dolphin': None,\n",
       " u'india': None,\n",
       " u'cape town': None,\n",
       " u'domes': None,\n",
       " u'honey': None,\n",
       " u'south%20coast': None,\n",
       " u'insectarium': None,\n",
       " u'public health': None,\n",
       " u'environmental%20health': None,\n",
       " u'citzen science': None,\n",
       " u'migrant birds': None,\n",
       " u'bird%20mortality': None,\n",
       " u'TAGS crowdsourcing': None,\n",
       " u'tornadoes': None,\n",
       " u'TAGS high school': None,\n",
       " u'recovery': None,\n",
       " u'credo%20science': None,\n",
       " u'species%20richness': None,\n",
       " u'TAGS citizen science water': None,\n",
       " u'fresh water data': None,\n",
       " u'nuts': None,\n",
       " u'topographic maps': None,\n",
       " u'arachnids': None,\n",
       " u'TAGS bat house': None,\n",
       " u'roaring%20fork%20river': None,\n",
       " u'open government': None,\n",
       " u'toxin': None,\n",
       " u'boats': None,\n",
       " u'TAGS delaware bay': None,\n",
       " u'beach': None,\n",
       " u'trumpeter%20swan': None,\n",
       " u'A': None,\n",
       " u'dialect': None,\n",
       " u'oceans': None,\n",
       " u'minority': None,\n",
       " u'\\xc1REAS DE CONOCIMIENTO: Salud y Biotecnolog\\xeda ': None,\n",
       " u\"cat's claw creeper\": None,\n",
       " u'conductivity': None,\n",
       " u'minke%20whale': None,\n",
       " u'lab': None,\n",
       " u'Ocean': None,\n",
       " u'vocalization': None,\n",
       " u'geographical%20information%20systems': None,\n",
       " u'at night': None,\n",
       " u'urban wildlife': None,\n",
       " u'spring%20soaks': None,\n",
       " u'water%20science%20education': None,\n",
       " u'TAGS dry mouth': None,\n",
       " u'teaching tools': None,\n",
       " u'selfies': None,\n",
       " u'\\xc1REA DE CONOCIMIENTO: Arquitectura y/o planificaci\\xf3n del territorio': None,\n",
       " u'TAGS bats': None,\n",
       " u'water sampling': None,\n",
       " u'playful': None,\n",
       " u'TAGS biocontrol': None,\n",
       " u'fungi': None,\n",
       " u'woods%20hole': None,\n",
       " u'owls': None,\n",
       " u'complexity': None,\n",
       " u'redland%20city%20council': None,\n",
       " u'on-site%20testing': None,\n",
       " u'smorball': None,\n",
       " u'urban forestry': None,\n",
       " u'weber%20county': None,\n",
       " u'tessellations': None,\n",
       " u'archaeology': None,\n",
       " u'wind': None,\n",
       " u'hedgehog': None,\n",
       " u'nyc': None,\n",
       " u'delaware': None,\n",
       " u'soil%20carbon': None,\n",
       " u'TAGS adoptees': None,\n",
       " u'baby%20sleep': None,\n",
       " u'open%20ag%20data%20alliance': None,\n",
       " u'marine%20invertebrate': None,\n",
       " u'water testing': None,\n",
       " u'coastal change': None,\n",
       " u'murray': None,\n",
       " u'TAGS adult education': None,\n",
       " u'microbe': None,\n",
       " u'toads': None,\n",
       " u'relative abundance': None,\n",
       " u'thesis': None,\n",
       " u'nature%20of%20science': None,\n",
       " u'megamovie': None,\n",
       " u'huntly': None,\n",
       " u'bubbles': None,\n",
       " u'natural%20resource%20management': None,\n",
       " u'fir': None,\n",
       " u'TAGS boise': None,\n",
       " u'water%20quaility': None,\n",
       " u'crop damage': None,\n",
       " u'unusual environmental event': None,\n",
       " u'auditory': None,\n",
       " u'vector-borne%20disease': None,\n",
       " u'backpack': None,\n",
       " u'australian%20mammal': None,\n",
       " u'citizen science project': None,\n",
       " u'clean%20rivers%20program': None,\n",
       " u'production': None,\n",
       " u'TAGS child development': None,\n",
       " u'forest ecology': None,\n",
       " u'alpine': None,\n",
       " u'fin': None,\n",
       " u'TAGS eggs': None,\n",
       " u'logic': None,\n",
       " u'TAGS chagas disease': None,\n",
       " u'harlem heat': None,\n",
       " u'animal%20cognition': None,\n",
       " u'dogs': None,\n",
       " u'TAGS balloon': None,\n",
       " u'significant tree': None,\n",
       " u'entomology': None,\n",
       " u'zooniverse': None,\n",
       " u'chesapeake bay': None,\n",
       " u'sick%20wildlife': None,\n",
       " u'natural%20language%20processing': None,\n",
       " u'caterpillar': None,\n",
       " u'giraffe': None,\n",
       " u'middle%20school': None,\n",
       " u'dream%20catchers': None,\n",
       " u'brain%20injury': None,\n",
       " u'lunar impact': None,\n",
       " u'space weather station': None,\n",
       " u'tourism': None,\n",
       " u'TAGS asclepias': None,\n",
       " u'open-source': None,\n",
       " u'streamflow': None,\n",
       " u'grammar': None,\n",
       " u'rocky': None,\n",
       " u'texas butterfly monitoring network': None,\n",
       " u'coastal%20change': None,\n",
       " u'grasslands': None,\n",
       " u'sids': None,\n",
       " u'TICs': None,\n",
       " u'monthly sampling': None,\n",
       " u'dolphin watch': None,\n",
       " u'ventilation': None,\n",
       " u'congo': None,\n",
       " u'newport': None,\n",
       " u'fitness': None,\n",
       " u'acoustic': None,\n",
       " u'invasive plants': None,\n",
       " u'leaf%20pack': None,\n",
       " u'Agriculture': None,\n",
       " u'sound%20level%20measurement': None,\n",
       " u'nautical%20charting': None,\n",
       " u'development': None,\n",
       " u'cartography': None,\n",
       " u'pathogen surveillance': None,\n",
       " u'telescope': None,\n",
       " u'mdb': None,\n",
       " u'monarch%20butterfly': None,\n",
       " u'physical%20science': None,\n",
       " u'disaster response': None,\n",
       " u'spider': None,\n",
       " u'TAGS rivers': None,\n",
       " u'passwords': None,\n",
       " u'rocky intertidal': None,\n",
       " u'environmental%20change': None,\n",
       " u'mill brook': None,\n",
       " u'chiricahua mountains': None,\n",
       " u'TAGS macroinvertebrates': None,\n",
       " u'laboratory': None,\n",
       " u'truman': None,\n",
       " u'collector': None,\n",
       " u'particle physics': None,\n",
       " u'bird feeder': None,\n",
       " u'openlittermap': None,\n",
       " u'network': None,\n",
       " u'harmful algal blooms': None,\n",
       " u'raspberry pi project': None,\n",
       " u'dialects': None,\n",
       " u'TIDES': None,\n",
       " u'cameras': None,\n",
       " u'enviroment': None,\n",
       " u'light%20pollution': None,\n",
       " u'online%20shopping': None,\n",
       " u'cooter': None,\n",
       " u'O': None,\n",
       " u'TAGS field biologist': None,\n",
       " u'stream quality': None,\n",
       " u'TAGS beach clean-up': None,\n",
       " u'global experiment': None,\n",
       " u'medicine': None,\n",
       " u'problem-solving': None,\n",
       " u'TAGS carl sandburg': None,\n",
       " u'cucumber%20beetle': None,\n",
       " u'TAGS columbia river': None,\n",
       " u'waterbug census': None,\n",
       " u'arizona': None,\n",
       " u'bumble%20bee%20keys': None,\n",
       " u'bluebirds': None,\n",
       " u'tissue%20engineering': None,\n",
       " u'cancer research': None,\n",
       " u'citizen science shark': None,\n",
       " u'threatened': None,\n",
       " u'free': None,\n",
       " u'G': None,\n",
       " u'mnemonic devices': None,\n",
       " u'whale%20sharks': None,\n",
       " u'management': None,\n",
       " u'extremophile': None,\n",
       " u'gould%27s': None,\n",
       " u'public participation in research': None,\n",
       " u'sensors': None,\n",
       " u'ringtail': None,\n",
       " u'lakes%20appreciation%20month': None,\n",
       " u'triatomine': None,\n",
       " u'equine': None,\n",
       " u'bird%20count': None,\n",
       " u'data%20entry': None,\n",
       " u'grasses': None,\n",
       " u'soft coral': None,\n",
       " u'cell culture': None,\n",
       " u'filter': None,\n",
       " u'clean rivers program': None,\n",
       " u'ostracods': None,\n",
       " u'fly fishing': None,\n",
       " u'TAGS bees': None,\n",
       " u'TAGS asets': None,\n",
       " u'image%20labelling': None,\n",
       " u'shorebird': None,\n",
       " u'class project': None,\n",
       " u'rare flora threatened flora sydney rotap plants sydney basin': None,\n",
       " u'nha': None,\n",
       " u'highways': None,\n",
       " u'TAGS citizen-science': None,\n",
       " u'nhm': None,\n",
       " u'wasp': None,\n",
       " u'discovery%20bay%20coastal%20park': None,\n",
       " u'coding': None,\n",
       " u'hemlock': None,\n",
       " u'harmful%20algal%20blooms': None,\n",
       " u'new%20england': None,\n",
       " u'bushcare': None,\n",
       " u'TAGS age': None,\n",
       " u'science%20inquiry': None,\n",
       " u'virtual%20lab': None,\n",
       " u'plastic': None,\n",
       " u'diaster': None,\n",
       " u'whale shark': None,\n",
       " u'kelley%20park': None,\n",
       " u'social%20media': None,\n",
       " u'\\xc1REAS DE CONOCIMIENTO: Biodiversidad Y Medioambiente': None,\n",
       " u'TAGS mountain goat': None,\n",
       " u'elephant conservation': None,\n",
       " u'hawks': None,\n",
       " u'ear%20drum': None,\n",
       " u'urban runoff': None,\n",
       " u'TAGS global experiment': None,\n",
       " u'\\xc1REAS DE CONOCIMIENTO:   Arquitectura y planificaci\\xf3n del territorio ': None,\n",
       " u'boating': None,\n",
       " u'human health': None,\n",
       " u'observations': None,\n",
       " u'k-12 classroom': None,\n",
       " u'carbon%20sequestration': None,\n",
       " u'cavalier%20manor': None,\n",
       " u'farming': None,\n",
       " u'zygoptera': None,\n",
       " u'scuba%20divers': None,\n",
       " u'saltspring%20island': None,\n",
       " u'rob dunn lab': None,\n",
       " u'gis data': None,\n",
       " u'urban': None,\n",
       " u'marine%20biology': None,\n",
       " u'rewards': None,\n",
       " u'smokesense': None,\n",
       " u'distributed%20computing': None,\n",
       " u'iMapInvasives is New York State\\u2019s on-line': None,\n",
       " u'TAGS backyard': None,\n",
       " u'near-earth%20asteroid': None,\n",
       " u'vermont': None,\n",
       " u'tidepool': None,\n",
       " u'worldwide%20telescope': None,\n",
       " u'koala%20sightings': None,\n",
       " u'western': None,\n",
       " u'global%20experiment': None,\n",
       " u'may berenbaum': None,\n",
       " u'right whales': None,\n",
       " u'natural%20resources': None,\n",
       " u'accessible%20database': None,\n",
       " u'great%20britian': None,\n",
       " u'solar energy': None,\n",
       " u'urban sound': None,\n",
       " u'data collection': None,\n",
       " u'texas stream team': None,\n",
       " u'hike': None,\n",
       " u'data%20rescue': None,\n",
       " u'meteorology': None,\n",
       " u'tree': None,\n",
       " u'TAGS archaeology': None,\n",
       " u'open%20database': None,\n",
       " u'project': None,\n",
       " u'land%20use%20change': None,\n",
       " u'Psychologie': None,\n",
       " u'gabon': None,\n",
       " u'science education': None,\n",
       " u'historical': None,\n",
       " u'inner west': None,\n",
       " u'meteorological%20phenomena%20identification%20near%20the%20ground': None,\n",
       " u'design': None,\n",
       " u'hacking': None,\n",
       " u'raptor%20nest': None,\n",
       " u'urban development': None,\n",
       " u'bush walking': None,\n",
       " u'clean energy': None,\n",
       " u'donkey': None,\n",
       " u'nesting citizen science': None,\n",
       " u'freedive': None,\n",
       " u'pollination': None,\n",
       " u'pro-am collaboration': None,\n",
       " u'boston': None,\n",
       " u'brown%20dwarfs': None,\n",
       " u'solitary bees': None,\n",
       " u'or eDNA for short. eDNA can include saliva': None,\n",
       " u'TAGS agricultural & veterinary science': None,\n",
       " u'plant%20phenology': None,\n",
       " u'diybio': None,\n",
       " u'TAGS .': None,\n",
       " u'powerful%20owl': None,\n",
       " u'weber county': None,\n",
       " u'tropical%20disease': None,\n",
       " u'glacier%20national%20park': None,\n",
       " u'ray': None,\n",
       " u'senior%20citizents': None,\n",
       " u'eels': None,\n",
       " u'TAGS black flies': None,\n",
       " u'historic%20restoration': None,\n",
       " u'open%20government': None,\n",
       " u'snow': None,\n",
       " u'federal%20government': None,\n",
       " u'ohio': None,\n",
       " u'steller%20sea%20lion': None,\n",
       " u'vegetables': None,\n",
       " u'biogas': None,\n",
       " u'birdwatching': None,\n",
       " u'natural language processing': None,\n",
       " u'columbia%20river': None,\n",
       " u'cultural heritage': None,\n",
       " u'snowflake': None,\n",
       " u'central%20california': None,\n",
       " u'TAGS brain': None,\n",
       " u'TAGS animal calls': None,\n",
       " u'el%20jebel': None,\n",
       " u'birding%20aboard': None,\n",
       " u'sea%20ice': None,\n",
       " u'fungicide': None,\n",
       " u'huntington%27s': None,\n",
       " u'victoria': None,\n",
       " u'marin': None,\n",
       " u'northwest straits': None,\n",
       " u'TAGS camping': None,\n",
       " u'artifact': None,\n",
       " u'fin%20whale': None,\n",
       " u'new%20hampshire': None,\n",
       " u'human%20population': None,\n",
       " u'drought': None,\n",
       " u'TAGS a': None,\n",
       " u'TAGS air': None,\n",
       " u'digestive health': None,\n",
       " u'birdeez': None,\n",
       " u'hemiptera': None,\n",
       " u'crayfish': None,\n",
       " u'non-profit group': None,\n",
       " u'white blood cells': None,\n",
       " u'slider': None,\n",
       " u'tanzania': None,\n",
       " u'urban%20design': None,\n",
       " u'nighttime': None,\n",
       " u'dog': None,\n",
       " u'breathes': None,\n",
       " u'beach%20walk': None,\n",
       " u'swamp': None,\n",
       " u'R': None,\n",
       " u'regardless of scientific experience': None,\n",
       " u'the origin of life': None,\n",
       " u'curio': None,\n",
       " u'nature%20sighting': None,\n",
       " u'color scale': None,\n",
       " u'molluscs': None,\n",
       " u'pefo': None,\n",
       " u'veteran%20tree': None,\n",
       " u'aquatic': None,\n",
       " u'symbyotic interactions': None,\n",
       " u'TAGS arctic': None,\n",
       " u'hunger': None,\n",
       " u'insects': None,\n",
       " u'queen': None,\n",
       " u'tree%20planting': None,\n",
       " u'viriginia': None,\n",
       " u'north america': None,\n",
       " u'baja': None,\n",
       " u'hummingbirds': None,\n",
       " u'baby%20health': None,\n",
       " u'iss%20lightpollution': None,\n",
       " u'earth': None,\n",
       " u'insecta': None,\n",
       " u'nevada': None,\n",
       " u'lessons': None,\n",
       " u'idah2o': None,\n",
       " u'\\xc1REAS DE CONOCIMIENTO: Ingenier\\xeda ': None,\n",
       " u'shellfish': None,\n",
       " u'extension volunteer': None,\n",
       " u'penguin chicks': None,\n",
       " u'TAGS ant': None,\n",
       " u'typha%20x%20glauca': None,\n",
       " u'minnesota': None,\n",
       " u'cougal': None,\n",
       " u'humpback%20whale%20caribbean': None,\n",
       " u'marsupial': None,\n",
       " u'sword ferns': None,\n",
       " u'lepidoptera': None,\n",
       " u'bendigo%20creek': None,\n",
       " u'redland%20city': None,\n",
       " u'natural history museum': None,\n",
       " u'indiana university': None,\n",
       " u'bread': None,\n",
       " u'indiana%20university': None,\n",
       " u'\\u017d': None,\n",
       " u'personality': None,\n",
       " u'human%20computation': None,\n",
       " u'do': None,\n",
       " u'fomalhaut': None,\n",
       " u'TAGS coral': None,\n",
       " u'earthquake monitoring': None,\n",
       " u'cryptography': None,\n",
       " u'inscriptions': None,\n",
       " u'environment and health': None,\n",
       " u'TAGS bee mimics': None,\n",
       " u'watch': None,\n",
       " u'dc': None,\n",
       " u'coast': None,\n",
       " u'geek': None,\n",
       " u'TAGS field work': None,\n",
       " u'amazon': None,\n",
       " u'TAGS british columbia': None,\n",
       " u'tuberculosis': None,\n",
       " u'hierarchical%20model': None,\n",
       " u'report': None,\n",
       " u'TAGS buesseler': None,\n",
       " u'cambridge science festival': None,\n",
       " u'TAGS biology': None,\n",
       " u'marine%20mammal': None,\n",
       " u'agricultural%20&%20veterinary%20science': None,\n",
       " u'rodent': None,\n",
       " u'bat': None,\n",
       " u'non profit': None,\n",
       " u'animal%20calls': None,\n",
       " u'macroinvertebrate': None,\n",
       " u'center for game science': None,\n",
       " u'drug development': None,\n",
       " u'chesapeake': None,\n",
       " u'ipac': None,\n",
       " u'raspberry%20pi': None,\n",
       " u'ocean%20health': None,\n",
       " u'demodex': None,\n",
       " u'stream flow': None,\n",
       " u'civic%20action': None,\n",
       " u'release': None,\n",
       " u'TAGS invasive': None,\n",
       " u'TAGS community': None,\n",
       " u'freshwater': None,\n",
       " u'natural%20system%20of%20classification': None,\n",
       " u'steam': None,\n",
       " u'discovery%20circle': None,\n",
       " u'protists': None,\n",
       " u'lettering': None,\n",
       " u'sea-level%20rise': None,\n",
       " u'disaster': None,\n",
       " u'grand canyon': None,\n",
       " u'padi': None,\n",
       " u'testing': None,\n",
       " u'master naturalists': None,\n",
       " u'Gezondheid': None,\n",
       " u'plumage': None,\n",
       " u'analytics': None,\n",
       " u'arthropods': None,\n",
       " u'marias beach': None,\n",
       " u'citizen%20engaged%20research': None,\n",
       " u'bee': None,\n",
       " u'project budburst': None,\n",
       " u'TAGS crowd source': None,\n",
       " u'TAGS crowd mapping': None,\n",
       " u'Biology': None,\n",
       " u'co2': None,\n",
       " u'blackpoll%20warbler': None,\n",
       " u'invasive%20plants': None,\n",
       " u'TAGS girl scouts': None,\n",
       " u'minority%20languages': None,\n",
       " u'environmental science': None,\n",
       " u'protein folding': None,\n",
       " u'new%20england%20shark': None,\n",
       " u'Water': None,\n",
       " u'web': None,\n",
       " u'catalogue': None,\n",
       " u'score': None,\n",
       " u'geology%20&%20earth%20science': None,\n",
       " u'pets': None,\n",
       " u'early childhood development': None,\n",
       " u'brain%20abnormality': None,\n",
       " u'sloane%27s%20froglet;%20crinia%20sloanei;%20threatened%20frogs': None,\n",
       " u'gut%20health': None,\n",
       " u'machine%20learning': None,\n",
       " u'discovery': None,\n",
       " u'yale%20climate%20connections': None,\n",
       " u'redistricting': None,\n",
       " u'horseshoe%20crab': None,\n",
       " u'reproduction': None,\n",
       " u'wa': None,\n",
       " u'nature': None,\n",
       " u'water quality monitoring': None,\n",
       " u'bethel%20park': None,\n",
       " u'water%20level': None,\n",
       " u'boise': None,\n",
       " u'white-throated%20sparrow': None,\n",
       " u'marine%20litter': None,\n",
       " u'\\xc1REAS DE CONOCIMIENTO: Biodiversidad ': None,\n",
       " u'carbon': None,\n",
       " u'angling': None,\n",
       " u'i%20don%27t%20understand%20the%20%22access%20rules%22%20options%20below': None,\n",
       " u'seismology': None,\n",
       " u'isotopes': None,\n",
       " u'sky%20quality': None,\n",
       " u'climate': None,\n",
       " u'blockchain': None,\n",
       " u'aedes albopictus': None,\n",
       " u'tablet': None,\n",
       " u'target%20neos': None,\n",
       " u'geographic%20variation': None,\n",
       " u'brown%20pelican': None,\n",
       " u'vibration': None,\n",
       " u'butterfly monitoring': None,\n",
       " u'endangered whales': None,\n",
       " u'bell%20minersecologycolonylocation': None,\n",
       " u'water%20quality%20monitoring': None,\n",
       " u'life cycle': None,\n",
       " u'games': None,\n",
       " u'chemical%20sciences': None,\n",
       " u'water%20quality%20education%20monitoring%20streams%20oklahoma': None,\n",
       " u'mosquito; eggs; zika; dengue; australia; queensland; brisbane': None,\n",
       " u'elephant': None,\n",
       " u'birding%20ecology%20migration%20flycatcher%20brazil%20urbanization%20nesting%20citizen%20science%20south%20america%20bird%20outdoors%20avian': None,\n",
       " u'Arquitectura': None,\n",
       " u'photo-inventories': None,\n",
       " u'west nile virus': None,\n",
       " u'bird%20migration': None,\n",
       " u'crop%20yields': None,\n",
       " u'horn%20pond': None,\n",
       " u'snow%20algae': None,\n",
       " u'mutations': None,\n",
       " u'opensourcing': None,\n",
       " u'hygiene': None,\n",
       " u'we will need to work through these': None,\n",
       " u'viruses': None,\n",
       " u'public radio': None,\n",
       " u'climate & weather': None,\n",
       " u'zur Bestimmung und wissenschaftlichen Dokumentation der Pilzfunde sowie zur Herkunft und Quelle der gespeicherten Daten.': None,\n",
       " u'symmetries': None,\n",
       " u'exclusive%20economic%20zone': None,\n",
       " u'india.%20trees.%20banyans': None,\n",
       " u'code': None,\n",
       " u'TAGS dna': None,\n",
       " u'TAGS algonquin provincial park': None,\n",
       " u'herp': None,\n",
       " u'oceanography': None,\n",
       " u'whale%20shark': None,\n",
       " u'seashell': None,\n",
       " u'TAGS autumn': None,\n",
       " u'.': None,\n",
       " u'new%20species': None,\n",
       " u'wildlife conservation': None,\n",
       " u'leaf pack': None,\n",
       " u'bees': None,\n",
       " u'TAGS soil samples': None,\n",
       " u'software%20engineers': None,\n",
       " u'parents': None,\n",
       " u'ocean-dwelling': None,\n",
       " u'Investigaci\\xf3n Educativa': None,\n",
       " u'bird%20cams': None,\n",
       " u'website': None,\n",
       " u'life': None,\n",
       " u'TAGS flowers': None,\n",
       " u'families': None,\n",
       " u'TAGS dialect': None,\n",
       " u'mushroom': None,\n",
       " u'crowd%20mapping': None,\n",
       " u'phytoplankton': None,\n",
       " u'veteran tree': None,\n",
       " u'spectral-database': None,\n",
       " u'huron': None,\n",
       " u'TAGS aquatic species': None,\n",
       " u'decline': None,\n",
       " u'fireballs': None,\n",
       " u'reno': None,\n",
       " u'chile': None,\n",
       " u'catch': None,\n",
       " u'insect%20populations': None,\n",
       " u'wildlife health': None,\n",
       " u'mcs': None,\n",
       " u'gold%20coast': None,\n",
       " u'marine%20debris': None,\n",
       " u'applied': None,\n",
       " u'tiger%20salamander': None,\n",
       " u'marias%20beach': None,\n",
       " u'geospatial technology': None,\n",
       " u' ': None,\n",
       " u'weatherness': None,\n",
       " u'epigenetics': None,\n",
       " u'boy%20scouts': None,\n",
       " u'insect attack': None,\n",
       " u'redland city council': None,\n",
       " u'air': None,\n",
       " u'watershed science': None,\n",
       " u'lizard': None,\n",
       " u'slo': None,\n",
       " u'birdlife%20australia': None,\n",
       " u'teachers': None,\n",
       " u'TAGS freeware': None,\n",
       " u'library%20summer%20reading%202020': None,\n",
       " u'goldberg': None,\n",
       " u'hybridization': None,\n",
       " u'flooding': None,\n",
       " u'study': None,\n",
       " u'new england shark': None,\n",
       " u'climate change impacts': None,\n",
       " u'TAGS bioprinting': None,\n",
       " u'plover': None,\n",
       " u'uganda': None,\n",
       " u'cyclones': None,\n",
       " u'beetles': None,\n",
       " u'riparian': None,\n",
       " u'TAGS aids': None,\n",
       " u'handwritten': None,\n",
       " u'natural%20pesticide': None,\n",
       " u'TAGS code': None,\n",
       " u'protein%20synthesis': None,\n",
       " u'water%20issues': None,\n",
       " u'trilobites': None,\n",
       " u'il': None,\n",
       " u'in': None,\n",
       " u'TAGS 2017 eclipse': None,\n",
       " u'piping%20plover': None,\n",
       " u'community%20monitoring': None,\n",
       " u'seattle': None,\n",
       " u'rare%20plants': None,\n",
       " u'the%20bucket%20brigade': None,\n",
       " u'opuntia robusta': None,\n",
       " u'sea%20animal': None,\n",
       " u'TAGS circle peacemaking': None,\n",
       " u'public media': None,\n",
       " u'student%20project': None,\n",
       " u'seashore': None,\n",
       " u'hearing loss': None,\n",
       " u'central%20queensland': None,\n",
       " u'retirees': None,\n",
       " u'wound': None,\n",
       " u'TAGS bugs': None,\n",
       " u'emergency response': None,\n",
       " u'sonic%20booms': None,\n",
       " u'coronavirus': None,\n",
       " u'insect populations': None,\n",
       " u'anecdata': None,\n",
       " u'babies': None,\n",
       " u'eucalypt': None,\n",
       " u'field%20survey': None,\n",
       " u'monarch': None,\n",
       " u'information%20&%20computing%20sciences': None,\n",
       " u'fieldwork': None,\n",
       " u'TAGS early detection': None,\n",
       " u'vegetable': None,\n",
       " u'satellite': None,\n",
       " u'coast-line': None,\n",
       " u'smoke': None,\n",
       " u'TAGS forestry': None,\n",
       " u'decision-making': None,\n",
       " u'Matem\\xe1ticas': None,\n",
       " u'grey literature': None,\n",
       " u'rain': None,\n",
       " u'the national map': None,\n",
       " u'asteroids': None,\n",
       " u'beach%20clean-up': None,\n",
       " u'\\xc1REA DE CONOCIMIENTO: Biodiversidad': None,\n",
       " u'drinking%20water': None,\n",
       " u'TAGS cambrian': None,\n",
       " u'new%20mexico': None,\n",
       " u'open standards data': None,\n",
       " u'tuna': None,\n",
       " u'gut morphology': None,\n",
       " u'may%20berenbaum': None,\n",
       " u'water%20testing': None,\n",
       " u'antibiotic resistance': None,\n",
       " u'introduced plant': None,\n",
       " u'toxicity': None,\n",
       " u'cormorant': None,\n",
       " u'TAGS drinking water': None,\n",
       " u'shelter': None,\n",
       " u'tremont institute': None,\n",
       " u'basking%20sharks': None,\n",
       " u'south-west%20victoria': None,\n",
       " u'T': None,\n",
       " u'ocean': None,\n",
       " u'cranes': None,\n",
       " u'manchester museum': None,\n",
       " u'imperial beach': None,\n",
       " u'data extraction': None,\n",
       " u'narrandera': None,\n",
       " u'TAGS arduino': None,\n",
       " u'atmega%201284%20spectrometer%203d-printing%20analytical-instrument%20atmega%202560ccd%20detector%20raman-spectrometer%203d-parts': None,\n",
       " u'disease%20research': None,\n",
       " u'the': None,\n",
       " u'marsupials': None,\n",
       " u'spatial%20skills': None,\n",
       " u'national%20geographic': None,\n",
       " u'wetland': None,\n",
       " u'epa': None,\n",
       " u'seasonal': None,\n",
       " u\"sloane's froglet; crinia sloanei; threatened frogs\": None,\n",
       " u'threatened%20species': None,\n",
       " u'national%20koala%20map': None,\n",
       " u'aridification': None,\n",
       " u'photo': None,\n",
       " u'digitization': None,\n",
       " u'lakes appreciation month': None,\n",
       " u'citizen%20science': None,\n",
       " u'mosquito;%20eggs;%20zika;%20dengue;%20australia;%20queensland;%20brisbane': None,\n",
       " u'rubber%20vine': None,\n",
       " u'squrrel': None,\n",
       " u'TAGS bioacoustics': None,\n",
       " u'identify': None,\n",
       " u'gebco': None,\n",
       " u'human': None,\n",
       " u'falcon': None,\n",
       " u'TAGS 3d models': None,\n",
       " u'bird%20data': None,\n",
       " u'south australia': None,\n",
       " u'monitoring data': None,\n",
       " u'field work': None,\n",
       " u'air quality index': None,\n",
       " u'rosenberg': None,\n",
       " u'elm': None,\n",
       " u'cornell': None,\n",
       " u'marine%20turtles': None,\n",
       " u'environment%20and%20health': None,\n",
       " u'TAGS asian elephants': None,\n",
       " u'water%20conservation': None,\n",
       " u'skill%20decay': None,\n",
       " u'brahminy kite': None,\n",
       " u'kelp': None,\n",
       " u'ufnativebuzz': None,\n",
       " u'botanists': None,\n",
       " u'east': None,\n",
       " u'ecology%20&%20environment%20nature%20&%20outdoors%20ecology%20biodiversity%20nsw%20animals%20birds%20national%20park': None,\n",
       " u'pleants': None,\n",
       " ...}"
      ]
     },
     "execution_count": 23,
     "metadata": {},
     "output_type": "execute_result"
    }
   ],
   "source": [
    "#types of topics extraction\n",
    "\n",
    "topicsDict = {}\n",
    "\n",
    "\n",
    "for record in filterTopics:\n",
    "    for j in record:\n",
    "        processed = j.replace(\"TOPICS \",'') #remove type of activity string\n",
    "        #print(x)\n",
    "        for noComa in processed.split(\", \"): #remove unwanted comma\n",
    "            topicTypes = noComa.replace(\",\", '')\n",
    "            if not topicTypes: #remove no values\n",
    "                continue   \n",
    "            else:\n",
    "                topicsDict.setdefault(topicTypes)\n",
    "\n",
    "            \n",
    "topicsDict"
   ]
  },
  {
   "cell_type": "markdown",
   "metadata": {},
   "source": [
    "# 5.10. Methodology"
   ]
  },
  {
   "cell_type": "code",
   "execution_count": 24,
   "metadata": {
    "collapsed": false
   },
   "outputs": [
    {
     "data": {
      "text/plain": [
       "count                                                  1653\n",
       "unique                                                 1582\n",
       "top       [This project has no frequently asked question...\n",
       "freq                                                     20\n",
       "Name: Methodology, dtype: object"
      ]
     },
     "execution_count": 24,
     "metadata": {},
     "output_type": "execute_result"
    }
   ],
   "source": [
    "filter_methods = df['Methodology'].dropna(how = 'any')\n",
    "filter_methods.describe()"
   ]
  },
  {
   "cell_type": "code",
   "execution_count": 25,
   "metadata": {
    "collapsed": false
   },
   "outputs": [
    {
     "data": {
      "text/html": [
       "<div>\n",
       "<style>\n",
       "    .dataframe thead tr:only-child th {\n",
       "        text-align: right;\n",
       "    }\n",
       "\n",
       "    .dataframe thead th {\n",
       "        text-align: left;\n",
       "    }\n",
       "\n",
       "    .dataframe tbody tr th {\n",
       "        vertical-align: top;\n",
       "    }\n",
       "</style>\n",
       "<table border=\"1\" class=\"dataframe\">\n",
       "  <thead>\n",
       "    <tr style=\"text-align: right;\">\n",
       "      <th></th>\n",
       "      <th>unique_values</th>\n",
       "      <th>counts</th>\n",
       "    </tr>\n",
       "  </thead>\n",
       "  <tbody>\n",
       "    <tr>\n",
       "      <th>0</th>\n",
       "      <td>[This project has no frequently asked question...</td>\n",
       "      <td>20</td>\n",
       "    </tr>\n",
       "    <tr>\n",
       "      <th>1</th>\n",
       "      <td>[1. Why isn’t there an “I don’t know” or “unid...</td>\n",
       "      <td>15</td>\n",
       "    </tr>\n",
       "    <tr>\n",
       "      <th>2</th>\n",
       "      <td>[TASK Increase knowledge of specific species.,...</td>\n",
       "      <td>11</td>\n",
       "    </tr>\n",
       "    <tr>\n",
       "      <th>3</th>\n",
       "      <td>[1. Why isn’t there an “I don’t know” or “unid...</td>\n",
       "      <td>8</td>\n",
       "    </tr>\n",
       "    <tr>\n",
       "      <th>4</th>\n",
       "      <td>[TASK .]</td>\n",
       "      <td>5</td>\n",
       "    </tr>\n",
       "  </tbody>\n",
       "</table>\n",
       "</div>"
      ],
      "text/plain": [
       "                                       unique_values  counts\n",
       "0  [This project has no frequently asked question...      20\n",
       "1  [1. Why isn’t there an “I don’t know” or “unid...      15\n",
       "2  [TASK Increase knowledge of specific species.,...      11\n",
       "3  [1. Why isn’t there an “I don’t know” or “unid...       8\n",
       "4                                           [TASK .]       5"
      ]
     },
     "execution_count": 25,
     "metadata": {},
     "output_type": "execute_result"
    }
   ],
   "source": [
    "\n",
    "countsOfMethods= filter_methods.value_counts().rename_axis('unique_values').reset_index(name='counts')\n",
    "countsOfMethods.to_csv('output/Methodology.csv', index=False, header=True, encoding='utf-8-sig')\n",
    "countsOfMethods.head()"
   ]
  },
  {
   "cell_type": "markdown",
   "metadata": {},
   "source": [
    "# 5.11. Tools or materials (educatorMaterials) (referred to as Tools in the database)"
   ]
  },
  {
   "cell_type": "code",
   "execution_count": 26,
   "metadata": {
    "collapsed": false
   },
   "outputs": [
    {
     "data": {
      "text/plain": [
       "count      6795\n",
       "unique      562\n",
       "top       [any]\n",
       "freq       5651\n",
       "Name: Tools And Materials, dtype: object"
      ]
     },
     "execution_count": 26,
     "metadata": {},
     "output_type": "execute_result"
    }
   ],
   "source": [
    "filter_tools = df['Tools And Materials'].dropna(how = 'any')\n",
    "filter_tools.describe()"
   ]
  },
  {
   "cell_type": "code",
   "execution_count": 27,
   "metadata": {
    "collapsed": false
   },
   "outputs": [
    {
     "data": {
      "text/html": [
       "<div>\n",
       "<style>\n",
       "    .dataframe thead tr:only-child th {\n",
       "        text-align: right;\n",
       "    }\n",
       "\n",
       "    .dataframe thead th {\n",
       "        text-align: left;\n",
       "    }\n",
       "\n",
       "    .dataframe tbody tr th {\n",
       "        vertical-align: top;\n",
       "    }\n",
       "</style>\n",
       "<table border=\"1\" class=\"dataframe\">\n",
       "  <thead>\n",
       "    <tr style=\"text-align: right;\">\n",
       "      <th></th>\n",
       "      <th>unique_values</th>\n",
       "      <th>counts</th>\n",
       "    </tr>\n",
       "  </thead>\n",
       "  <tbody>\n",
       "    <tr>\n",
       "      <th>0</th>\n",
       "      <td>[any]</td>\n",
       "      <td>5651</td>\n",
       "    </tr>\n",
       "    <tr>\n",
       "      <th>1</th>\n",
       "      <td>[Foto]</td>\n",
       "      <td>484</td>\n",
       "    </tr>\n",
       "    <tr>\n",
       "      <th>2</th>\n",
       "      <td>[ any, any]</td>\n",
       "      <td>60</td>\n",
       "    </tr>\n",
       "    <tr>\n",
       "      <th>3</th>\n",
       "      <td>[MATERIALS Access to a phone or tablet/laptop]</td>\n",
       "      <td>12</td>\n",
       "    </tr>\n",
       "    <tr>\n",
       "      <th>4</th>\n",
       "      <td>[Sonidos]</td>\n",
       "      <td>8</td>\n",
       "    </tr>\n",
       "  </tbody>\n",
       "</table>\n",
       "</div>"
      ],
      "text/plain": [
       "                                    unique_values  counts\n",
       "0                                           [any]    5651\n",
       "1                                          [Foto]     484\n",
       "2                                     [ any, any]      60\n",
       "3  [MATERIALS Access to a phone or tablet/laptop]      12\n",
       "4                                       [Sonidos]       8"
      ]
     },
     "execution_count": 27,
     "metadata": {},
     "output_type": "execute_result"
    }
   ],
   "source": [
    "countsOfTools= filter_tools.value_counts().rename_axis('unique_values').reset_index(name='counts')\n",
    "countsOfTools.to_csv('output/Tools.csv', index=False, header=True, encoding='utf-8-sig')\n",
    "countsOfTools.head()"
   ]
  },
  {
   "cell_type": "markdown",
   "metadata": {},
   "source": [
    "# 5.12. Number Of Members"
   ]
  },
  {
   "cell_type": "code",
   "execution_count": 28,
   "metadata": {
    "collapsed": false
   },
   "outputs": [
    {
     "data": {
      "text/plain": [
       "count                                             16\n",
       "unique                                             5\n",
       "top       [PÚBLICO ALCANZADO: 10 -100 participantes]\n",
       "freq                                               5\n",
       "Name: Number Of Members, dtype: object"
      ]
     },
     "execution_count": 28,
     "metadata": {},
     "output_type": "execute_result"
    }
   ],
   "source": [
    "filter_members = df['Number Of Members'].dropna(how = 'any')\n",
    "filter_members.describe()"
   ]
  },
  {
   "cell_type": "code",
   "execution_count": 29,
   "metadata": {
    "collapsed": false
   },
   "outputs": [
    {
     "name": "stdout",
     "output_type": "stream",
     "text": [
      "                                      unique_values  counts\n",
      "0        [PÚBLICO ALCANZADO: 10 -100 participantes]       5\n",
      "1         [PÚBLICO ALCANZADO: Todo tipo de público]       5\n",
      "2      [PÚBLICO ALCANZADO: 100 -1000 participantes]       4\n",
      "3  [PÚBLICO ALCANZADO: 10000 -100000 participantes]       1\n",
      "4    [PÚBLICO ALCANZADO: 1000 -10000 participantes]       1\n"
     ]
    }
   ],
   "source": [
    "countsOfMembers= filter_members.value_counts().rename_axis('unique_values').reset_index(name='counts')\n",
    "print (countsOfMembers)"
   ]
  },
  {
   "cell_type": "markdown",
   "metadata": {},
   "source": [
    "# 5.13.  Member Age"
   ]
  },
  {
   "cell_type": "code",
   "execution_count": 30,
   "metadata": {
    "collapsed": false
   },
   "outputs": [
    {
     "data": {
      "text/plain": [
       "count                                                   880\n",
       "unique                                                  711\n",
       "top       [IDEAL AGE GROUP Elementary school (6 - 10 yea...\n",
       "freq                                                     19\n",
       "Name: Member Age, dtype: object"
      ]
     },
     "execution_count": 30,
     "metadata": {},
     "output_type": "execute_result"
    }
   ],
   "source": [
    "filter_mem_age = df['Member Age'].dropna(how = 'any')\n",
    "filter_mem_age.describe()"
   ]
  },
  {
   "cell_type": "code",
   "execution_count": 31,
   "metadata": {
    "collapsed": false
   },
   "outputs": [
    {
     "data": {
      "text/html": [
       "<div>\n",
       "<style>\n",
       "    .dataframe thead tr:only-child th {\n",
       "        text-align: right;\n",
       "    }\n",
       "\n",
       "    .dataframe thead th {\n",
       "        text-align: left;\n",
       "    }\n",
       "\n",
       "    .dataframe tbody tr th {\n",
       "        vertical-align: top;\n",
       "    }\n",
       "</style>\n",
       "<table border=\"1\" class=\"dataframe\">\n",
       "  <thead>\n",
       "    <tr style=\"text-align: right;\">\n",
       "      <th></th>\n",
       "      <th>unique_values</th>\n",
       "      <th>counts</th>\n",
       "    </tr>\n",
       "  </thead>\n",
       "  <tbody>\n",
       "    <tr>\n",
       "      <th>0</th>\n",
       "      <td>[IDEAL AGE GROUP Elementary school (6 - 10 yea...</td>\n",
       "      <td>19</td>\n",
       "    </tr>\n",
       "    <tr>\n",
       "      <th>1</th>\n",
       "      <td>[IDEAL AGE GROUP Middle school (11 - 13 years)...</td>\n",
       "      <td>17</td>\n",
       "    </tr>\n",
       "    <tr>\n",
       "      <th>2</th>\n",
       "      <td>[IDEAL AGE GROUP Elementary school (6 - 10 yea...</td>\n",
       "      <td>16</td>\n",
       "    </tr>\n",
       "    <tr>\n",
       "      <th>3</th>\n",
       "      <td>[IDEAL AGE GROUP College, Graduate students, A...</td>\n",
       "      <td>15</td>\n",
       "    </tr>\n",
       "    <tr>\n",
       "      <th>4</th>\n",
       "      <td>[IDEAL AGE GROUP High school (14 - 17 years), ...</td>\n",
       "      <td>11</td>\n",
       "    </tr>\n",
       "  </tbody>\n",
       "</table>\n",
       "</div>"
      ],
      "text/plain": [
       "                                       unique_values  counts\n",
       "0  [IDEAL AGE GROUP Elementary school (6 - 10 yea...      19\n",
       "1  [IDEAL AGE GROUP Middle school (11 - 13 years)...      17\n",
       "2  [IDEAL AGE GROUP Elementary school (6 - 10 yea...      16\n",
       "3  [IDEAL AGE GROUP College, Graduate students, A...      15\n",
       "4  [IDEAL AGE GROUP High school (14 - 17 years), ...      11"
      ]
     },
     "execution_count": 31,
     "metadata": {},
     "output_type": "execute_result"
    }
   ],
   "source": [
    "countsOfAgeGroup= filter_mem_age.value_counts().rename_axis('unique_values').reset_index(name='counts')\n",
    "countsOfAgeGroup.to_csv('output/age.csv', index=False, header=True)\n",
    "countsOfAgeGroup.head()"
   ]
  },
  {
   "cell_type": "code",
   "execution_count": 32,
   "metadata": {
    "collapsed": false
   },
   "outputs": [
    {
     "data": {
      "text/plain": [
       "{u' ': None,\n",
       " u' Adults, College, Elementary school (6 - 10 years), Graduate students, Families,': None,\n",
       " u' Adults, College, Elementary school (6 - 10 years), Graduate students, Families, High school (14 - 17 years), Middle school (11 - 13 years),': None,\n",
       " u' Adults, College, Elementary school (6 - 10 years), High school (14 - 17 years), Graduate students, Middle school (11 - 13 years), Families,': None,\n",
       " u' Adults, College, Elementary school (6 - 10 years), Middle school (11 - 13 years), Graduate students, Families, High school (14 - 17 years),': None,\n",
       " u' Adults, College, Families, Seniors, Elementary school (6 - 10 years), Graduate students,': None,\n",
       " u' Adults, College, Families, Seniors, Graduate students, High school (14 - 17 years),': None,\n",
       " u' Adults, College, Graduate students,': None,\n",
       " u' Adults, College, Graduate students, Elementary school (6 - 10 years), Middle school (11 - 13 years), Seniors, High school (14 - 17 years), Families,': None,\n",
       " u' Adults, College, Graduate students, High school (14 - 17 years),': None,\n",
       " u' Adults, College, Graduate students, High school (14 - 17 years), Middle school (11 - 13 years), Elementary school (6 - 10 years), Seniors, Families,': None,\n",
       " u' Adults, College, Graduate students, Seniors, Families, High school (14 - 17 years),': None,\n",
       " u' Adults, College, High school (14 - 17 years),': None,\n",
       " u' Adults, College, High school (14 - 17 years), Families, Middle school (11 - 13 years), Seniors, Graduate students, Elementary school (6 - 10 years),': None,\n",
       " u' Adults, College, High school (14 - 17 years), Graduate students,': None,\n",
       " u' Adults, College, High school (14 - 17 years), Graduate students, Seniors,': None,\n",
       " u' Adults, College, Middle school (11 - 13 years), Seniors, High school (14 - 17 years), Families, Graduate students,': None,\n",
       " u' Adults, College, Seniors, Elementary school (6 - 10 years), High school (14 - 17 years), Families, Graduate students, Middle school (11 - 13 years),': None,\n",
       " u' Adults, College, Seniors, Graduate students, Families,': None,\n",
       " u' Adults, Elementary school (6 - 10 years), College, Graduate students, Middle school (11 - 13 years), High school (14 - 17 years), Families,': None,\n",
       " u' Adults, Elementary school (6 - 10 years), College, Graduate students, Middle school (11 - 13 years), High school (14 - 17 years), Seniors, Families,': None,\n",
       " u' Adults, Elementary school (6 - 10 years), Families,': None,\n",
       " u' Adults, Elementary school (6 - 10 years), Families, Middle school (11 - 13 years), College, High school (14 - 17 years), Graduate students,': None,\n",
       " u' Adults, Elementary school (6 - 10 years), Families, Middle school (11 - 13 years), High school (14 - 17 years),': None,\n",
       " u' Adults, Elementary school (6 - 10 years), Middle school (11 - 13 years), Families, College, High school (14 - 17 years), Graduate students,': None,\n",
       " u' Adults, Elementary school (6 - 10 years), Middle school (11 - 13 years), High school (14 - 17 years), College, Graduate students, Families,': None,\n",
       " u' Adults, Elementary school (6 - 10 years), Middle school (11 - 13 years), Seniors, Families, College, High school (14 - 17 years), Graduate students,': None,\n",
       " u' Adults, Families, College, Graduate students, Elementary school (6 - 10 years), Middle school (11 - 13 years), Seniors, High school (14 - 17 years),': None,\n",
       " u' Adults, Families, Elementary school (6 - 10 years),': None,\n",
       " u' Adults, Families, Elementary school (6 - 10 years), College, Graduate students,': None,\n",
       " u' Adults, Families, Elementary school (6 - 10 years), Graduate students, Middle school (11 - 13 years), High school (14 - 17 years), Seniors, College,': None,\n",
       " u' Adults, Families, Elementary school (6 - 10 years), High school (14 - 17 years), Middle school (11 - 13 years), College, Graduate students, Seniors,': None,\n",
       " u' Adults, Families, Elementary school (6 - 10 years), Middle school (11 - 13 years), Graduate students, High school (14 - 17 years), College,': None,\n",
       " u' Adults, Families, Elementary school (6 - 10 years), Middle school (11 - 13 years), High school (14 - 17 years), Graduate students, College, Seniors,': None,\n",
       " u' Adults, Families, Graduate students, Elementary school (6 - 10 years), High school (14 - 17 years), Middle school (11 - 13 years), College,': None,\n",
       " u' Adults, Families, Graduate students, Elementary school (6 - 10 years), Middle school (11 - 13 years), High school (14 - 17 years), College,': None,\n",
       " u' Adults, Families, Graduate students, Middle school (11 - 13 years), College, High school (14 - 17 years), Seniors, Elementary school (6 - 10 years),': None,\n",
       " u' Adults, Families, High school (14 - 17 years), College,': None,\n",
       " u' Adults, Families, High school (14 - 17 years), College, Graduate students, Seniors,': None,\n",
       " u' Adults, Families, High school (14 - 17 years), Elementary school (6 - 10 years), Seniors, College, Middle school (11 - 13 years), Graduate students,': None,\n",
       " u' Adults, Families, High school (14 - 17 years), Middle school (11 - 13 years), College, Graduate students,': None,\n",
       " u' Adults, Families, High school (14 - 17 years), Seniors,': None,\n",
       " u' Adults, Families, Middle school (11 - 13 years), College, High school (14 - 17 years), Graduate students, Elementary school (6 - 10 years),': None,\n",
       " u' Adults, Families, Middle school (11 - 13 years), Elementary school (6 - 10 years), High school (14 - 17 years), College, Graduate students,': None,\n",
       " u' Adults, Families, Middle school (11 - 13 years), High school (14 - 17 years),': None,\n",
       " u' Adults, Families, Middle school (11 - 13 years), High school (14 - 17 years), , College, Graduate students,': None,\n",
       " u' Adults, Families, Middle school (11 - 13 years), High school (14 - 17 years), College, Graduate students,': None,\n",
       " u' Adults, Families, Seniors, High school (14 - 17 years), Graduate students, College,': None,\n",
       " u' Adults, Families, Seniors, High school (14 - 17 years), Middle school (11 - 13 years), Graduate students, College,': None,\n",
       " u' Adults, Graduate students, College,': None,\n",
       " u' Adults, Graduate students, College, Elementary school (6 - 10 years), Middle school (11 - 13 years), High school (14 - 17 years), Families, Seniors,': None,\n",
       " u' Adults, Graduate students, College, Families, Seniors,': None,\n",
       " u' Adults, Graduate students, College, High school (14 - 17 years),': None,\n",
       " u' Adults, Graduate students, College, High school (14 - 17 years), Middle school (11 - 13 years),': None,\n",
       " u' Adults, Graduate students, College, High school (14 - 17 years), Seniors, Families, Middle school (11 - 13 years), Elementary school (6 - 10 years),': None,\n",
       " u' Adults, Graduate students, Elementary school (6 - 10 years), Families, College,': None,\n",
       " u' Adults, Graduate students, Elementary school (6 - 10 years), High school (14 - 17 years), Middle school (11 - 13 years), College, Families,': None,\n",
       " u' Adults, Graduate students, Families, College,': None,\n",
       " u' Adults, Graduate students, Families, High school (14 - 17 years), Elementary school (6 - 10 years), College, Middle school (11 - 13 years), Seniors,': None,\n",
       " u' Adults, Graduate students, Families, Middle school (11 - 13 years), Elementary school (6 - 10 years), High school (14 - 17 years), College,': None,\n",
       " u' Adults, Graduate students, Families, Middle school (11 - 13 years), High school (14 - 17 years), College, Seniors,': None,\n",
       " u' Adults, Graduate students, Families, Seniors, College, High school (14 - 17 years),': None,\n",
       " u' Adults, Graduate students, Families, Seniors, High school (14 - 17 years), College,': None,\n",
       " u' Adults, Graduate students, High school (14 - 17 years), College,': None,\n",
       " u' Adults, Graduate students, Middle school (11 - 13 years), College, High school (14 - 17 years),': None,\n",
       " u' Adults, Graduate students, Middle school (11 - 13 years), High school (14 - 17 years), College,': None,\n",
       " u' Adults, Graduate students, Seniors, College,': None,\n",
       " u' Adults, Graduate students, Seniors, College, High school (14 - 17 years), Middle school (11 - 13 years),': None,\n",
       " u' Adults, Graduate students, Seniors, Elementary school (6 - 10 years), High school (14 - 17 years), College, Families, Middle school (11 - 13 years),': None,\n",
       " u' Adults, High school (14 - 17 years), College, Families, Middle school (11 - 13 years), Seniors, Graduate students,': None,\n",
       " u' Adults, High school (14 - 17 years), College, Graduate students,': None,\n",
       " u' Adults, High school (14 - 17 years), College, Graduate students, Elementary school (6 - 10 years), Families, Middle school (11 - 13 years),': None,\n",
       " u' Adults, High school (14 - 17 years), College, Graduate students, Seniors,': None,\n",
       " u' Adults, High school (14 - 17 years), College, Middle school (11 - 13 years), Graduate students,': None,\n",
       " u' Adults, High school (14 - 17 years), Families, Elementary school (6 - 10 years), Middle school (11 - 13 years), College, Graduate students, Seniors,': None,\n",
       " u' Adults, High school (14 - 17 years), Families, Middle school (11 - 13 years), Elementary school (6 - 10 years), Graduate students, College,': None,\n",
       " u' Adults, High school (14 - 17 years), Families, Seniors, Graduate students, College,': None,\n",
       " u' Adults, High school (14 - 17 years), Middle school (11 - 13 years), Elementary school (6 - 10 years), College, Graduate students, Seniors, Families,': None,\n",
       " u' Adults, High school (14 - 17 years), Seniors, College, Graduate students, Families,': None,\n",
       " u' Adults, Middle school (11 - 13 years), College, Graduate students, Elementary school (6 - 10 years), Seniors, High school (14 - 17 years), Families,': None,\n",
       " u' Adults, Middle school (11 - 13 years), College, High school (14 - 17 years), Elementary school (6 - 10 years), Graduate students, Families,': None,\n",
       " u' Adults, Middle school (11 - 13 years), Elementary school (6 - 10 years), High school (14 - 17 years), College,': None,\n",
       " u' Adults, Middle school (11 - 13 years), Elementary school (6 - 10 years), High school (14 - 17 years), Graduate students, College, Families,': None,\n",
       " u' Adults, Middle school (11 - 13 years), Families, Graduate students, College, High school (14 - 17 years), Elementary school (6 - 10 years),': None,\n",
       " u' Adults, Middle school (11 - 13 years), Graduate students, College, High school (14 - 17 years),': None,\n",
       " u' Adults, Middle school (11 - 13 years), Graduate students, Elementary school (6 - 10 years), High school (14 - 17 years), Families, College,': None,\n",
       " u' Adults, Middle school (11 - 13 years), Graduate students, Families, High school (14 - 17 years), College,': None,\n",
       " u' Adults, Middle school (11 - 13 years), Graduate students, High school (14 - 17 years), College, Elementary school (6 - 10 years), Families,': None,\n",
       " u' Adults, Middle school (11 - 13 years), Graduate students, Seniors, Elementary school (6 - 10 years), College, Families, High school (14 - 17 years),': None,\n",
       " u' Adults, Middle school (11 - 13 years), High school (14 - 17 years), College, Graduate students,': None,\n",
       " u' Adults, Middle school (11 - 13 years), High school (14 - 17 years), College, Graduate students, Elementary school (6 - 10 years),': None,\n",
       " u' Adults, Middle school (11 - 13 years), Seniors, Elementary school (6 - 10 years), College, High school (14 - 17 years), Graduate students, Families,': None,\n",
       " u' Adults, Seniors, College, Families, High school (14 - 17 years), Graduate students,': None,\n",
       " u' Adults, Seniors, Families,': None,\n",
       " u' Adults, Seniors, Families, Graduate students, College,': None,\n",
       " u' Adults, Seniors, Families, Graduate students, College, High school (14 - 17 years),': None,\n",
       " u' Adults, Seniors, Graduate students, College, Families,': None,\n",
       " u' Adults, Seniors, Graduate students, Families,': None,\n",
       " u' Adults, Seniors, High school (14 - 17 years), College, Graduate students,': None,\n",
       " u' Adults, Seniors, High school (14 - 17 years), Families,': None,\n",
       " u' Adults, Seniors, Middle school (11 - 13 years), College, Graduate students, High school (14 - 17 years), Families,': None,\n",
       " u' College, Adults, Elementary school (6 - 10 years), Middle school (11 - 13 years), High school (14 - 17 years), Graduate students, Families, Seniors,': None,\n",
       " u' College, Adults, Families, Elementary school (6 - 10 years), Graduate students,': None,\n",
       " u' College, Adults, Families, Elementary school (6 - 10 years), High school (14 - 17 years), Graduate students, Middle school (11 - 13 years),': None,\n",
       " u' College, Adults, Families, Graduate students, Seniors,': None,\n",
       " u' College, Adults, Families, High school (14 - 17 years), Middle school (11 - 13 years), Graduate students, Elementary school (6 - 10 years),': None,\n",
       " u' College, Adults, Families, Middle school (11 - 13 years), High school (14 - 17 years), Elementary school (6 - 10 years), Graduate students,': None,\n",
       " u' College, Adults, Families, Seniors, Graduate students,': None,\n",
       " u' College, Adults, Graduate students,': None,\n",
       " u' College, Adults, Graduate students, Families, Elementary school (6 - 10 years), Middle school (11 - 13 years), High school (14 - 17 years),': None,\n",
       " u' College, Adults, Graduate students, Families, High school (14 - 17 years), Seniors,': None,\n",
       " u' College, Adults, Graduate students, High school (14 - 17 years), Families, Seniors,': None,\n",
       " u' College, Adults, Graduate students, Seniors,': None,\n",
       " u' College, Adults, Graduate students, Seniors, Families,': None,\n",
       " u' College, Adults, Graduate students, Seniors, Families, High school (14 - 17 years),': None,\n",
       " u' College, Adults, High school (14 - 17 years),': None,\n",
       " u' College, Adults, High school (14 - 17 years), Graduate students,': None,\n",
       " u' College, Adults, High school (14 - 17 years), Graduate students, Middle school (11 - 13 years), Families, Elementary school (6 - 10 years),': None,\n",
       " u' College, Adults, Middle school (11 - 13 years), Elementary school (6 - 10 years), High school (14 - 17 years), Graduate students, Families,': None,\n",
       " u' College, Adults, Middle school (11 - 13 years), Families, Elementary school (6 - 10 years), High school (14 - 17 years), Graduate students, Seniors,': None,\n",
       " u' College, Adults, Middle school (11 - 13 years), Families, High school (14 - 17 years), Graduate students, Seniors,': None,\n",
       " u' College, Adults, Middle school (11 - 13 years), Graduate students, , Families, High school (14 - 17 years), Seniors,': None,\n",
       " u' College, Adults, Seniors, Graduate students,': None,\n",
       " u' College, Adults, Seniors, Graduate students, Families,': None,\n",
       " u' College, Elementary school (6 - 10 years), Adults, Families, Middle school (11 - 13 years), Graduate students, Seniors, High school (14 - 17 years),': None,\n",
       " u' College, Elementary school (6 - 10 years), Adults, Graduate students, Families,': None,\n",
       " u' College, Elementary school (6 - 10 years), Graduate students, High school (14 - 17 years), Adults, Families, Seniors, Middle school (11 - 13 years),': None,\n",
       " u' College, Elementary school (6 - 10 years), Graduate students, High school (14 - 17 years), Seniors, Adults, Middle school (11 - 13 years), Families,': None,\n",
       " u' College, Elementary school (6 - 10 years), High school (14 - 17 years), Graduate students, Adults, Families, Middle school (11 - 13 years),': None,\n",
       " u' College, Elementary school (6 - 10 years), High school (14 - 17 years), Seniors, Adults, Graduate students, Middle school (11 - 13 years), Families,': None,\n",
       " u' College, Elementary school (6 - 10 years), Middle school (11 - 13 years), High school (14 - 17 years), Adults, Graduate students, Families,': None,\n",
       " u' College, Elementary school (6 - 10 years), Middle school (11 - 13 years), High school (14 - 17 years), Graduate students, Adults, Families,': None,\n",
       " u' College, Families, Adults, Graduate students, Elementary school (6 - 10 years),': None,\n",
       " u' College, Families, Adults, Seniors, Graduate students, High school (14 - 17 years), Middle school (11 - 13 years), Elementary school (6 - 10 years),': None,\n",
       " u' College, Families, Elementary school (6 - 10 years), Adults, Graduate students,': None,\n",
       " u' College, Families, Elementary school (6 - 10 years), Adults, Middle school (11 - 13 years), Graduate students, High school (14 - 17 years),': None,\n",
       " u' College, Families, Elementary school (6 - 10 years), High school (14 - 17 years), Adults, Seniors, Middle school (11 - 13 years), Graduate students,': None,\n",
       " u' College, Families, Graduate students, Elementary school (6 - 10 years), Middle school (11 - 13 years), High school (14 - 17 years), Adults,': None,\n",
       " u' College, Families, Graduate students, High school (14 - 17 years), Adults, Seniors,': None,\n",
       " u' College, Families, Middle school (11 - 13 years), Adults, Elementary school (6 - 10 years), High school (14 - 17 years), Graduate students,': None,\n",
       " u' College, Families, Middle school (11 - 13 years), Graduate students, Elementary school (6 - 10 years), High school (14 - 17 years), Adults,': None,\n",
       " u' College, Families, Middle school (11 - 13 years), Graduate students, High school (14 - 17 years), Seniors, Elementary school (6 - 10 years), Adults,': None,\n",
       " u' College, Families, Middle school (11 - 13 years), High school (14 - 17 years), Graduate students, Adults, Seniors,': None,\n",
       " u' College, Families, Seniors, Adults, Graduate students,': None,\n",
       " u' College, Families, Seniors, Graduate students, High school (14 - 17 years),': None,\n",
       " u' College, Families, Seniors, Graduate students, High school (14 - 17 years), Adults,': None,\n",
       " u' College, Graduate students, Adults,': None,\n",
       " u' College, Graduate students, Adults, Families,': None,\n",
       " u' College, Graduate students, Adults, Families, Elementary school (6 - 10 years), High school (14 - 17 years), Middle school (11 - 13 years),': None,\n",
       " u' College, Graduate students, Adults, Families, High school (14 - 17 years), Seniors, Elementary school (6 - 10 years), Middle school (11 - 13 years),': None,\n",
       " u' College, Graduate students, Adults, Families, Middle school (11 - 13 years), High school (14 - 17 years), Elementary school (6 - 10 years),': None,\n",
       " u' College, Graduate students, Adults, Families, Seniors,': None,\n",
       " u' College, Graduate students, Adults, Families, Seniors, High school (14 - 17 years), Middle school (11 - 13 years),': None,\n",
       " u' College, Graduate students, Adults, Families, Seniors, Middle school (11 - 13 years), High school (14 - 17 years),': None,\n",
       " u' College, Graduate students, Adults, High school (14 - 17 years),': None,\n",
       " u' College, Graduate students, Adults, High school (14 - 17 years), Families, Seniors,': None,\n",
       " u' College, Graduate students, Adults, High school (14 - 17 years), Seniors,': None,\n",
       " u' College, Graduate students, Adults, Middle school (11 - 13 years), High school (14 - 17 years),': None,\n",
       " u' College, Graduate students, Adults, Seniors,': None,\n",
       " u' College, Graduate students, Adults, Seniors, High school (14 - 17 years), Families,': None,\n",
       " u' College, Graduate students, Elementary school (6 - 10 years), Adults, Families,': None,\n",
       " u' College, Graduate students, Elementary school (6 - 10 years), Families, Middle school (11 - 13 years), High school (14 - 17 years), Adults, Seniors,': None,\n",
       " u' College, Graduate students, Elementary school (6 - 10 years), High school (14 - 17 years), Adults, Middle school (11 - 13 years), Families,': None,\n",
       " u' College, Graduate students, Families, Adults, Middle school (11 - 13 years), Seniors, Elementary school (6 - 10 years), High school (14 - 17 years),': None,\n",
       " u' College, Graduate students, Families, Adults, Seniors,': None,\n",
       " u' College, Graduate students, Families, Elementary school (6 - 10 years), Adults,': None,\n",
       " u' College, Graduate students, Families, Elementary school (6 - 10 years), High school (14 - 17 years), Middle school (11 - 13 years), Adults,': None,\n",
       " u' College, Graduate students, Families, High school (14 - 17 years), Adults, Seniors,': None,\n",
       " u' College, Graduate students, Families, Middle school (11 - 13 years), Elementary school (6 - 10 years), High school (14 - 17 years), Adults,': None,\n",
       " u' College, Graduate students, High school (14 - 17 years), Adults,': None,\n",
       " u' College, Graduate students, High school (14 - 17 years), Families, Middle school (11 - 13 years), Adults, Seniors,': None,\n",
       " u' College, Graduate students, Middle school (11 - 13 years), Elementary school (6 - 10 years), Adults, Seniors, High school (14 - 17 years), Families,': None,\n",
       " u' College, Graduate students, Middle school (11 - 13 years), High school (14 - 17 years), Elementary school (6 - 10 years),': None,\n",
       " u' College, Graduate students, Middle school (11 - 13 years), High school (14 - 17 years), Elementary school (6 - 10 years), Families, Adults,': None,\n",
       " u' College, Graduate students, Seniors, Adults, High school (14 - 17 years), Families,': None,\n",
       " u' College, Graduate students, Seniors, Families, Middle school (11 - 13 years), High school (14 - 17 years), Elementary school (6 - 10 years), Adults,': None,\n",
       " u' College, High school (14 - 17 years), Adults,': None,\n",
       " u' College, High school (14 - 17 years), Adults, Families, Middle school (11 - 13 years), Graduate students, Elementary school (6 - 10 years),': None,\n",
       " u' College, High school (14 - 17 years), Adults, Families, Seniors, Graduate students,': None,\n",
       " u' College, High school (14 - 17 years), Adults, Seniors, Graduate students, Elementary school (6 - 10 years), Middle school (11 - 13 years), Families,': None,\n",
       " u' College, High school (14 - 17 years), Elementary school (6 - 10 years), Graduate students, Families, Middle school (11 - 13 years), Adults,': None,\n",
       " u' College, High school (14 - 17 years), Graduate students, Adults, Elementary school (6 - 10 years), Middle school (11 - 13 years), Families, Seniors,': None,\n",
       " u' College, High school (14 - 17 years), Graduate students, Adults, Families, Seniors,': None,\n",
       " u' College, High school (14 - 17 years), Graduate students, Adults, Seniors, Families,': None,\n",
       " u' College, High school (14 - 17 years), Graduate students, Families, Adults, Seniors,': None,\n",
       " u' College, High school (14 - 17 years), Middle school (11 - 13 years), Adults, Graduate students,': None,\n",
       " u' College, High school (14 - 17 years), Seniors, Families, Middle school (11 - 13 years), Graduate students, Adults,': None,\n",
       " u' College, Middle school (11 - 13 years), Adults, Families, Elementary school (6 - 10 years), Graduate students, High school (14 - 17 years),': None,\n",
       " u' College, Middle school (11 - 13 years), Elementary school (6 - 10 years), , , , Families,': None,\n",
       " u' College, Middle school (11 - 13 years), Families, High school (14 - 17 years), Adults, Graduate students, Elementary school (6 - 10 years),': None,\n",
       " u' College, Middle school (11 - 13 years), Graduate students, High school (14 - 17 years), Adults,': None,\n",
       " u' College, Middle school (11 - 13 years), High school (14 - 17 years), Elementary school (6 - 10 years), Families, Graduate students, Adults,': None,\n",
       " u' College, Middle school (11 - 13 years), High school (14 - 17 years), Families, Graduate students, Adults, Seniors,': None,\n",
       " u' College, Middle school (11 - 13 years), High school (14 - 17 years), Graduate students, Adults,': None,\n",
       " u' College, Middle school (11 - 13 years), High school (14 - 17 years), Graduate students, Families, Elementary school (6 - 10 years), Adults,': None,\n",
       " u' College, Middle school (11 - 13 years), High school (14 - 17 years), Graduate students, Seniors, Adults, Families,': None,\n",
       " u' College, Middle school (11 - 13 years), High school (14 - 17 years), Graduate students, Seniors, Families, Adults,': None,\n",
       " u' College, Seniors, Adults,': None,\n",
       " u' College, Seniors, Adults, Graduate students, High school (14 - 17 years), Families,': None,\n",
       " u' College, Seniors, Families, Adults, Graduate students, High school (14 - 17 years), Middle school (11 - 13 years),': None,\n",
       " u' College, Seniors, Families, Middle school (11 - 13 years), High school (14 - 17 years), Adults, Graduate students,': None,\n",
       " u' College, Seniors, Graduate students, Adults, Elementary school (6 - 10 years), Middle school (11 - 13 years), High school (14 - 17 years), Families,': None,\n",
       " u' College, Seniors, High school (14 - 17 years), Adults, Elementary school (6 - 10 years), Families, Middle school (11 - 13 years), Graduate students,': None,\n",
       " u' College, Seniors, High school (14 - 17 years), Families, Middle school (11 - 13 years), Adults, Graduate students,': None,\n",
       " u' College, Seniors, Middle school (11 - 13 years), Adults, Families, High school (14 - 17 years), Graduate students,': None,\n",
       " u' Elementary school (6 - 10 years), Adults, Families,': None,\n",
       " u' Elementary school (6 - 10 years), Adults, Families, Seniors, Graduate students, Middle school (11 - 13 years), College, High school (14 - 17 years),': None,\n",
       " u' Elementary school (6 - 10 years), Adults, Graduate students, Families, College, Middle school (11 - 13 years), High school (14 - 17 years),': None,\n",
       " u' Elementary school (6 - 10 years), Adults, Graduate students, Families, Seniors, Middle school (11 - 13 years), High school (14 - 17 years), College,': None,\n",
       " u' Elementary school (6 - 10 years), Adults, Graduate students, Seniors, Families, College, High school (14 - 17 years), Middle school (11 - 13 years),': None,\n",
       " u' Elementary school (6 - 10 years), Adults, High school (14 - 17 years), Middle school (11 - 13 years), College, Seniors, Graduate students, Families,': None,\n",
       " u' Elementary school (6 - 10 years), Adults, Seniors, Families, Graduate students, High school (14 - 17 years), Middle school (11 - 13 years), College,': None,\n",
       " u' Elementary school (6 - 10 years), College, Adults, High school (14 - 17 years), Seniors, Families, Middle school (11 - 13 years), Graduate students,': None,\n",
       " u' Elementary school (6 - 10 years), College, Adults, Middle school (11 - 13 years), Seniors, Families, High school (14 - 17 years), Graduate students,': None,\n",
       " u' Elementary school (6 - 10 years), College, Families, Graduate students, Adults,': None,\n",
       " u' Elementary school (6 - 10 years), College, Graduate students, Adults, Families,': None,\n",
       " u' Elementary school (6 - 10 years), College, Graduate students, Adults, Families, Middle school (11 - 13 years), High school (14 - 17 years),': None,\n",
       " u' Elementary school (6 - 10 years), College, Graduate students, Families, Adults,': None,\n",
       " u' Elementary school (6 - 10 years), College, Graduate students, Families, High school (14 - 17 years), Adults, Middle school (11 - 13 years),': None,\n",
       " u' Elementary school (6 - 10 years), College, Graduate students, Middle school (11 - 13 years), High school (14 - 17 years), Adults, Families,': None,\n",
       " u' Elementary school (6 - 10 years), College, Graduate students, Middle school (11 - 13 years), High school (14 - 17 years), Adults, Families, Seniors,': None,\n",
       " u' Elementary school (6 - 10 years), College, Graduate students, Middle school (11 - 13 years), High school (14 - 17 years), Families, Adults,': None,\n",
       " u' Elementary school (6 - 10 years), College, Graduate students, Middle school (11 - 13 years), High school (14 - 17 years), Families, Adults, Seniors,': None,\n",
       " u' Elementary school (6 - 10 years), College, Graduate students, Seniors, Families, Adults, Middle school (11 - 13 years), High school (14 - 17 years),': None,\n",
       " u' Elementary school (6 - 10 years), College, High school (14 - 17 years), Adults, Middle school (11 - 13 years), Graduate students, Families,': None,\n",
       " u' Elementary school (6 - 10 years), College, High school (14 - 17 years), Seniors, Middle school (11 - 13 years), Families, Graduate students, Adults,': None,\n",
       " u' Elementary school (6 - 10 years), College, Middle school (11 - 13 years), Families, Graduate students, High school (14 - 17 years), Adults,': None,\n",
       " u' Elementary school (6 - 10 years), College, Middle school (11 - 13 years), Graduate students, Adults, Families, High school (14 - 17 years),': None,\n",
       " u' Elementary school (6 - 10 years), College, Middle school (11 - 13 years), Graduate students, Seniors, High school (14 - 17 years), Adults, Families,': None,\n",
       " u' Elementary school (6 - 10 years), College, Seniors, High school (14 - 17 years), Families, Graduate students, Middle school (11 - 13 years), Adults,': None,\n",
       " u' Elementary school (6 - 10 years), Families, Adults,': None,\n",
       " u' Elementary school (6 - 10 years), Families, Adults, Graduate students, High school (14 - 17 years), Middle school (11 - 13 years), College,': None,\n",
       " u' Elementary school (6 - 10 years), Families, Adults, High school (14 - 17 years), College, Graduate students, Middle school (11 - 13 years),': None,\n",
       " u' Elementary school (6 - 10 years), Families, Graduate students, Middle school (11 - 13 years), High school (14 - 17 years), Adults, College, Seniors,': None,\n",
       " u' Elementary school (6 - 10 years), Families, Middle school (11 - 13 years), Graduate students, High school (14 - 17 years), College, Adults, Seniors,': None,\n",
       " u' Elementary school (6 - 10 years), Families, Middle school (11 - 13 years), High school (14 - 17 years), College,': None,\n",
       " u' Elementary school (6 - 10 years), Families, Middle school (11 - 13 years), High school (14 - 17 years), College, Graduate students, Adults, Seniors,': None,\n",
       " u' Elementary school (6 - 10 years), Graduate students, Adults, High school (14 - 17 years), Families, Seniors, College, Middle school (11 - 13 years),': None,\n",
       " u' Elementary school (6 - 10 years), Graduate students, College, Adults, Middle school (11 - 13 years), High school (14 - 17 years), Families,': None,\n",
       " u' Elementary school (6 - 10 years), Graduate students, College, Adults, Seniors, Families, Middle school (11 - 13 years), High school (14 - 17 years),': None,\n",
       " u' Elementary school (6 - 10 years), Graduate students, Families, High school (14 - 17 years), Adults, Middle school (11 - 13 years), College,': None,\n",
       " u' Elementary school (6 - 10 years), Graduate students, Families, Middle school (11 - 13 years), High school (14 - 17 years), College, Adults, Seniors,': None,\n",
       " u' Elementary school (6 - 10 years), Graduate students, High school (14 - 17 years), Adults, College, Seniors, Middle school (11 - 13 years), Families,': None,\n",
       " u' Elementary school (6 - 10 years), Graduate students, High school (14 - 17 years), Middle school (11 - 13 years), College, Adults, Families,': None,\n",
       " u' Elementary school (6 - 10 years), Graduate students, Middle school (11 - 13 years), Adults, Families, College, High school (14 - 17 years),': None,\n",
       " u' Elementary school (6 - 10 years), Graduate students, Middle school (11 - 13 years), High school (14 - 17 years), Families, Adults, College,': None,\n",
       " u' Elementary school (6 - 10 years), Graduate students, Seniors, Middle school (11 - 13 years), College, High school (14 - 17 years), Adults, Families,': None,\n",
       " u' Elementary school (6 - 10 years), High school (14 - 17 years), Adults, College, Graduate students, Middle school (11 - 13 years), Families,': None,\n",
       " u' Elementary school (6 - 10 years), High school (14 - 17 years), College, Families, Middle school (11 - 13 years), Adults, Seniors, Graduate students,': None,\n",
       " u' Elementary school (6 - 10 years), High school (14 - 17 years), College, Families, Seniors, Middle school (11 - 13 years), Graduate students, Adults,': None,\n",
       " u' Elementary school (6 - 10 years), High school (14 - 17 years), College, Graduate students, Adults, Families, Middle school (11 - 13 years),': None,\n",
       " u' Elementary school (6 - 10 years), High school (14 - 17 years), College, Graduate students, Adults, Middle school (11 - 13 years), Families,': None,\n",
       " u' Elementary school (6 - 10 years), High school (14 - 17 years), College, Graduate students, Families, Middle school (11 - 13 years), Adults,': None,\n",
       " u' Elementary school (6 - 10 years), High school (14 - 17 years), Families, Middle school (11 - 13 years), College, Graduate students, Adults,': None,\n",
       " u' Elementary school (6 - 10 years), High school (14 - 17 years), Graduate students, College, Middle school (11 - 13 years), Families, Adults,': None,\n",
       " u' Elementary school (6 - 10 years), High school (14 - 17 years), Middle school (11 - 13 years), Families, Adults,': None,\n",
       " u' Elementary school (6 - 10 years), Middle school (11 - 13 years), Adults, College, High school (14 - 17 years), Graduate students, Families,': None,\n",
       " u' Elementary school (6 - 10 years), Middle school (11 - 13 years), Adults, Families, High school (14 - 17 years), College, Graduate students,': None,\n",
       " u' Elementary school (6 - 10 years), Middle school (11 - 13 years), College, Graduate students, Families, High school (14 - 17 years), Adults,': None,\n",
       " u' Elementary school (6 - 10 years), Middle school (11 - 13 years), College, High school (14 - 17 years), Graduate students, Adults, Families, Seniors,': None,\n",
       " u' Elementary school (6 - 10 years), Middle school (11 - 13 years), College, High school (14 - 17 years), Graduate students, Families, Adults,': None,\n",
       " u' Elementary school (6 - 10 years), Middle school (11 - 13 years), Families,': None,\n",
       " u' Elementary school (6 - 10 years), Middle school (11 - 13 years), Families, College, High school (14 - 17 years), Adults, Graduate students,': None,\n",
       " u' Elementary school (6 - 10 years), Middle school (11 - 13 years), Families, Graduate students, High school (14 - 17 years), College, Adults,': None,\n",
       " u' Elementary school (6 - 10 years), Middle school (11 - 13 years), Families, High school (14 - 17 years),': None,\n",
       " u' Elementary school (6 - 10 years), Middle school (11 - 13 years), Families, High school (14 - 17 years), College, Graduate students, Adults,': None,\n",
       " u' Elementary school (6 - 10 years), Middle school (11 - 13 years), Graduate students, Adults, College, High school (14 - 17 years), Families, Seniors,': None,\n",
       " u' Elementary school (6 - 10 years), Middle school (11 - 13 years), Graduate students, Adults, Families, High school (14 - 17 years), College,': None,\n",
       " u' Elementary school (6 - 10 years), Middle school (11 - 13 years), Graduate students, College, Seniors, High school (14 - 17 years), Families, Adults,': None,\n",
       " u' Elementary school (6 - 10 years), Middle school (11 - 13 years), Graduate students, Families, High school (14 - 17 years), Adults, College,': None,\n",
       " u' Elementary school (6 - 10 years), Middle school (11 - 13 years), Graduate students, Families, High school (14 - 17 years), College, Adults, Seniors,': None,\n",
       " u' Elementary school (6 - 10 years), Middle school (11 - 13 years), Graduate students, High school (14 - 17 years), Adults, Families, College, Seniors,': None,\n",
       " u' Elementary school (6 - 10 years), Middle school (11 - 13 years), Graduate students, High school (14 - 17 years), College, Families, Adults, Seniors,': None,\n",
       " u' Elementary school (6 - 10 years), Middle school (11 - 13 years), High school (14 - 17 years),': None,\n",
       " u' Elementary school (6 - 10 years), Middle school (11 - 13 years), High school (14 - 17 years), Adults, College, Graduate students, Families,': None,\n",
       " u' Elementary school (6 - 10 years), Middle school (11 - 13 years), High school (14 - 17 years), Adults, Families,': None,\n",
       " u' Elementary school (6 - 10 years), Middle school (11 - 13 years), High school (14 - 17 years), Adults, Families, College, Graduate students,': None,\n",
       " u' Elementary school (6 - 10 years), Middle school (11 - 13 years), High school (14 - 17 years), Adults, Graduate students, College, Families,': None,\n",
       " u' Elementary school (6 - 10 years), Middle school (11 - 13 years), High school (14 - 17 years), College, Graduate students, Adults, Families,': None,\n",
       " u' Elementary school (6 - 10 years), Middle school (11 - 13 years), High school (14 - 17 years), College, Graduate students, Adults, Families, Seniors,': None,\n",
       " u' Elementary school (6 - 10 years), Middle school (11 - 13 years), High school (14 - 17 years), College, Graduate students, Families, Adults, Seniors,': None,\n",
       " u' Elementary school (6 - 10 years), Middle school (11 - 13 years), High school (14 - 17 years), Graduate students, Families, College, Adults,': None,\n",
       " u' Elementary school (6 - 10 years), Middle school (11 - 13 years), High school (14 - 17 years), Seniors, Graduate students, Adults, College, Families,': None,\n",
       " u' Elementary school (6 - 10 years), Middle school (11 - 13 years), Seniors, College, High school (14 - 17 years), Adults, Families, Graduate students,': None,\n",
       " u' Elementary school (6 - 10 years), Middle school (11 - 13 years), Seniors, Families, Adults, Graduate students, College, High school (14 - 17 years),': None,\n",
       " u' Elementary school (6 - 10 years), Seniors, College, Families, Graduate students, Middle school (11 - 13 years), Adults, High school (14 - 17 years),': None,\n",
       " u' Elementary school (6 - 10 years), Seniors, College, Families, Middle school (11 - 13 years), High school (14 - 17 years), Graduate students, Adults,': None,\n",
       " u' Elementary school (6 - 10 years), Seniors, High school (14 - 17 years), Graduate students, Families, Middle school (11 - 13 years), College, Adults,': None,\n",
       " u' Families, Adults, College, Elementary school (6 - 10 years), Graduate students,': None,\n",
       " u' Families, Adults, College, Elementary school (6 - 10 years), High school (14 - 17 years), Graduate students, Middle school (11 - 13 years),': None,\n",
       " u' Families, Adults, College, High school (14 - 17 years), Graduate students, Middle school (11 - 13 years),': None,\n",
       " u' Families, Adults, College, High school (14 - 17 years), Seniors,': None,\n",
       " u' Families, Adults, Elementary school (6 - 10 years), High school (14 - 17 years), College, Graduate students, Middle school (11 - 13 years),': None,\n",
       " u' Families, Adults, Graduate students, College, High school (14 - 17 years), Middle school (11 - 13 years), Elementary school (6 - 10 years),': None,\n",
       " u' Families, Adults, Graduate students, College, High school (14 - 17 years), Seniors, Middle school (11 - 13 years), Elementary school (6 - 10 years),': None,\n",
       " u' Families, Adults, Graduate students, High school (14 - 17 years), College,': None,\n",
       " u' Families, Adults, Graduate students, Seniors, Elementary school (6 - 10 years), Middle school (11 - 13 years), College, High school (14 - 17 years),': None,\n",
       " u' Families, Adults, High school (14 - 17 years), College, Graduate students, Middle school (11 - 13 years),': None,\n",
       " u' Families, Adults, High school (14 - 17 years), Elementary school (6 - 10 years), College, Graduate students, Middle school (11 - 13 years), Seniors,': None,\n",
       " u' Families, Adults, High school (14 - 17 years), Elementary school (6 - 10 years), College, Middle school (11 - 13 years), Graduate students,': None,\n",
       " u' Families, Adults, High school (14 - 17 years), Middle school (11 - 13 years),': None,\n",
       " u' Families, Adults, High school (14 - 17 years), Middle school (11 - 13 years), Graduate students, College, Seniors,': None,\n",
       " u' Families, Adults, Seniors, High school (14 - 17 years), College, Graduate students,': None,\n",
       " u' Families, College, Adults, Graduate students, High school (14 - 17 years),': None,\n",
       " u' Families, College, Adults, High school (14 - 17 years), Graduate students,': None,\n",
       " u' Families, College, Adults, Seniors, Graduate students,': None,\n",
       " u' Families, College, Elementary school (6 - 10 years), Middle school (11 - 13 years), High school (14 - 17 years), Graduate students, Adults,': None,\n",
       " u' Families, College, Graduate students, Adults, Seniors,': None,\n",
       " u' Families, College, Graduate students, Adults, Seniors, High school (14 - 17 years),': None,\n",
       " u' Families, College, Graduate students, High school (14 - 17 years), Middle school (11 - 13 years), Seniors, Adults,': None,\n",
       " u' Families, College, Graduate students, Middle school (11 - 13 years), Adults, High school (14 - 17 years), Seniors,': None,\n",
       " u' Families, College, Graduate students, Middle school (11 - 13 years), Elementary school (6 - 10 years), High school (14 - 17 years), Adults,': None,\n",
       " u' Families, College, High school (14 - 17 years), Middle school (11 - 13 years),': None,\n",
       " u' Families, College, Seniors, Graduate students, Adults,': None,\n",
       " u' Families, Elementary school (6 - 10 years), Adults,': None,\n",
       " u' Families, Elementary school (6 - 10 years), Adults, High school (14 - 17 years), Middle school (11 - 13 years),': None,\n",
       " u' Families, Elementary school (6 - 10 years), College, Graduate students, Adults,': None,\n",
       " u' Families, Elementary school (6 - 10 years), Graduate students, College, High school (14 - 17 years), Adults, Middle school (11 - 13 years),': None,\n",
       " u' Families, Elementary school (6 - 10 years), High school (14 - 17 years), Adults, Graduate students, College, Middle school (11 - 13 years),': None,\n",
       " u' Families, Elementary school (6 - 10 years), High school (14 - 17 years), Graduate students, Adults, Middle school (11 - 13 years), College,': None,\n",
       " u' Families, Elementary school (6 - 10 years), High school (14 - 17 years), Middle school (11 - 13 years), Seniors, Adults,': None,\n",
       " u' Families, Elementary school (6 - 10 years), Middle school (11 - 13 years), Adults, Graduate students, College, High school (14 - 17 years), Seniors,': None,\n",
       " u' Families, Elementary school (6 - 10 years), Middle school (11 - 13 years), High school (14 - 17 years), Adults, College, Graduate students,': None,\n",
       " u' Families, Elementary school (6 - 10 years), Middle school (11 - 13 years), High school (14 - 17 years), College, Graduate students, Adults,': None,\n",
       " u' Families, Graduate students, Adults, College, High school (14 - 17 years),': None,\n",
       " u' Families, Graduate students, Adults, Elementary school (6 - 10 years), College,': None,\n",
       " u' Families, Graduate students, Adults, High school (14 - 17 years), College, Middle school (11 - 13 years), Seniors, Elementary school (6 - 10 years),': None,\n",
       " u' Families, Graduate students, College, Elementary school (6 - 10 years), Adults, High school (14 - 17 years), Middle school (11 - 13 years),': None,\n",
       " u' Families, Graduate students, College, Elementary school (6 - 10 years), Adults, Seniors, High school (14 - 17 years), Middle school (11 - 13 years),': None,\n",
       " u' Families, Graduate students, College, High school (14 - 17 years), Middle school (11 - 13 years), Seniors, Adults, Elementary school (6 - 10 years),': None,\n",
       " u' Families, Graduate students, Elementary school (6 - 10 years), Adults, Seniors, Middle school (11 - 13 years), High school (14 - 17 years), College,': None,\n",
       " u' Families, Graduate students, Elementary school (6 - 10 years), College, Seniors, High school (14 - 17 years), Middle school (11 - 13 years), Adults,': None,\n",
       " u' Families, Graduate students, High school (14 - 17 years), Adults, Elementary school (6 - 10 years), College, Middle school (11 - 13 years),': None,\n",
       " u' Families, Graduate students, Middle school (11 - 13 years), High school (14 - 17 years), College, Adults, Elementary school (6 - 10 years),': None,\n",
       " u' Families, Graduate students, Seniors, Adults, High school (14 - 17 years), College,': None,\n",
       " u' Families, Graduate students, Seniors, Adults, High school (14 - 17 years), Elementary school (6 - 10 years), Middle school (11 - 13 years), College,': None,\n",
       " u' Families, Graduate students, Seniors, Middle school (11 - 13 years), High school (14 - 17 years), Adults, College,': None,\n",
       " u' Families, High school (14 - 17 years), Adults, College, Graduate students,': None,\n",
       " u' Families, High school (14 - 17 years), Adults, Middle school (11 - 13 years), Seniors, College,': None,\n",
       " u' Families, High school (14 - 17 years), Adults, Middle school (11 - 13 years), Seniors, Graduate students, College,': None,\n",
       " u' Families, High school (14 - 17 years), College, Graduate students, Adults, Seniors,': None,\n",
       " u' Families, High school (14 - 17 years), Elementary school (6 - 10 years), Graduate students, Middle school (11 - 13 years), Adults, College,': None,\n",
       " u' Families, High school (14 - 17 years), Elementary school (6 - 10 years), Middle school (11 - 13 years), College, Graduate students, Adults,': None,\n",
       " u' Families, High school (14 - 17 years), Elementary school (6 - 10 years), Middle school (11 - 13 years), College, Seniors, Graduate students, Adults,': None,\n",
       " u' Families, High school (14 - 17 years), Graduate students, Adults, Middle school (11 - 13 years), Seniors, College, Elementary school (6 - 10 years),': None,\n",
       " u' Families, High school (14 - 17 years), Graduate students, Adults, Seniors, College, Middle school (11 - 13 years),': None,\n",
       " u' Families, Middle school (11 - 13 years), Adults, Elementary school (6 - 10 years), College, High school (14 - 17 years), Graduate students,': None,\n",
       " u' Families, Middle school (11 - 13 years), Adults, High school (14 - 17 years), College, Elementary school (6 - 10 years), Graduate students,': None,\n",
       " u' Families, Middle school (11 - 13 years), College, Adults, High school (14 - 17 years), Graduate students, Seniors,': None,\n",
       " u' Families, Middle school (11 - 13 years), Elementary school (6 - 10 years), Adults, High school (14 - 17 years),': None,\n",
       " u' Families, Middle school (11 - 13 years), Elementary school (6 - 10 years), College, High school (14 - 17 years), Graduate students, Adults,': None,\n",
       " u' Families, Middle school (11 - 13 years), Graduate students, Adults, Elementary school (6 - 10 years), High school (14 - 17 years), College,': None,\n",
       " u' Families, Middle school (11 - 13 years), High school (14 - 17 years),': None,\n",
       " u' Families, Middle school (11 - 13 years), High school (14 - 17 years), College, Graduate students, Adults, Elementary school (6 - 10 years), Seniors,': None,\n",
       " u' Families, Middle school (11 - 13 years), High school (14 - 17 years), College, Seniors, Graduate students, Elementary school (6 - 10 years), Adults,': None,\n",
       " u' Families, Middle school (11 - 13 years), Seniors, College, Graduate students, High school (14 - 17 years), Adults,': None,\n",
       " u' Families, Middle school (11 - 13 years), Seniors, Graduate students, High school (14 - 17 years), College, Adults,': None,\n",
       " u' Families, Seniors, Adults, Graduate students,': None,\n",
       " u' Families, Seniors, Adults, Graduate students, College,': None,\n",
       " u' Families, Seniors, Adults, Middle school (11 - 13 years), Graduate students, College, High school (14 - 17 years), Elementary school (6 - 10 years),': None,\n",
       " u' Families, Seniors, Adults, Middle school (11 - 13 years), Graduate students, Elementary school (6 - 10 years), High school (14 - 17 years), College,': None,\n",
       " u' Families, Seniors, College, Adults, Middle school (11 - 13 years), High school (14 - 17 years), Graduate students,': None,\n",
       " u' Families, Seniors, College, High school (14 - 17 years), Adults, Graduate students,': None,\n",
       " u' Families, Seniors, Elementary school (6 - 10 years), College, Graduate students, Adults, Middle school (11 - 13 years), High school (14 - 17 years),': None,\n",
       " u' Families, Seniors, Elementary school (6 - 10 years), Middle school (11 - 13 years), High school (14 - 17 years), College, Graduate students, Adults,': None,\n",
       " u' Families, Seniors, Graduate students, College, Adults, High school (14 - 17 years),': None,\n",
       " u' Families, Seniors, Graduate students, High school (14 - 17 years), College, Adults,': None,\n",
       " u' Families, Seniors, High school (14 - 17 years), Adults, Middle school (11 - 13 years),': None,\n",
       " u' Families, Seniors, High school (14 - 17 years), College, Graduate students, Elementary school (6 - 10 years), Adults, Middle school (11 - 13 years),': None,\n",
       " u' Families, Seniors, Middle school (11 - 13 years), High school (14 - 17 years), College, Graduate students, Adults,': None,\n",
       " u' Graduate students, Adults, College,': None,\n",
       " u' Graduate students, Adults, College, Seniors,': None,\n",
       " u' Graduate students, Adults, Elementary school (6 - 10 years), College, Families,': None,\n",
       " u' Graduate students, Adults, Elementary school (6 - 10 years), College, Middle school (11 - 13 years), High school (14 - 17 years), Families,': None,\n",
       " u' Graduate students, Adults, Elementary school (6 - 10 years), Families, College, Middle school (11 - 13 years), Seniors, High school (14 - 17 years),': None,\n",
       " u' Graduate students, Adults, Elementary school (6 - 10 years), Middle school (11 - 13 years), Families, High school (14 - 17 years), College, Seniors,': None,\n",
       " u' Graduate students, Adults, Elementary school (6 - 10 years), Middle school (11 - 13 years), High school (14 - 17 years), College, Families, Seniors,': None,\n",
       " u' Graduate students, Adults, Elementary school (6 - 10 years), Middle school (11 - 13 years), High school (14 - 17 years), Families, College,': None,\n",
       " u' Graduate students, Adults, Families, College,': None,\n",
       " u' Graduate students, Adults, Families, High school (14 - 17 years), College,': None,\n",
       " u' Graduate students, Adults, Families, Middle school (11 - 13 years), High school (14 - 17 years), College,': None,\n",
       " u' Graduate students, Adults, Families, Seniors,': None,\n",
       " u' Graduate students, Adults, High school (14 - 17 years), College,': None,\n",
       " u' Graduate students, Adults, High school (14 - 17 years), College, Families, Middle school (11 - 13 years), Elementary school (6 - 10 years),': None,\n",
       " u' Graduate students, Adults, High school (14 - 17 years), College, Families, Seniors,': None,\n",
       " u' Graduate students, Adults, High school (14 - 17 years), College, Seniors,': None,\n",
       " u' Graduate students, Adults, High school (14 - 17 years), Families, College, Elementary school (6 - 10 years), Middle school (11 - 13 years),': None,\n",
       " u' Graduate students, Adults, High school (14 - 17 years), Families, Elementary school (6 - 10 years), ,': None,\n",
       " u' Graduate students, Adults, High school (14 - 17 years), Families, Elementary school (6 - 10 years), Middle school (11 - 13 years), Seniors,': None,\n",
       " u' Graduate students, Adults, Middle school (11 - 13 years), College, High school (14 - 17 years),': None,\n",
       " u' Graduate students, Adults, Middle school (11 - 13 years), College, High school (14 - 17 years), Seniors,': None,\n",
       " u' Graduate students, Adults, Middle school (11 - 13 years), Elementary school (6 - 10 years), High school (14 - 17 years), College, Families,': None,\n",
       " u' Graduate students, Adults, Middle school (11 - 13 years), Families, , Elementary school (6 - 10 years), College,': None,\n",
       " u' Graduate students, Adults, Middle school (11 - 13 years), High school (14 - 17 years), College,': None,\n",
       " u' Graduate students, Adults, Middle school (11 - 13 years), High school (14 - 17 years), College, Elementary school (6 - 10 years), Families,': None,\n",
       " u' Graduate students, Adults, Middle school (11 - 13 years), High school (14 - 17 years), Families, College, Seniors, Elementary school (6 - 10 years),': None,\n",
       " u' Graduate students, Adults, Seniors,': None,\n",
       " u' Graduate students, Adults, Seniors, College, Families,': None,\n",
       " u' Graduate students, Adults, Seniors, College, High school (14 - 17 years),': None,\n",
       " u' Graduate students, Adults, Seniors, College, High school (14 - 17 years), Families, Elementary school (6 - 10 years), Middle school (11 - 13 years),': None,\n",
       " u' Graduate students, Adults, Seniors, Elementary school (6 - 10 years), Middle school (11 - 13 years), Families, High school (14 - 17 years),': None,\n",
       " u' Graduate students, Adults, Seniors, Families, College,': None,\n",
       " u' Graduate students, Adults, Seniors, High school (14 - 17 years), Middle school (11 - 13 years), College, Families,': None,\n",
       " u' Graduate students, Adults, Seniors, Middle school (11 - 13 years), Families, High school (14 - 17 years), College,': None,\n",
       " u' Graduate students, College, Adults,': None,\n",
       " u' Graduate students, College, Adults, High school (14 - 17 years), Families,': None,\n",
       " u' Graduate students, College, Elementary school (6 - 10 years), Adults, Families,': None,\n",
       " u' Graduate students, College, Middle school (11 - 13 years), Adults, High school (14 - 17 years),': None,\n",
       " u' Graduate students, College, Middle school (11 - 13 years), Families, Elementary school (6 - 10 years), Adults, High school (14 - 17 years),': None,\n",
       " u' Graduate students, College, Seniors, Adults,': None,\n",
       " u' Graduate students, Elementary school (6 - 10 years), Adults, Families, College,': None,\n",
       " u' Graduate students, Elementary school (6 - 10 years), College, Families, Adults,': None,\n",
       " u' Graduate students, Elementary school (6 - 10 years), Families, High school (14 - 17 years), Middle school (11 - 13 years), College, Adults,': None,\n",
       " u' Graduate students, Elementary school (6 - 10 years), High school (14 - 17 years), Adults, College, Families, Middle school (11 - 13 years), Seniors,': None,\n",
       " u' Graduate students, Elementary school (6 - 10 years), High school (14 - 17 years), Families, Adults, Middle school (11 - 13 years), College,': None,\n",
       " u' Graduate students, Elementary school (6 - 10 years), Middle school (11 - 13 years), High school (14 - 17 years), College, Adults, Families,': None,\n",
       " u' Graduate students, Families, Adults, Elementary school (6 - 10 years), High school (14 - 17 years), Middle school (11 - 13 years), College,': None,\n",
       " u' Graduate students, Families, Adults, Middle school (11 - 13 years), College, Elementary school (6 - 10 years), High school (14 - 17 years), Seniors,': None,\n",
       " u' Graduate students, Families, Adults, Seniors, High school (14 - 17 years), Middle school (11 - 13 years), College,': None,\n",
       " u' Graduate students, Families, College, Adults, Seniors,': None,\n",
       " u' Graduate students, Families, College, Middle school (11 - 13 years), Adults, Seniors, High school (14 - 17 years),': None,\n",
       " u' Graduate students, Families, College, Middle school (11 - 13 years), High school (14 - 17 years), Adults,': None,\n",
       " u' Graduate students, Families, Elementary school (6 - 10 years), Adults, Middle school (11 - 13 years), High school (14 - 17 years), College,': None,\n",
       " u' Graduate students, Families, Elementary school (6 - 10 years), Adults, Middle school (11 - 13 years), High school (14 - 17 years), College, Seniors,': None,\n",
       " u' Graduate students, Families, Elementary school (6 - 10 years), College, Middle school (11 - 13 years), Adults, High school (14 - 17 years),': None,\n",
       " u' Graduate students, Families, High school (14 - 17 years), Adults, , ,': None,\n",
       " u' Graduate students, Families, High school (14 - 17 years), College, Adults, Middle school (11 - 13 years), Elementary school (6 - 10 years),': None,\n",
       " u' Graduate students, Families, High school (14 - 17 years), College, Adults, Seniors,': None,\n",
       " u' Graduate students, Families, Middle school (11 - 13 years), Adults, College, Seniors, Elementary school (6 - 10 years), High school (14 - 17 years),': None,\n",
       " u' Graduate students, Families, Middle school (11 - 13 years), College, Adults, Elementary school (6 - 10 years), High school (14 - 17 years),': None,\n",
       " u' Graduate students, Families, Middle school (11 - 13 years), High school (14 - 17 years), Adults, Seniors, Elementary school (6 - 10 years), College,': None,\n",
       " u' Graduate students, Families, Middle school (11 - 13 years), High school (14 - 17 years), College, Adults, Elementary school (6 - 10 years),': None,\n",
       " u' Graduate students, Families, Middle school (11 - 13 years), High school (14 - 17 years), College, Elementary school (6 - 10 years), Adults, Seniors,': None,\n",
       " u' Graduate students, Families, Seniors, College, Adults,': None,\n",
       " u' Graduate students, Families, Seniors, College, Middle school (11 - 13 years), Adults, Elementary school (6 - 10 years), High school (14 - 17 years),': None,\n",
       " u' Graduate students, High school (14 - 17 years), Adults, Elementary school (6 - 10 years), College, Families, Middle school (11 - 13 years),': None,\n",
       " u' Graduate students, High school (14 - 17 years), Adults, Elementary school (6 - 10 years), Middle school (11 - 13 years), College, Families,': None,\n",
       " u' Graduate students, High school (14 - 17 years), College, Adults,': None,\n",
       " u' Graduate students, High school (14 - 17 years), College, Adults, Middle school (11 - 13 years),': None,\n",
       " u' Graduate students, High school (14 - 17 years), College, Middle school (11 - 13 years), Adults,': None,\n",
       " u' Graduate students, High school (14 - 17 years), College, Seniors, Adults,': None,\n",
       " u' Graduate students, High school (14 - 17 years), Elementary school (6 - 10 years), Middle school (11 - 13 years), Adults, Families, College,': None,\n",
       " u' Graduate students, High school (14 - 17 years), Families, Seniors, Middle school (11 - 13 years), Elementary school (6 - 10 years), College, Adults,': None,\n",
       " u' Graduate students, High school (14 - 17 years), Middle school (11 - 13 years), Seniors, College, Adults,': None,\n",
       " u' Graduate students, High school (14 - 17 years), Seniors, College, Families, Adults,': None,\n",
       " u' Graduate students, High school (14 - 17 years), Seniors, Elementary school (6 - 10 years), Middle school (11 - 13 years), College, Adults, Families,': None,\n",
       " u' Graduate students, Middle school (11 - 13 years), Adults, Elementary school (6 - 10 years), College, Families, High school (14 - 17 years),': None,\n",
       " u' Graduate students, Middle school (11 - 13 years), Adults, Elementary school (6 - 10 years), Families, College, High school (14 - 17 years),': None,\n",
       " u' Graduate students, Middle school (11 - 13 years), College, Adults, Families, Elementary school (6 - 10 years), High school (14 - 17 years), Seniors,': None,\n",
       " u' Graduate students, Middle school (11 - 13 years), College, High school (14 - 17 years), Adults,': None,\n",
       " u' Graduate students, Middle school (11 - 13 years), Elementary school (6 - 10 years), Families, High school (14 - 17 years), College, Adults,': None,\n",
       " u' Graduate students, Middle school (11 - 13 years), Elementary school (6 - 10 years), Seniors, College, Adults, High school (14 - 17 years), Families,': None,\n",
       " u' Graduate students, Middle school (11 - 13 years), Families, College, High school (14 - 17 years), Adults,': None,\n",
       " u' Graduate students, Middle school (11 - 13 years), High school (14 - 17 years), , Elementary school (6 - 10 years),': None,\n",
       " u' Graduate students, Middle school (11 - 13 years), High school (14 - 17 years), College, Families, Elementary school (6 - 10 years), Adults,': None,\n",
       " u' Graduate students, Seniors, Adults, College, Families,': None,\n",
       " u' Graduate students, Seniors, College, Adults, Families,': None,\n",
       " u' Graduate students, Seniors, College, Adults, Families, Elementary school (6 - 10 years), Middle school (11 - 13 years), High school (14 - 17 years),': None,\n",
       " u' Graduate students, Seniors, College, High school (14 - 17 years),': None,\n",
       " u' Graduate students, Seniors, College, High school (14 - 17 years), Adults, Families,': None,\n",
       " u' Graduate students, Seniors, High school (14 - 17 years), Families, College, Adults,': None,\n",
       " u' High school (14 - 17 years), Adults, College, Families, Graduate students, Middle school (11 - 13 years), Elementary school (6 - 10 years),': None,\n",
       " u' High school (14 - 17 years), Adults, College, Families, Middle school (11 - 13 years), Graduate students, Elementary school (6 - 10 years),': None,\n",
       " u' High school (14 - 17 years), Adults, College, Graduate students,': None,\n",
       " u' High school (14 - 17 years), Adults, College, Middle school (11 - 13 years), Graduate students,': None,\n",
       " u' High school (14 - 17 years), Adults, College, Middle school (11 - 13 years), Seniors,': None,\n",
       " u' High school (14 - 17 years), Adults, College, Seniors, Graduate students,': None,\n",
       " u' High school (14 - 17 years), Adults, Elementary school (6 - 10 years), College, Middle school (11 - 13 years), Families, Graduate students,': None,\n",
       " u' High school (14 - 17 years), Adults, Families, College, Graduate students,': None,\n",
       " u' High school (14 - 17 years), Adults, Families, College, Graduate students, Seniors,': None,\n",
       " u' High school (14 - 17 years), Adults, Families, Elementary school (6 - 10 years), Middle school (11 - 13 years),': None,\n",
       " u' High school (14 - 17 years), Adults, Families, Elementary school (6 - 10 years), Middle school (11 - 13 years), College, Graduate students,': None,\n",
       " u' High school (14 - 17 years), Adults, Families, Elementary school (6 - 10 years), Seniors, Middle school (11 - 13 years),': None,\n",
       " u' High school (14 - 17 years), Adults, Families, Graduate students, College, Seniors,': None,\n",
       " u' High school (14 - 17 years), Adults, Families, Middle school (11 - 13 years), Elementary school (6 - 10 years), Graduate students, College,': None,\n",
       " u' High school (14 - 17 years), Adults, Graduate students, College, Middle school (11 - 13 years), Families,': None,\n",
       " u' High school (14 - 17 years), Adults, Graduate students, College, Seniors, Families, Middle school (11 - 13 years),': None,\n",
       " u' High school (14 - 17 years), Adults, Middle school (11 - 13 years), Families,': None,\n",
       " u' High school (14 - 17 years), Adults, Seniors, College, Families, Graduate students,': None,\n",
       " u' High school (14 - 17 years), Adults, Seniors, College, Graduate students,': None,\n",
       " u' High school (14 - 17 years), Adults, Seniors, College, Graduate students, Middle school (11 - 13 years), Elementary school (6 - 10 years), Families,': None,\n",
       " u' High school (14 - 17 years), Adults, Seniors, Graduate students, Families, College,': None,\n",
       " u' High school (14 - 17 years), College, Adults,': None,\n",
       " u' High school (14 - 17 years), College, Adults, Elementary school (6 - 10 years), Graduate students, Middle school (11 - 13 years), Families,': None,\n",
       " u' High school (14 - 17 years), College, Adults, Elementary school (6 - 10 years), Middle school (11 - 13 years), Graduate students, Families,': None,\n",
       " u' High school (14 - 17 years), College, Adults, Families, Elementary school (6 - 10 years), Middle school (11 - 13 years), Graduate students,': None,\n",
       " u' High school (14 - 17 years), College, Adults, Families, Graduate students, Elementary school (6 - 10 years), Middle school (11 - 13 years), Seniors,': None,\n",
       " u' High school (14 - 17 years), College, Adults, Families, Graduate students, Seniors,': None,\n",
       " u' High school (14 - 17 years), College, Adults, Families, Middle school (11 - 13 years), Elementary school (6 - 10 years), Seniors, Graduate students,': None,\n",
       " u' High school (14 - 17 years), College, Adults, Graduate students,': None,\n",
       " u' High school (14 - 17 years), College, Adults, Graduate students, Families, Elementary school (6 - 10 years), Middle school (11 - 13 years),': None,\n",
       " u' High school (14 - 17 years), College, Adults, Seniors, Graduate students, Families,': None,\n",
       " u' High school (14 - 17 years), College, Elementary school (6 - 10 years), Adults, Families, Middle school (11 - 13 years), Graduate students,': None,\n",
       " u' High school (14 - 17 years), College, Elementary school (6 - 10 years), Middle school (11 - 13 years), Families, Graduate students, Adults,': None,\n",
       " u' High school (14 - 17 years), College, Families,': None,\n",
       " u' High school (14 - 17 years), College, Families, Graduate students, Adults, Middle school (11 - 13 years),': None,\n",
       " u' High school (14 - 17 years), College, Families, Middle school (11 - 13 years), Adults, Seniors, Graduate students,': None,\n",
       " u' High school (14 - 17 years), College, Families, Middle school (11 - 13 years), Seniors, Elementary school (6 - 10 years), Graduate students, Adults,': None,\n",
       " u' High school (14 - 17 years), College, Graduate students,': None,\n",
       " u' High school (14 - 17 years), College, Graduate students, Adults, , ,': None,\n",
       " u' High school (14 - 17 years), College, Graduate students, Adults, Elementary school (6 - 10 years), Middle school (11 - 13 years), Families, Seniors,': None,\n",
       " u' High school (14 - 17 years), College, Graduate students, Adults, Families,': None,\n",
       " u' High school (14 - 17 years), College, Graduate students, Adults, Families, Seniors,': None,\n",
       " u' High school (14 - 17 years), College, Graduate students, Adults, Families, Seniors, Middle school (11 - 13 years),': None,\n",
       " u' High school (14 - 17 years), College, Graduate students, Adults, Middle school (11 - 13 years),': None,\n",
       " u' High school (14 - 17 years), College, Graduate students, Adults, Seniors,': None,\n",
       " u' High school (14 - 17 years), College, Graduate students, Adults, Seniors, Families,': None,\n",
       " u' High school (14 - 17 years), College, Graduate students, Families, Adults, Seniors,': None,\n",
       " u' High school (14 - 17 years), College, Graduate students, Families, Seniors, Elementary school (6 - 10 years), Middle school (11 - 13 years), Adults,': None,\n",
       " u' High school (14 - 17 years), College, Graduate students, Middle school (11 - 13 years), Adults,': None,\n",
       " u' High school (14 - 17 years), College, Graduate students, Seniors, , ,': None,\n",
       " u' High school (14 - 17 years), College, Graduate students, Seniors, Middle school (11 - 13 years), Adults, Families,': None,\n",
       " u' High school (14 - 17 years), College, Middle school (11 - 13 years), Elementary school (6 - 10 years), Families, Adults, Graduate students,': None,\n",
       " u' High school (14 - 17 years), College, Middle school (11 - 13 years), Graduate students, Adults, Families, Elementary school (6 - 10 years),': None,\n",
       " u' High school (14 - 17 years), College, Seniors, Adults, Families, Graduate students,': None,\n",
       " u' High school (14 - 17 years), College, Seniors, Adults, Graduate students, Families,': None,\n",
       " u' High school (14 - 17 years), College, Seniors, Middle school (11 - 13 years), Graduate students, Adults, Elementary school (6 - 10 years), Families,': None,\n",
       " u' High school (14 - 17 years), Elementary school (6 - 10 years), Adults, Families, Middle school (11 - 13 years),': None,\n",
       " u' High school (14 - 17 years), Elementary school (6 - 10 years), Adults, Families, Middle school (11 - 13 years), College, Graduate students,': None,\n",
       " u' High school (14 - 17 years), Elementary school (6 - 10 years), Adults, Middle school (11 - 13 years), College, Graduate students, Families,': None,\n",
       " u' High school (14 - 17 years), Elementary school (6 - 10 years), College, Graduate students, Middle school (11 - 13 years), Adults, Seniors, Families,': None,\n",
       " u' High school (14 - 17 years), Elementary school (6 - 10 years), Families, Adults, Middle school (11 - 13 years),': None,\n",
       " u' High school (14 - 17 years), Elementary school (6 - 10 years), Families, Middle school (11 - 13 years), College, Graduate students, Adults,': None,\n",
       " u' High school (14 - 17 years), Elementary school (6 - 10 years), Middle school (11 - 13 years),': None,\n",
       " u' High school (14 - 17 years), Elementary school (6 - 10 years), Middle school (11 - 13 years), College, Graduate students, Adults, Families, Seniors,': None,\n",
       " u' High school (14 - 17 years), Elementary school (6 - 10 years), Middle school (11 - 13 years), Families, Adults, Graduate students, College, Seniors,': None,\n",
       " u' High school (14 - 17 years), Families, Adults,': None,\n",
       " u' High school (14 - 17 years), Families, Adults, Graduate students, College,': None,\n",
       " u' High school (14 - 17 years), Families, Adults, Middle school (11 - 13 years),': None,\n",
       " u' High school (14 - 17 years), Families, College, Graduate students, Adults, Seniors,': None,\n",
       " u' High school (14 - 17 years), Families, College, Graduate students, Elementary school (6 - 10 years), Middle school (11 - 13 years), Adults,': None,\n",
       " u' High school (14 - 17 years), Families, College, Graduate students, Seniors, Middle school (11 - 13 years), Elementary school (6 - 10 years), Adults,': None,\n",
       " u' High school (14 - 17 years), Families, College, Seniors, Graduate students, Adults,': None,\n",
       " u' High school (14 - 17 years), Families, Elementary school (6 - 10 years), Middle school (11 - 13 years), Adults,': None,\n",
       " u' High school (14 - 17 years), Families, Graduate students, Adults, Seniors, College,': None,\n",
       " u' High school (14 - 17 years), Families, Middle school (11 - 13 years), Elementary school (6 - 10 years), Adults, College, Graduate students, Seniors,': None,\n",
       " u' High school (14 - 17 years), Graduate students, Adults, College, Families, Elementary school (6 - 10 years), Middle school (11 - 13 years),': None,\n",
       " u' High school (14 - 17 years), Graduate students, Adults, Seniors, College,': None,\n",
       " u' High school (14 - 17 years), Graduate students, College, , , Middle school (11 - 13 years),': None,\n",
       " u' High school (14 - 17 years), Graduate students, College, Adults,': None,\n",
       " u' High school (14 - 17 years), Graduate students, Elementary school (6 - 10 years), Middle school (11 - 13 years), Families, College, Adults,': None,\n",
       " u' High school (14 - 17 years), Graduate students, Families, College, Seniors, Adults, Middle school (11 - 13 years),': None,\n",
       " u' High school (14 - 17 years), Graduate students, Families, Middle school (11 - 13 years), Elementary school (6 - 10 years), College, Adults,': None,\n",
       " u' High school (14 - 17 years), Graduate students, Middle school (11 - 13 years), Adults, College, Elementary school (6 - 10 years), Families,': None,\n",
       " u' High school (14 - 17 years), Graduate students, Middle school (11 - 13 years), College, Elementary school (6 - 10 years), Adults, Families,': None,\n",
       " u' High school (14 - 17 years), Graduate students, Middle school (11 - 13 years), Families, Adults, Elementary school (6 - 10 years), College,': None,\n",
       " u' High school (14 - 17 years), Graduate students, Seniors, Adults, Families, Middle school (11 - 13 years), College, Elementary school (6 - 10 years),': None,\n",
       " u' High school (14 - 17 years), Graduate students, Seniors, College, Adults, Families,': None,\n",
       " u' High school (14 - 17 years), Middle school (11 - 13 years), Adults, College, Families, Graduate students,': None,\n",
       " u' High school (14 - 17 years), Middle school (11 - 13 years), Adults, College, Families, Seniors,': None,\n",
       " u' High school (14 - 17 years), Middle school (11 - 13 years), Adults, Elementary school (6 - 10 years), College, Graduate students, Families,': None,\n",
       " u' High school (14 - 17 years), Middle school (11 - 13 years), Adults, Families, Elementary school (6 - 10 years),': None,\n",
       " u' High school (14 - 17 years), Middle school (11 - 13 years), Adults, Seniors, Families, College, Graduate students,': None,\n",
       " u' High school (14 - 17 years), Middle school (11 - 13 years), College, Families, Adults, Elementary school (6 - 10 years), Graduate students,': None,\n",
       " u' High school (14 - 17 years), Middle school (11 - 13 years), College, Graduate students, Adults, Families, Elementary school (6 - 10 years),': None,\n",
       " u' High school (14 - 17 years), Middle school (11 - 13 years), College, Graduate students, Families, Elementary school (6 - 10 years), Adults,': None,\n",
       " u' High school (14 - 17 years), Middle school (11 - 13 years), Elementary school (6 - 10 years), Seniors, Families, Adults, Graduate students, College,': None,\n",
       " u' High school (14 - 17 years), Middle school (11 - 13 years), Graduate students, Adults, College,': None,\n",
       " u' High school (14 - 17 years), Middle school (11 - 13 years), Graduate students, Adults, Families, Elementary school (6 - 10 years), Seniors, College,': None,\n",
       " u' High school (14 - 17 years), Middle school (11 - 13 years), Graduate students, College, Seniors, Families, Adults,': None,\n",
       " u' High school (14 - 17 years), Middle school (11 - 13 years), Graduate students, Families, Elementary school (6 - 10 years), Adults, College,': None,\n",
       " u' High school (14 - 17 years), Seniors, Adults, Families, College, Graduate students,': None,\n",
       " u' High school (14 - 17 years), Seniors, Adults, Families, College, Middle school (11 - 13 years), Graduate students, Elementary school (6 - 10 years),': None,\n",
       " u' High school (14 - 17 years), Seniors, Adults, Middle school (11 - 13 years), College, Graduate students, Families,': None,\n",
       " u' High school (14 - 17 years), Seniors, College, Graduate students, Adults,': None,\n",
       " u' High school (14 - 17 years), Seniors, College, Graduate students, Adults, Families,': None,\n",
       " u' High school (14 - 17 years), Seniors, Elementary school (6 - 10 years), Middle school (11 - 13 years), College, Adults, Families, Graduate students,': None,\n",
       " u' High school (14 - 17 years), Seniors, Families, Adults, Middle school (11 - 13 years), College, Elementary school (6 - 10 years), Graduate students,': None,\n",
       " u' High school (14 - 17 years), Seniors, Families, Graduate students, Adults, College, Middle school (11 - 13 years),': None,\n",
       " u' High school (14 - 17 years), Seniors, Middle school (11 - 13 years), Adults, College, Graduate students, Families,': None,\n",
       " u' High school (14 - 17 years), Seniors, Middle school (11 - 13 years), Adults, Families, College, Graduate students,': None,\n",
       " u' High school (14 - 17 years), Seniors, Middle school (11 - 13 years), Adults, Families, Graduate students, College,': None,\n",
       " u' Middle school (11 - 13 years), Adults, College, Elementary school (6 - 10 years), Families, High school (14 - 17 years), Graduate students,': None,\n",
       " u' Middle school (11 - 13 years), Adults, Elementary school (6 - 10 years), College, High school (14 - 17 years), Graduate students, Families, Seniors,': None,\n",
       " u' Middle school (11 - 13 years), Adults, Elementary school (6 - 10 years), College, Seniors, Graduate students, High school (14 - 17 years), Families,': None,\n",
       " u' Middle school (11 - 13 years), Adults, Elementary school (6 - 10 years), Graduate students, High school (14 - 17 years), College, Families,': None,\n",
       " u' Middle school (11 - 13 years), Adults, Elementary school (6 - 10 years), High school (14 - 17 years), College, Families, Graduate students,': None,\n",
       " u' Middle school (11 - 13 years), Adults, Elementary school (6 - 10 years), High school (14 - 17 years), Families,': None,\n",
       " u' Middle school (11 - 13 years), Adults, Families, High school (14 - 17 years), College, Graduate students, Elementary school (6 - 10 years),': None,\n",
       " u' Middle school (11 - 13 years), Adults, Families, High school (14 - 17 years), Graduate students, College,': None,\n",
       " u' Middle school (11 - 13 years), Adults, Families, Seniors, High school (14 - 17 years), College, Graduate students, Elementary school (6 - 10 years),': None,\n",
       " u' Middle school (11 - 13 years), Adults, High school (14 - 17 years), College, Graduate students,': None,\n",
       " u' Middle school (11 - 13 years), Adults, High school (14 - 17 years), College, Graduate students, Elementary school (6 - 10 years), Families,': None,\n",
       " u' Middle school (11 - 13 years), Adults, High school (14 - 17 years), College, Graduate students, Families, Seniors, Elementary school (6 - 10 years),': None,\n",
       " u' Middle school (11 - 13 years), Adults, High school (14 - 17 years), College, Seniors, Graduate students, Families,': None,\n",
       " u' Middle school (11 - 13 years), Adults, Seniors, Graduate students, High school (14 - 17 years), College,': None,\n",
       " u' Middle school (11 - 13 years), Adults, Seniors, High school (14 - 17 years), Families, College, Elementary school (6 - 10 years), Graduate students,': None,\n",
       " u' Middle school (11 - 13 years), College, Adults, Elementary school (6 - 10 years), Families, Graduate students,': None,\n",
       " u' Middle school (11 - 13 years), College, Adults, Families, Seniors, High school (14 - 17 years), Graduate students, Elementary school (6 - 10 years),': None,\n",
       " u' Middle school (11 - 13 years), College, Elementary school (6 - 10 years), Seniors, High school (14 - 17 years), Adults, Families, Graduate students,': None,\n",
       " u' Middle school (11 - 13 years), College, Elementary school (6 - 10 years), Seniors, High school (14 - 17 years), Adults, Graduate students, Families,': None,\n",
       " u' Middle school (11 - 13 years), College, Families, Graduate students, High school (14 - 17 years), Adults, Seniors, Elementary school (6 - 10 years),': None,\n",
       " u' Middle school (11 - 13 years), College, Families, Graduate students, High school (14 - 17 years), Seniors, Adults,': None,\n",
       " u' Middle school (11 - 13 years), College, Families, Seniors, Adults, High school (14 - 17 years), Graduate students,': None,\n",
       " u' Middle school (11 - 13 years), College, Graduate students, Adults, Families, High school (14 - 17 years), Seniors,': None,\n",
       " u' Middle school (11 - 13 years), College, Graduate students, Adults, High school (14 - 17 years), Seniors, Families,': None,\n",
       " u' Middle school (11 - 13 years), College, Graduate students, Seniors, High school (14 - 17 years), Families, Elementary school (6 - 10 years), Adults,': None,\n",
       " u' Middle school (11 - 13 years), College, High school (14 - 17 years), Families, Graduate students, Adults, Seniors,': None,\n",
       " u' Middle school (11 - 13 years), College, High school (14 - 17 years), Graduate students, Adults,': None,\n",
       " u' Middle school (11 - 13 years), College, Seniors, Elementary school (6 - 10 years), High school (14 - 17 years), Graduate students, Adults, Families,': None,\n",
       " u' Middle school (11 - 13 years), College, Seniors, Graduate students, High school (14 - 17 years), Elementary school (6 - 10 years), Families, Adults,': None,\n",
       " u' Middle school (11 - 13 years), College, Seniors, High school (14 - 17 years), Adults, Graduate students,': None,\n",
       " u' Middle school (11 - 13 years), College, Seniors, High school (14 - 17 years), Elementary school (6 - 10 years), Adults, Graduate students, Families,': None,\n",
       " u' Middle school (11 - 13 years), Elementary school (6 - 10 years), Graduate students, College, High school (14 - 17 years), Families, Adults,': None,\n",
       " u' Middle school (11 - 13 years), Elementary school (6 - 10 years), High school (14 - 17 years), Adults, Families, College, Graduate students,': None,\n",
       " u' Middle school (11 - 13 years), Elementary school (6 - 10 years), High school (14 - 17 years), Graduate students, Adults, College, Families,': None,\n",
       " u' Middle school (11 - 13 years), Elementary school (6 - 10 years), Seniors, High school (14 - 17 years), College, Adults, Families, Graduate students,': None,\n",
       " u' Middle school (11 - 13 years), Families, Adults, High school (14 - 17 years), Elementary school (6 - 10 years),': None,\n",
       " u' Middle school (11 - 13 years), Families, Elementary school (6 - 10 years), Adults, High school (14 - 17 years), College, Graduate students,': None,\n",
       " u' Middle school (11 - 13 years), Families, Elementary school (6 - 10 years), High school (14 - 17 years), College, Graduate students, Adults,': None,\n",
       " u' Middle school (11 - 13 years), Families, High school (14 - 17 years), Adults, College, Graduate students,': None,\n",
       " u' Middle school (11 - 13 years), Graduate students, Adults, College, High school (14 - 17 years),': None,\n",
       " u' Middle school (11 - 13 years), Graduate students, Adults, High school (14 - 17 years), College, Families, Seniors,': None,\n",
       " u' Middle school (11 - 13 years), Graduate students, Adults, High school (14 - 17 years), Families, College,': None,\n",
       " u' Middle school (11 - 13 years), Graduate students, College, Families, Adults, Elementary school (6 - 10 years), High school (14 - 17 years),': None,\n",
       " u' Middle school (11 - 13 years), Graduate students, College, High school (14 - 17 years), Adults, Elementary school (6 - 10 years), Families,': None,\n",
       " u' Middle school (11 - 13 years), Graduate students, Elementary school (6 - 10 years), Adults, Families, High school (14 - 17 years), College,': None,\n",
       " u' Middle school (11 - 13 years), Graduate students, Families, High school (14 - 17 years), Elementary school (6 - 10 years), College, Adults, Seniors,': None,\n",
       " u' Middle school (11 - 13 years), Graduate students, High school (14 - 17 years), College, Adults, Elementary school (6 - 10 years), Families,': None,\n",
       " u' Middle school (11 - 13 years), Graduate students, High school (14 - 17 years), College, Adults, Seniors, Families,': None,\n",
       " u' Middle school (11 - 13 years), Graduate students, High school (14 - 17 years), College, Families, Adults,': None,\n",
       " u' Middle school (11 - 13 years), Graduate students, Seniors, Elementary school (6 - 10 years), College, Families, High school (14 - 17 years), Adults,': None,\n",
       " u' Middle school (11 - 13 years), Graduate students, Seniors, High school (14 - 17 years), College, Families, Adults,': None,\n",
       " u' Middle school (11 - 13 years), High school (14 - 17 years), , Graduate students, Adults, Families, Seniors,': None,\n",
       " u' Middle school (11 - 13 years), High school (14 - 17 years), Adults, College, Families, Elementary school (6 - 10 years), Graduate students,': None,\n",
       " u' Middle school (11 - 13 years), High school (14 - 17 years), Adults, Elementary school (6 - 10 years), Families, College,': None,\n",
       " u' Middle school (11 - 13 years), High school (14 - 17 years), Adults, Elementary school (6 - 10 years), Seniors, College, Families, Graduate students,': None,\n",
       " u' Middle school (11 - 13 years), High school (14 - 17 years), Adults, Families, Elementary school (6 - 10 years),': None,\n",
       " u' Middle school (11 - 13 years), High school (14 - 17 years), Adults, Seniors, Families, College, Graduate students, Elementary school (6 - 10 years),': None,\n",
       " u' Middle school (11 - 13 years), High school (14 - 17 years), Adults, Seniors, Families, Graduate students, College,': None,\n",
       " u' Middle school (11 - 13 years), High school (14 - 17 years), College,': None,\n",
       " u' Middle school (11 - 13 years), High school (14 - 17 years), College, Adults, Families,': None,\n",
       " u' Middle school (11 - 13 years), High school (14 - 17 years), College, Adults, Families, Seniors, Graduate students, Elementary school (6 - 10 years),': None,\n",
       " u' Middle school (11 - 13 years), High school (14 - 17 years), College, Adults, Graduate students,': None,\n",
       " u' Middle school (11 - 13 years), High school (14 - 17 years), College, Adults, Graduate students, Elementary school (6 - 10 years), Families,': None,\n",
       " u' Middle school (11 - 13 years), High school (14 - 17 years), College, Elementary school (6 - 10 years), Graduate students, Adults, Families,': None,\n",
       " u' Middle school (11 - 13 years), High school (14 - 17 years), College, Graduate students, Adults,': None,\n",
       " u' Middle school (11 - 13 years), High school (14 - 17 years), College, Graduate students, Adults, Families, Seniors,': None,\n",
       " u' Middle school (11 - 13 years), High school (14 - 17 years), College, Graduate students, Adults, Seniors,': None,\n",
       " u' Middle school (11 - 13 years), High school (14 - 17 years), College, Graduate students, Adults, Seniors, Elementary school (6 - 10 years), Families,': None,\n",
       " u' Middle school (11 - 13 years), High school (14 - 17 years), College, Graduate students, Families, Adults, Seniors,': None,\n",
       " u' Middle school (11 - 13 years), High school (14 - 17 years), College, Graduate students, Families, Elementary school (6 - 10 years), Adults,': None,\n",
       " u' Middle school (11 - 13 years), High school (14 - 17 years), College, Graduate students, Seniors, Elementary school (6 - 10 years), Adults, Families,': None,\n",
       " u' Middle school (11 - 13 years), High school (14 - 17 years), College, Seniors, Graduate students, Adults, Families,': None,\n",
       " u' Middle school (11 - 13 years), High school (14 - 17 years), Elementary school (6 - 10 years), College, Graduate students, Adults, Families, Seniors,': None,\n",
       " u' Middle school (11 - 13 years), High school (14 - 17 years), Elementary school (6 - 10 years), Graduate students, Adults, Families, College, Seniors,': None,\n",
       " u' Middle school (11 - 13 years), High school (14 - 17 years), Elementary school (6 - 10 years), Seniors, Adults, College, Graduate students, Families,': None,\n",
       " u' Middle school (11 - 13 years), High school (14 - 17 years), Families, Elementary school (6 - 10 years),': None,\n",
       " u' Middle school (11 - 13 years), High school (14 - 17 years), Families, Elementary school (6 - 10 years), Graduate students, Seniors, Adults, College,': None,\n",
       " u' Middle school (11 - 13 years), High school (14 - 17 years), Graduate students, Seniors, College, Adults, Families, Elementary school (6 - 10 years),': None,\n",
       " u' Middle school (11 - 13 years), High school (14 - 17 years), Seniors, Graduate students, Families, Adults, College,': None,\n",
       " u' Middle school (11 - 13 years), Seniors, Graduate students, Adults, Families, Elementary school (6 - 10 years), High school (14 - 17 years), College,': None,\n",
       " u' Seniors, Adults, College, Graduate students, High school (14 - 17 years),': None,\n",
       " u' Seniors, Adults, College, Graduate students, High school (14 - 17 years), Families,': None,\n",
       " u' Seniors, Adults, Families,': None,\n",
       " u' Seniors, Adults, Families, College, Graduate students,': None,\n",
       " u' Seniors, Adults, Graduate students, College,': None,\n",
       " u' Seniors, Adults, Graduate students, College, Families, High school (14 - 17 years),': None,\n",
       " u' Seniors, Adults, High school (14 - 17 years), Graduate students, , ,': None,\n",
       " u' Seniors, College, Adults, Graduate students,': None,\n",
       " u' Seniors, College, Elementary school (6 - 10 years), Families, High school (14 - 17 years), Middle school (11 - 13 years), Adults, Graduate students,': None,\n",
       " u' Seniors, College, Graduate students, Adults,': None,\n",
       " u' Seniors, College, Graduate students, Adults, Families,': None,\n",
       " u' Seniors, College, Graduate students, Adults, High school (14 - 17 years), Families,': None,\n",
       " u' Seniors, College, Graduate students, Elementary school (6 - 10 years), Families, High school (14 - 17 years), Middle school (11 - 13 years), Adults,': None,\n",
       " u' Seniors, College, High school (14 - 17 years), Middle school (11 - 13 years), Families, Adults, Graduate students,': None,\n",
       " u' Seniors, College, Middle school (11 - 13 years), Adults, High school (14 - 17 years), Elementary school (6 - 10 years), Families, Graduate students,': None,\n",
       " u' Seniors, Elementary school (6 - 10 years), Adults, Graduate students, Families, College, High school (14 - 17 years), Middle school (11 - 13 years),': None,\n",
       " u' Seniors, Elementary school (6 - 10 years), College, Adults, Graduate students, Middle school (11 - 13 years), High school (14 - 17 years), Families,': None,\n",
       " u' Seniors, Elementary school (6 - 10 years), Families, Adults, Graduate students, College, Middle school (11 - 13 years), High school (14 - 17 years),': None,\n",
       " u' Seniors, Elementary school (6 - 10 years), Families, Adults, High school (14 - 17 years), Graduate students, College, Middle school (11 - 13 years),': None,\n",
       " u' Seniors, Elementary school (6 - 10 years), Families, High school (14 - 17 years), Adults, College, Middle school (11 - 13 years), Graduate students,': None,\n",
       " u' Seniors, Elementary school (6 - 10 years), Graduate students, Families, Middle school (11 - 13 years), Adults, High school (14 - 17 years), College,': None,\n",
       " u' Seniors, Elementary school (6 - 10 years), Middle school (11 - 13 years), College, High school (14 - 17 years), Graduate students, Adults, Families,': None,\n",
       " u' Seniors, Elementary school (6 - 10 years), Middle school (11 - 13 years), High school (14 - 17 years), College, Graduate students, Adults, Families,': None,\n",
       " u' Seniors, Families, Adults, Graduate students, College, High school (14 - 17 years),': None,\n",
       " u' Seniors, Families, Adults, Graduate students, College, High school (14 - 17 years), Middle school (11 - 13 years),': None,\n",
       " u' Seniors, Families, Adults, Graduate students, College, High school (14 - 17 years), Middle school (11 - 13 years), Elementary school (6 - 10 years),': None,\n",
       " u' Seniors, Families, College, Graduate students, Adults,': None,\n",
       " u' Seniors, Families, College, High school (14 - 17 years), Graduate students, Adults,': None,\n",
       " u' Seniors, Families, Elementary school (6 - 10 years), High school (14 - 17 years), Graduate students, College, Middle school (11 - 13 years), Adults,': None,\n",
       " u' Seniors, Families, Elementary school (6 - 10 years), Middle school (11 - 13 years), High school (14 - 17 years), College, Graduate students, Adults,': None,\n",
       " u' Seniors, Families, Graduate students, College, Adults,': None,\n",
       " u' Seniors, Families, Graduate students, College, Adults, High school (14 - 17 years), Middle school (11 - 13 years),': None,\n",
       " u' Seniors, Families, High school (14 - 17 years), College, Graduate students, Elementary school (6 - 10 years), Middle school (11 - 13 years), Adults,': None,\n",
       " u' Seniors, Graduate students, Adults, Families, High school (14 - 17 years), College,': None,\n",
       " u' Seniors, Graduate students, Adults, High school (14 - 17 years), Families, College,': None,\n",
       " u' Seniors, Graduate students, Adults, High school (14 - 17 years), Families, College, Middle school (11 - 13 years), Elementary school (6 - 10 years),': None,\n",
       " u' Seniors, Graduate students, Adults, High school (14 - 17 years), Middle school (11 - 13 years), College, Elementary school (6 - 10 years), Families,': None,\n",
       " u' Seniors, Graduate students, College, High school (14 - 17 years), Middle school (11 - 13 years), Adults, Families,': None,\n",
       " u' Seniors, Graduate students, Families, Adults, High school (14 - 17 years), College,': None,\n",
       " u' Seniors, Graduate students, High school (14 - 17 years), Families, Adults, College,': None,\n",
       " u' Seniors, Graduate students, High school (14 - 17 years), Families, Elementary school (6 - 10 years), Middle school (11 - 13 years), College, Adults,': None,\n",
       " u' Seniors, High school (14 - 17 years), Adults, College, Graduate students, Families,': None,\n",
       " u' Seniors, High school (14 - 17 years), Adults, Graduate students, College, Middle school (11 - 13 years),': None,\n",
       " u' Seniors, High school (14 - 17 years), Adults, Graduate students, Families, Elementary school (6 - 10 years), Middle school (11 - 13 years), College,': None,\n",
       " u' Seniors, High school (14 - 17 years), Adults, Middle school (11 - 13 years), College,': None,\n",
       " u' Seniors, High school (14 - 17 years), College, Adults, Families, Graduate students, Elementary school (6 - 10 years), Middle school (11 - 13 years),': None,\n",
       " u' Seniors, High school (14 - 17 years), College, Adults, Graduate students,': None,\n",
       " u' Seniors, High school (14 - 17 years), College, Graduate students, Adults, Families,': None,\n",
       " u' Seniors, High school (14 - 17 years), Elementary school (6 - 10 years), Adults, College, Graduate students, Middle school (11 - 13 years), Families,': None,\n",
       " u' Seniors, High school (14 - 17 years), Families, College, Graduate students, Adults,': None,\n",
       " u' Seniors, High school (14 - 17 years), Middle school (11 - 13 years), Adults, Families, Graduate students, College,': None,\n",
       " u' Seniors, Middle school (11 - 13 years), College, Graduate students, Adults, High school (14 - 17 years),': None,\n",
       " u' Seniors, Middle school (11 - 13 years), Families, High school (14 - 17 years), Elementary school (6 - 10 years), Adults, College, Graduate students,': None,\n",
       " u' Seniors, Middle school (11 - 13 years), High school (14 - 17 years), Adults, Graduate students, Families, Elementary school (6 - 10 years), College,': None,\n",
       " u' Seniors, Middle school (11 - 13 years), High school (14 - 17 years), College, Graduate students, Adults, Families,': None,\n",
       " u' Seniors, Middle school (11 - 13 years), High school (14 - 17 years), Families, Elementary school (6 - 10 years), Adults, College, Graduate students,': None,\n",
       " u' Seniors, Middle school (11 - 13 years), High school (14 - 17 years), Graduate students, Adults, Elementary school (6 - 10 years), College, Families,': None,\n",
       " u'.': None,\n",
       " u'1': None,\n",
       " u'6': None,\n",
       " u'Adults': None,\n",
       " u'College': None,\n",
       " u'Elementary school (6-10 years)': None,\n",
       " u'Families': None,\n",
       " u'Graduate students': None,\n",
       " u'High school (14-17 years)': None,\n",
       " u'Middle school (11-13 years)': None,\n",
       " u'Seniors': None,\n",
       " u'Y': None,\n",
       " u'a': None,\n",
       " u'b': None,\n",
       " u'c': None,\n",
       " u'd': None,\n",
       " u'e': None,\n",
       " u'g': None,\n",
       " u'i': None,\n",
       " u'm': None,\n",
       " u'o': None,\n",
       " u'p': None,\n",
       " u'r': None,\n",
       " u's': None,\n",
       " u't': None,\n",
       " u'u': None,\n",
       " u'v': None}"
      ]
     },
     "execution_count": 32,
     "metadata": {},
     "output_type": "execute_result"
    }
   ],
   "source": [
    "#types of age groups\n",
    "\n",
    "agesDict = {}\n",
    "\n",
    "\n",
    "for record in filter_mem_age:\n",
    "    for j in record:\n",
    "        #print(j)\n",
    "        processed = j.replace(\"IDEAL AGE GROUP \",' ') #remove type of activity string\n",
    "        #print(processed)\n",
    "        if not processed: #remove no values\n",
    "            continue   \n",
    "        else:\n",
    "            agesDict.setdefault(processed)\n",
    "\n",
    "agesDict"
   ]
  },
  {
   "cell_type": "markdown",
   "metadata": {},
   "source": [
    "# 5.14. Main Program/Person in charge (referred to as Main Program or Person In Charge in the database)"
   ]
  },
  {
   "cell_type": "code",
   "execution_count": 33,
   "metadata": {
    "collapsed": false
   },
   "outputs": [
    {
     "data": {
      "text/plain": [
       "count                     1036\n",
       "unique                     875\n",
       "top       Latvijas Dabas fonds\n",
       "freq                        28\n",
       "Name: Main Program Or Person In Charge, dtype: object"
      ]
     },
     "execution_count": 33,
     "metadata": {},
     "output_type": "execute_result"
    }
   ],
   "source": [
    "filter_pro_person = df['Main Program Or Person In Charge'].dropna(how = 'any')\n",
    "filter_pro_person.describe()"
   ]
  },
  {
   "cell_type": "code",
   "execution_count": 34,
   "metadata": {
    "collapsed": false
   },
   "outputs": [
    {
     "data": {
      "text/html": [
       "<div>\n",
       "<style>\n",
       "    .dataframe thead tr:only-child th {\n",
       "        text-align: right;\n",
       "    }\n",
       "\n",
       "    .dataframe thead th {\n",
       "        text-align: left;\n",
       "    }\n",
       "\n",
       "    .dataframe tbody tr th {\n",
       "        vertical-align: top;\n",
       "    }\n",
       "</style>\n",
       "<table border=\"1\" class=\"dataframe\">\n",
       "  <thead>\n",
       "    <tr style=\"text-align: right;\">\n",
       "      <th></th>\n",
       "      <th>unique_values</th>\n",
       "      <th>counts</th>\n",
       "    </tr>\n",
       "  </thead>\n",
       "  <tbody>\n",
       "    <tr>\n",
       "      <th>0</th>\n",
       "      <td>Latvijas Dabas fonds</td>\n",
       "      <td>28</td>\n",
       "    </tr>\n",
       "    <tr>\n",
       "      <th>1</th>\n",
       "      <td>[PRESENTED BY NASA]</td>\n",
       "      <td>11</td>\n",
       "    </tr>\n",
       "    <tr>\n",
       "      <th>2</th>\n",
       "      <td>[PRESENTED BY Zooniverse]</td>\n",
       "      <td>10</td>\n",
       "    </tr>\n",
       "    <tr>\n",
       "      <th>3</th>\n",
       "      <td>[PRESENTED BY Natural History Museum of Los An...</td>\n",
       "      <td>7</td>\n",
       "    </tr>\n",
       "    <tr>\n",
       "      <th>4</th>\n",
       "      <td>[PRESENTED BY Surfrider Foundation]</td>\n",
       "      <td>6</td>\n",
       "    </tr>\n",
       "  </tbody>\n",
       "</table>\n",
       "</div>"
      ],
      "text/plain": [
       "                                       unique_values  counts\n",
       "0                               Latvijas Dabas fonds      28\n",
       "1                                [PRESENTED BY NASA]      11\n",
       "2                          [PRESENTED BY Zooniverse]      10\n",
       "3  [PRESENTED BY Natural History Museum of Los An...       7\n",
       "4                [PRESENTED BY Surfrider Foundation]       6"
      ]
     },
     "execution_count": 34,
     "metadata": {},
     "output_type": "execute_result"
    }
   ],
   "source": [
    "countsOfInCharge= filter_pro_person.value_counts().rename_axis('unique_values').reset_index(name='counts')\n",
    "countsOfInCharge.to_csv('output/inCharge.csv', index=False, header=True, encoding='utf-8-sig')\n",
    "countsOfInCharge.head()"
   ]
  },
  {
   "cell_type": "markdown",
   "metadata": {},
   "source": [
    "# 5.15. Images"
   ]
  },
  {
   "cell_type": "code",
   "execution_count": 35,
   "metadata": {
    "collapsed": false
   },
   "outputs": [
    {
     "data": {
      "text/plain": [
       "count                                                   137\n",
       "unique                                                  136\n",
       "top       https://parcs.diba.cat/documents/43788175/8129...\n",
       "freq                                                      2\n",
       "Name: Images, dtype: object"
      ]
     },
     "execution_count": 35,
     "metadata": {},
     "output_type": "execute_result"
    }
   ],
   "source": [
    "filter_img = df['Images'].dropna(how = 'any')\n",
    "filter_img.describe()"
   ]
  },
  {
   "cell_type": "code",
   "execution_count": 36,
   "metadata": {
    "collapsed": false
   },
   "outputs": [
    {
     "data": {
      "text/html": [
       "<div>\n",
       "<style>\n",
       "    .dataframe thead tr:only-child th {\n",
       "        text-align: right;\n",
       "    }\n",
       "\n",
       "    .dataframe thead th {\n",
       "        text-align: left;\n",
       "    }\n",
       "\n",
       "    .dataframe tbody tr th {\n",
       "        vertical-align: top;\n",
       "    }\n",
       "</style>\n",
       "<table border=\"1\" class=\"dataframe\">\n",
       "  <thead>\n",
       "    <tr style=\"text-align: right;\">\n",
       "      <th></th>\n",
       "      <th>unique_values</th>\n",
       "      <th>counts</th>\n",
       "    </tr>\n",
       "  </thead>\n",
       "  <tbody>\n",
       "    <tr>\n",
       "      <th>0</th>\n",
       "      <td>https://parcs.diba.cat/documents/43788175/8129...</td>\n",
       "      <td>2</td>\n",
       "    </tr>\n",
       "    <tr>\n",
       "      <th>1</th>\n",
       "      <td>[https://www.schweiz-forscht.ch/media/k2/items...</td>\n",
       "      <td>1</td>\n",
       "    </tr>\n",
       "    <tr>\n",
       "      <th>2</th>\n",
       "      <td>https://parcs.diba.cat/documents/43788175/8129...</td>\n",
       "      <td>1</td>\n",
       "    </tr>\n",
       "    <tr>\n",
       "      <th>3</th>\n",
       "      <td>[https://www.citizen-science.at/images/galleri...</td>\n",
       "      <td>1</td>\n",
       "    </tr>\n",
       "    <tr>\n",
       "      <th>4</th>\n",
       "      <td>[http://dolomiti.pha.jhu.edu/dthilker/ngc7793_...</td>\n",
       "      <td>1</td>\n",
       "    </tr>\n",
       "  </tbody>\n",
       "</table>\n",
       "</div>"
      ],
      "text/plain": [
       "                                       unique_values  counts\n",
       "0  https://parcs.diba.cat/documents/43788175/8129...       2\n",
       "1  [https://www.schweiz-forscht.ch/media/k2/items...       1\n",
       "2  https://parcs.diba.cat/documents/43788175/8129...       1\n",
       "3  [https://www.citizen-science.at/images/galleri...       1\n",
       "4  [http://dolomiti.pha.jhu.edu/dthilker/ngc7793_...       1"
      ]
     },
     "execution_count": 36,
     "metadata": {},
     "output_type": "execute_result"
    }
   ],
   "source": [
    "countsOfImg = filter_img.value_counts().rename_axis('unique_values').reset_index(name='counts')\n",
    "countsOfImg.to_csv('output/Images.csv', index=False, header=True)\n",
    "countsOfImg.head()"
   ]
  },
  {
   "cell_type": "markdown",
   "metadata": {},
   "source": [
    "# 5.16. Geographical location "
   ]
  },
  {
   "cell_type": "code",
   "execution_count": 37,
   "metadata": {
    "collapsed": false
   },
   "outputs": [
    {
     "data": {
      "text/plain": [
       "count          7751\n",
       "unique         4599\n",
       "top       [Mundial]\n",
       "freq            647\n",
       "Name: Geographical Location, dtype: object"
      ]
     },
     "execution_count": 37,
     "metadata": {},
     "output_type": "execute_result"
    }
   ],
   "source": [
    "filter_geo = df['Geographical Location'].dropna(how = 'any')\n",
    "filter_geo.describe()"
   ]
  },
  {
   "cell_type": "code",
   "execution_count": 38,
   "metadata": {
    "collapsed": false
   },
   "outputs": [
    {
     "data": {
      "text/html": [
       "<div>\n",
       "<style>\n",
       "    .dataframe thead tr:only-child th {\n",
       "        text-align: right;\n",
       "    }\n",
       "\n",
       "    .dataframe thead th {\n",
       "        text-align: left;\n",
       "    }\n",
       "\n",
       "    .dataframe tbody tr th {\n",
       "        vertical-align: top;\n",
       "    }\n",
       "</style>\n",
       "<table border=\"1\" class=\"dataframe\">\n",
       "  <thead>\n",
       "    <tr style=\"text-align: right;\">\n",
       "      <th></th>\n",
       "      <th>unique_values</th>\n",
       "      <th>counts</th>\n",
       "    </tr>\n",
       "  </thead>\n",
       "  <tbody>\n",
       "    <tr>\n",
       "      <th>0</th>\n",
       "      <td>[Mundial]</td>\n",
       "      <td>647</td>\n",
       "    </tr>\n",
       "    <tr>\n",
       "      <th>1</th>\n",
       "      <td>[WHERE View map...]</td>\n",
       "      <td>509</td>\n",
       "    </tr>\n",
       "    <tr>\n",
       "      <th>2</th>\n",
       "      <td>[WHERE Global, anywhere on the planet]</td>\n",
       "      <td>352</td>\n",
       "    </tr>\n",
       "    <tr>\n",
       "      <th>3</th>\n",
       "      <td>[WHERE]</td>\n",
       "      <td>185</td>\n",
       "    </tr>\n",
       "    <tr>\n",
       "      <th>4</th>\n",
       "      <td>[WHERE Online]</td>\n",
       "      <td>161</td>\n",
       "    </tr>\n",
       "  </tbody>\n",
       "</table>\n",
       "</div>"
      ],
      "text/plain": [
       "                            unique_values  counts\n",
       "0                               [Mundial]     647\n",
       "1                     [WHERE View map...]     509\n",
       "2  [WHERE Global, anywhere on the planet]     352\n",
       "3                                 [WHERE]     185\n",
       "4                          [WHERE Online]     161"
      ]
     },
     "execution_count": 38,
     "metadata": {},
     "output_type": "execute_result"
    }
   ],
   "source": [
    "countsOfGeo= filter_geo.value_counts().rename_axis('unique_values').reset_index(name='counts')\n",
    "countsOfGeo.to_csv('output/Geo.csv', index=False, header=True)\n",
    "countsOfGeo.head()"
   ]
  },
  {
   "cell_type": "markdown",
   "metadata": {},
   "source": [
    "# 5.17. Start Date"
   ]
  },
  {
   "cell_type": "code",
   "execution_count": 39,
   "metadata": {
    "collapsed": false
   },
   "outputs": [
    {
     "data": {
      "text/plain": [
       "count      169\n",
       "unique     129\n",
       "top       2012\n",
       "freq        19\n",
       "Name: Start Date, dtype: object"
      ]
     },
     "execution_count": 39,
     "metadata": {},
     "output_type": "execute_result"
    }
   ],
   "source": [
    "filter_start_date = df['Start Date'].dropna(how = 'any')\n",
    "filter_start_date.describe()"
   ]
  },
  {
   "cell_type": "code",
   "execution_count": 40,
   "metadata": {
    "collapsed": false
   },
   "outputs": [
    {
     "data": {
      "text/html": [
       "<div>\n",
       "<style>\n",
       "    .dataframe thead tr:only-child th {\n",
       "        text-align: right;\n",
       "    }\n",
       "\n",
       "    .dataframe thead th {\n",
       "        text-align: left;\n",
       "    }\n",
       "\n",
       "    .dataframe tbody tr th {\n",
       "        vertical-align: top;\n",
       "    }\n",
       "</style>\n",
       "<table border=\"1\" class=\"dataframe\">\n",
       "  <thead>\n",
       "    <tr style=\"text-align: right;\">\n",
       "      <th></th>\n",
       "      <th>unique_values</th>\n",
       "      <th>counts</th>\n",
       "    </tr>\n",
       "  </thead>\n",
       "  <tbody>\n",
       "    <tr>\n",
       "      <th>0</th>\n",
       "      <td>2012</td>\n",
       "      <td>19</td>\n",
       "    </tr>\n",
       "    <tr>\n",
       "      <th>1</th>\n",
       "      <td>2016</td>\n",
       "      <td>5</td>\n",
       "    </tr>\n",
       "    <tr>\n",
       "      <th>2</th>\n",
       "      <td>[INICIO DEL PROYECTO: 01/01/2019]</td>\n",
       "      <td>4</td>\n",
       "    </tr>\n",
       "    <tr>\n",
       "      <th>3</th>\n",
       "      <td>[INICIO DEL PROYECTO: 01/01/2013]</td>\n",
       "      <td>4</td>\n",
       "    </tr>\n",
       "    <tr>\n",
       "      <th>4</th>\n",
       "      <td>[INICIO DEL PROYECTO: 01/01/2015]</td>\n",
       "      <td>3</td>\n",
       "    </tr>\n",
       "  </tbody>\n",
       "</table>\n",
       "</div>"
      ],
      "text/plain": [
       "                       unique_values  counts\n",
       "0                               2012      19\n",
       "1                               2016       5\n",
       "2  [INICIO DEL PROYECTO: 01/01/2019]       4\n",
       "3  [INICIO DEL PROYECTO: 01/01/2013]       4\n",
       "4  [INICIO DEL PROYECTO: 01/01/2015]       3"
      ]
     },
     "execution_count": 40,
     "metadata": {},
     "output_type": "execute_result"
    }
   ],
   "source": [
    "\n",
    "countsOfStartDate= filter_start_date.value_counts().rename_axis('unique_values').reset_index(name='counts')\n",
    "countsOfStartDate.to_csv('output/startDate.csv', index=False, header=True)\n",
    "countsOfStartDate.head()"
   ]
  },
  {
   "cell_type": "markdown",
   "metadata": {},
   "source": [
    "# 5.18. End Date"
   ]
  },
  {
   "cell_type": "code",
   "execution_count": 41,
   "metadata": {
    "collapsed": false
   },
   "outputs": [
    {
     "data": {
      "text/plain": [
       "count                                                   111\n",
       "unique                                                   71\n",
       "top       [FECHA DE FINALIZACIÓN DEL PROYECTO: Proyecto ...\n",
       "freq                                                     14\n",
       "Name: End Date, dtype: object"
      ]
     },
     "execution_count": 41,
     "metadata": {},
     "output_type": "execute_result"
    }
   ],
   "source": [
    "filter_end_date = df['End Date'].dropna(how = 'any')\n",
    "filter_end_date.describe()"
   ]
  },
  {
   "cell_type": "code",
   "execution_count": 42,
   "metadata": {
    "collapsed": false
   },
   "outputs": [
    {
     "data": {
      "text/html": [
       "<div>\n",
       "<style>\n",
       "    .dataframe thead tr:only-child th {\n",
       "        text-align: right;\n",
       "    }\n",
       "\n",
       "    .dataframe thead th {\n",
       "        text-align: left;\n",
       "    }\n",
       "\n",
       "    .dataframe tbody tr th {\n",
       "        vertical-align: top;\n",
       "    }\n",
       "</style>\n",
       "<table border=\"1\" class=\"dataframe\">\n",
       "  <thead>\n",
       "    <tr style=\"text-align: right;\">\n",
       "      <th></th>\n",
       "      <th>unique_values</th>\n",
       "      <th>counts</th>\n",
       "    </tr>\n",
       "  </thead>\n",
       "  <tbody>\n",
       "    <tr>\n",
       "      <th>0</th>\n",
       "      <td>[FECHA DE FINALIZACIÓN DEL PROYECTO: Proyecto ...</td>\n",
       "      <td>14</td>\n",
       "    </tr>\n",
       "    <tr>\n",
       "      <th>1</th>\n",
       "      <td>[FINALIZACIÓN DEL PROYECTO: 01/01/2020]</td>\n",
       "      <td>11</td>\n",
       "    </tr>\n",
       "    <tr>\n",
       "      <th>2</th>\n",
       "      <td>[FINALIZACIÓN DEL PROYECTO: 01/01/2025]</td>\n",
       "      <td>4</td>\n",
       "    </tr>\n",
       "    <tr>\n",
       "      <th>3</th>\n",
       "      <td>[FINALIZACIÓN DEL PROYECTO: 31/12/2020]</td>\n",
       "      <td>4</td>\n",
       "    </tr>\n",
       "    <tr>\n",
       "      <th>4</th>\n",
       "      <td>[FINALIZACIÓN DEL PROYECTO: 31/12/2025]</td>\n",
       "      <td>3</td>\n",
       "    </tr>\n",
       "  </tbody>\n",
       "</table>\n",
       "</div>"
      ],
      "text/plain": [
       "                                       unique_values  counts\n",
       "0  [FECHA DE FINALIZACIÓN DEL PROYECTO: Proyecto ...      14\n",
       "1            [FINALIZACIÓN DEL PROYECTO: 01/01/2020]      11\n",
       "2            [FINALIZACIÓN DEL PROYECTO: 01/01/2025]       4\n",
       "3            [FINALIZACIÓN DEL PROYECTO: 31/12/2020]       4\n",
       "4            [FINALIZACIÓN DEL PROYECTO: 31/12/2025]       3"
      ]
     },
     "execution_count": 42,
     "metadata": {},
     "output_type": "execute_result"
    }
   ],
   "source": [
    "\n",
    "countsOfEndDate = filter_end_date.value_counts().rename_axis('unique_values').reset_index(name='counts')\n",
    "countsOfEndDate.to_csv('output/End_Date.csv', index=False, header=True, encoding='utf-8-sig')\n",
    "countsOfEndDate.head()"
   ]
  },
  {
   "cell_type": "markdown",
   "metadata": {},
   "source": [
    "# 5.19. Public/Private Investment (referred to as Investment in the database)"
   ]
  },
  {
   "cell_type": "code",
   "execution_count": 43,
   "metadata": {
    "collapsed": false
   },
   "outputs": [
    {
     "data": {
      "text/plain": [
       "count                     1344\n",
       "unique                      74\n",
       "top       [TOTAL EXPENSE 0.00]\n",
       "freq                      1218\n",
       "Name: Investment, dtype: object"
      ]
     },
     "execution_count": 43,
     "metadata": {},
     "output_type": "execute_result"
    }
   ],
   "source": [
    "filter_inv = df['Investment'].dropna(how = 'any')\n",
    "filter_inv.describe()"
   ]
  },
  {
   "cell_type": "code",
   "execution_count": 44,
   "metadata": {
    "collapsed": false
   },
   "outputs": [
    {
     "data": {
      "text/html": [
       "<div>\n",
       "<style>\n",
       "    .dataframe thead tr:only-child th {\n",
       "        text-align: right;\n",
       "    }\n",
       "\n",
       "    .dataframe thead th {\n",
       "        text-align: left;\n",
       "    }\n",
       "\n",
       "    .dataframe tbody tr th {\n",
       "        vertical-align: top;\n",
       "    }\n",
       "</style>\n",
       "<table border=\"1\" class=\"dataframe\">\n",
       "  <thead>\n",
       "    <tr style=\"text-align: right;\">\n",
       "      <th></th>\n",
       "      <th>unique_values</th>\n",
       "      <th>counts</th>\n",
       "    </tr>\n",
       "  </thead>\n",
       "  <tbody>\n",
       "    <tr>\n",
       "      <th>0</th>\n",
       "      <td>[TOTAL EXPENSE 0.00]</td>\n",
       "      <td>1218</td>\n",
       "    </tr>\n",
       "    <tr>\n",
       "      <th>1</th>\n",
       "      <td>[TOTAL EXPENSE No expenses]</td>\n",
       "      <td>24</td>\n",
       "    </tr>\n",
       "    <tr>\n",
       "      <th>2</th>\n",
       "      <td>[TOTAL EXPENSE 10.00]</td>\n",
       "      <td>6</td>\n",
       "    </tr>\n",
       "    <tr>\n",
       "      <th>3</th>\n",
       "      <td>[TOTAL EXPENSE 100.00]</td>\n",
       "      <td>5</td>\n",
       "    </tr>\n",
       "    <tr>\n",
       "      <th>4</th>\n",
       "      <td>[TOTAL EXPENSE 35.00]</td>\n",
       "      <td>4</td>\n",
       "    </tr>\n",
       "  </tbody>\n",
       "</table>\n",
       "</div>"
      ],
      "text/plain": [
       "                 unique_values  counts\n",
       "0         [TOTAL EXPENSE 0.00]    1218\n",
       "1  [TOTAL EXPENSE No expenses]      24\n",
       "2        [TOTAL EXPENSE 10.00]       6\n",
       "3       [TOTAL EXPENSE 100.00]       5\n",
       "4        [TOTAL EXPENSE 35.00]       4"
      ]
     },
     "execution_count": 44,
     "metadata": {},
     "output_type": "execute_result"
    }
   ],
   "source": [
    "countsOfInv= filter_inv.value_counts().rename_axis('unique_values').reset_index(name='counts')\n",
    "countsOfInv.to_csv('output/Investment.csv', index=False, header=True, encoding='utf-8-sig')\n",
    "countsOfInv.head()\n",
    "\n"
   ]
  },
  {
   "cell_type": "markdown",
   "metadata": {},
   "source": [
    "# 5.20. Main objectives"
   ]
  },
  {
   "cell_type": "code",
   "execution_count": 45,
   "metadata": {
    "collapsed": false
   },
   "outputs": [
    {
     "data": {
      "text/plain": [
       "136    [Our team is driven by the by the seventh Unit...\n",
       "190    [Jackson, C., Mugar, G., Crowston, K., and Øst...\n",
       "253    [Inclusivity of research approach\\nThrough the...\n",
       "279    [Inclusivity of research approach\\nCitizen sci...\n",
       "321                              [ : Waarom doe je mee?]\n",
       "Name: Main Objectives, dtype: object"
      ]
     },
     "execution_count": 45,
     "metadata": {},
     "output_type": "execute_result"
    }
   ],
   "source": [
    "filter_obj = df['Main Objectives'].dropna(how = 'any')\n",
    "filter_obj.to_csv('output/mainObjs.csv', index=False, header=True)\n",
    "filter_obj.head()\n",
    "\n",
    "#check wordcloud code in github for analysis"
   ]
  },
  {
   "cell_type": "markdown",
   "metadata": {},
   "source": [
    "# 5.21. Language"
   ]
  },
  {
   "cell_type": "code",
   "execution_count": 46,
   "metadata": {
    "collapsed": false
   },
   "outputs": [],
   "source": [
    "filter_lang = df['Language'].dropna(how = 'any')\n",
    "# data was processed in metabase to obtain visualisation. \n",
    "#Link to visualisation: https://database.cstrack.upf.edu/public/dashboard/bc298518-acbc-4efa-a8eb-7ed708ea9729"
   ]
  },
  {
   "cell_type": "markdown",
   "metadata": {},
   "source": [
    "# 5.22. Development Time"
   ]
  },
  {
   "cell_type": "code",
   "execution_count": 47,
   "metadata": {
    "collapsed": false
   },
   "outputs": [
    {
     "data": {
      "text/plain": [
       "count                              1265\n",
       "unique                              398\n",
       "top       [IDEAL FREQUENCY Unspecified]\n",
       "freq                                568\n",
       "Name: Development Time, dtype: object"
      ]
     },
     "execution_count": 47,
     "metadata": {},
     "output_type": "execute_result"
    }
   ],
   "source": [
    "#drop null values\n",
    "filter_dev_time = df['Development Time'].dropna(how = 'any')\n",
    "filter_dev_time.describe()"
   ]
  },
  {
   "cell_type": "code",
   "execution_count": 48,
   "metadata": {
    "collapsed": false
   },
   "outputs": [
    {
     "data": {
      "text/html": [
       "<div>\n",
       "<style>\n",
       "    .dataframe thead tr:only-child th {\n",
       "        text-align: right;\n",
       "    }\n",
       "\n",
       "    .dataframe thead th {\n",
       "        text-align: left;\n",
       "    }\n",
       "\n",
       "    .dataframe tbody tr th {\n",
       "        vertical-align: top;\n",
       "    }\n",
       "</style>\n",
       "<table border=\"1\" class=\"dataframe\">\n",
       "  <thead>\n",
       "    <tr style=\"text-align: right;\">\n",
       "      <th></th>\n",
       "      <th>unique_values</th>\n",
       "      <th>counts</th>\n",
       "    </tr>\n",
       "  </thead>\n",
       "  <tbody>\n",
       "    <tr>\n",
       "      <th>0</th>\n",
       "      <td>[IDEAL FREQUENCY Unspecified]</td>\n",
       "      <td>568</td>\n",
       "    </tr>\n",
       "    <tr>\n",
       "      <th>1</th>\n",
       "      <td>[IDEAL FREQUENCY Just once]</td>\n",
       "      <td>113</td>\n",
       "    </tr>\n",
       "    <tr>\n",
       "      <th>2</th>\n",
       "      <td>[IDEAL FREQUENCY Other]</td>\n",
       "      <td>49</td>\n",
       "    </tr>\n",
       "    <tr>\n",
       "      <th>3</th>\n",
       "      <td>[IDEAL FREQUENCY Per month]</td>\n",
       "      <td>41</td>\n",
       "    </tr>\n",
       "    <tr>\n",
       "      <th>4</th>\n",
       "      <td>[IDEAL FREQUENCY Per week]</td>\n",
       "      <td>37</td>\n",
       "    </tr>\n",
       "  </tbody>\n",
       "</table>\n",
       "</div>"
      ],
      "text/plain": [
       "                   unique_values  counts\n",
       "0  [IDEAL FREQUENCY Unspecified]     568\n",
       "1    [IDEAL FREQUENCY Just once]     113\n",
       "2        [IDEAL FREQUENCY Other]      49\n",
       "3    [IDEAL FREQUENCY Per month]      41\n",
       "4     [IDEAL FREQUENCY Per week]      37"
      ]
     },
     "execution_count": 48,
     "metadata": {},
     "output_type": "execute_result"
    }
   ],
   "source": [
    "\n",
    "countsOfDevTime = filter_dev_time.value_counts().rename_axis('unique_values').reset_index(name='counts')\n",
    "countsOfDevTime.to_csv('output/Development_time.csv', index=False, header=True, encoding='utf-8-sig')\n",
    "countsOfDevTime.head()"
   ]
  },
  {
   "cell_type": "markdown",
   "metadata": {},
   "source": [
    "# 5.23 Gender and 5.24 Category data is not available to process yet"
   ]
  },
  {
   "cell_type": "markdown",
   "metadata": {},
   "source": [
    "# 5.25 Participants Profile"
   ]
  },
  {
   "cell_type": "code",
   "execution_count": 49,
   "metadata": {
    "collapsed": false
   },
   "outputs": [
    {
     "data": {
      "text/plain": [
       "count      7057\n",
       "unique     1673\n",
       "top       [any]\n",
       "freq       4903\n",
       "Name: Participants Profile, dtype: object"
      ]
     },
     "execution_count": 49,
     "metadata": {},
     "output_type": "execute_result"
    }
   ],
   "source": [
    "filter_participants = df['Participants Profile'].dropna(how = 'any')\n",
    "filter_participants.describe()"
   ]
  },
  {
   "cell_type": "code",
   "execution_count": 50,
   "metadata": {
    "collapsed": false
   },
   "outputs": [
    {
     "data": {
      "text/html": [
       "<div>\n",
       "<style>\n",
       "    .dataframe thead tr:only-child th {\n",
       "        text-align: right;\n",
       "    }\n",
       "\n",
       "    .dataframe thead th {\n",
       "        text-align: left;\n",
       "    }\n",
       "\n",
       "    .dataframe tbody tr th {\n",
       "        vertical-align: top;\n",
       "    }\n",
       "</style>\n",
       "<table border=\"1\" class=\"dataframe\">\n",
       "  <thead>\n",
       "    <tr style=\"text-align: right;\">\n",
       "      <th></th>\n",
       "      <th>unique_values</th>\n",
       "      <th>counts</th>\n",
       "    </tr>\n",
       "  </thead>\n",
       "  <tbody>\n",
       "    <tr>\n",
       "      <th>0</th>\n",
       "      <td>[any]</td>\n",
       "      <td>4903</td>\n",
       "    </tr>\n",
       "    <tr>\n",
       "      <th>1</th>\n",
       "      <td>[Solo miembros del proyecto]</td>\n",
       "      <td>289</td>\n",
       "    </tr>\n",
       "    <tr>\n",
       "      <th>2</th>\n",
       "      <td>[chino_preciado]</td>\n",
       "      <td>32</td>\n",
       "    </tr>\n",
       "    <tr>\n",
       "      <th>3</th>\n",
       "      <td>[PÚBLICO AL QUE SE DIRIGE EL PROYECTO: Todo ti...</td>\n",
       "      <td>14</td>\n",
       "    </tr>\n",
       "    <tr>\n",
       "      <th>4</th>\n",
       "      <td>[SPECIAL SKILLS None! You don't need to be an ...</td>\n",
       "      <td>12</td>\n",
       "    </tr>\n",
       "  </tbody>\n",
       "</table>\n",
       "</div>"
      ],
      "text/plain": [
       "                                       unique_values  counts\n",
       "0                                              [any]    4903\n",
       "1                       [Solo miembros del proyecto]     289\n",
       "2                                   [chino_preciado]      32\n",
       "3  [PÚBLICO AL QUE SE DIRIGE EL PROYECTO: Todo ti...      14\n",
       "4  [SPECIAL SKILLS None! You don't need to be an ...      12"
      ]
     },
     "execution_count": 50,
     "metadata": {},
     "output_type": "execute_result"
    }
   ],
   "source": [
    "\n",
    "countsOfPartcipantsProfs= filter_participants.value_counts().rename_axis('unique_values').reset_index(name='counts')\n",
    "countsOfPartcipantsProfs.to_csv('output/participants.csv', index=False, header=True)\n",
    "countsOfPartcipantsProfs.head()"
   ]
  },
  {
   "cell_type": "markdown",
   "metadata": {},
   "source": [
    "# 5.26. Resources"
   ]
  },
  {
   "cell_type": "code",
   "execution_count": 51,
   "metadata": {
    "collapsed": false
   },
   "outputs": [
    {
     "data": {
      "text/plain": [
       "count                                                  680\n",
       "unique                                                 500\n",
       "top       [This project has no educational resources yet.]\n",
       "freq                                                   112\n",
       "Name: Resources, dtype: object"
      ]
     },
     "execution_count": 51,
     "metadata": {},
     "output_type": "execute_result"
    }
   ],
   "source": [
    "filter_resources = df['Resources'].dropna(how = 'any')\n",
    "filter_resources.describe()"
   ]
  },
  {
   "cell_type": "code",
   "execution_count": 52,
   "metadata": {
    "collapsed": false
   },
   "outputs": [
    {
     "data": {
      "text/html": [
       "<div>\n",
       "<style>\n",
       "    .dataframe thead tr:only-child th {\n",
       "        text-align: right;\n",
       "    }\n",
       "\n",
       "    .dataframe thead th {\n",
       "        text-align: left;\n",
       "    }\n",
       "\n",
       "    .dataframe tbody tr th {\n",
       "        vertical-align: top;\n",
       "    }\n",
       "</style>\n",
       "<table border=\"1\" class=\"dataframe\">\n",
       "  <thead>\n",
       "    <tr style=\"text-align: right;\">\n",
       "      <th></th>\n",
       "      <th>unique_values</th>\n",
       "      <th>counts</th>\n",
       "    </tr>\n",
       "  </thead>\n",
       "  <tbody>\n",
       "    <tr>\n",
       "      <th>0</th>\n",
       "      <td>[This project has no educational resources yet.]</td>\n",
       "      <td>112</td>\n",
       "    </tr>\n",
       "    <tr>\n",
       "      <th>1</th>\n",
       "      <td>[The nest record data will eventually be integ...</td>\n",
       "      <td>16</td>\n",
       "    </tr>\n",
       "    <tr>\n",
       "      <th>2</th>\n",
       "      <td>[MEDIA MENTIONS &amp; PUBLICATIONS Water, Water, E...</td>\n",
       "      <td>14</td>\n",
       "    </tr>\n",
       "    <tr>\n",
       "      <th>3</th>\n",
       "      <td>[Check out our Snapshot Safari educational mat...</td>\n",
       "      <td>13</td>\n",
       "    </tr>\n",
       "    <tr>\n",
       "      <th>4</th>\n",
       "      <td>[http://publicfiles.surfrider.org/Clean-Water_...</td>\n",
       "      <td>5</td>\n",
       "    </tr>\n",
       "  </tbody>\n",
       "</table>\n",
       "</div>"
      ],
      "text/plain": [
       "                                       unique_values  counts\n",
       "0   [This project has no educational resources yet.]     112\n",
       "1  [The nest record data will eventually be integ...      16\n",
       "2  [MEDIA MENTIONS & PUBLICATIONS Water, Water, E...      14\n",
       "3  [Check out our Snapshot Safari educational mat...      13\n",
       "4  [http://publicfiles.surfrider.org/Clean-Water_...       5"
      ]
     },
     "execution_count": 52,
     "metadata": {},
     "output_type": "execute_result"
    }
   ],
   "source": [
    "countsOfResources= filter_resources.value_counts().rename_axis('unique_values').reset_index(name='counts')\n",
    "countsOfResources.to_csv('output/resources.csv', index=False, header=True)\n",
    "countsOfResources.head()"
   ]
  },
  {
   "cell_type": "markdown",
   "metadata": {},
   "source": [
    "# 5.28 Comments"
   ]
  },
  {
   "cell_type": "code",
   "execution_count": 53,
   "metadata": {
    "collapsed": false
   },
   "outputs": [
    {
     "data": {
      "text/plain": [
       "123    [https://www.zooniverse.org/projects/ssilverbe...\n",
       "124    [https://www.zooniverse.org/projects/brbcornel...\n",
       "125    [https://www.zooniverse.org/projects/safmcadmi...\n",
       "126    [https://www.zooniverse.org/projects/cseidenst...\n",
       "127    [https://www.zooniverse.org/projects/welldone/...\n",
       "Name: Comments, dtype: object"
      ]
     },
     "execution_count": 53,
     "metadata": {},
     "output_type": "execute_result"
    }
   ],
   "source": [
    "comments = df['Comments'].dropna(how = 'any')\n",
    "comments.head()"
   ]
  },
  {
   "cell_type": "code",
   "execution_count": 54,
   "metadata": {
    "collapsed": false
   },
   "outputs": [],
   "source": [
    "comments.to_csv(\"output/comments.csv\")"
   ]
  },
  {
   "cell_type": "markdown",
   "metadata": {},
   "source": [
    "# 5.29 Platform Country"
   ]
  },
  {
   "cell_type": "code",
   "execution_count": 55,
   "metadata": {
    "collapsed": false
   },
   "outputs": [
    {
     "data": {
      "text/plain": [
       "0    AUT\n",
       "1    AUT\n",
       "2    AUT\n",
       "3    AUT\n",
       "4    AUT\n",
       "Name: Plat Country, dtype: object"
      ]
     },
     "execution_count": 55,
     "metadata": {},
     "output_type": "execute_result"
    }
   ],
   "source": [
    "filter_plat_country = df['Plat Country'].dropna(how = 'any')\n",
    "filter_plat_country.head()\n",
    "\n",
    "#visualisation obtained using metabase"
   ]
  },
  {
   "cell_type": "markdown",
   "metadata": {},
   "source": [
    "# 5.30 Development Space"
   ]
  },
  {
   "cell_type": "code",
   "execution_count": 56,
   "metadata": {
    "collapsed": false
   },
   "outputs": [
    {
     "data": {
      "text/plain": [
       "count                          1017\n",
       "unique                          464\n",
       "top       [SPEND THE TIME Outdoors]\n",
       "freq                            271\n",
       "Name: Development Space, dtype: object"
      ]
     },
     "execution_count": 56,
     "metadata": {},
     "output_type": "execute_result"
    }
   ],
   "source": [
    "#drop null values\n",
    "filter_dev_space = df['Development Space'].dropna(how = 'any')\n",
    "filter_dev_space.describe()"
   ]
  },
  {
   "cell_type": "code",
   "execution_count": 57,
   "metadata": {
    "collapsed": false
   },
   "outputs": [
    {
     "data": {
      "text/html": [
       "<div>\n",
       "<style>\n",
       "    .dataframe thead tr:only-child th {\n",
       "        text-align: right;\n",
       "    }\n",
       "\n",
       "    .dataframe thead th {\n",
       "        text-align: left;\n",
       "    }\n",
       "\n",
       "    .dataframe tbody tr th {\n",
       "        vertical-align: top;\n",
       "    }\n",
       "</style>\n",
       "<table border=\"1\" class=\"dataframe\">\n",
       "  <thead>\n",
       "    <tr style=\"text-align: right;\">\n",
       "      <th></th>\n",
       "      <th>unique_values</th>\n",
       "      <th>counts</th>\n",
       "    </tr>\n",
       "  </thead>\n",
       "  <tbody>\n",
       "    <tr>\n",
       "      <th>0</th>\n",
       "      <td>[SPEND THE TIME Outdoors]</td>\n",
       "      <td>271</td>\n",
       "    </tr>\n",
       "    <tr>\n",
       "      <th>1</th>\n",
       "      <td>[SPEND THE TIME Indoors]</td>\n",
       "      <td>111</td>\n",
       "    </tr>\n",
       "    <tr>\n",
       "      <th>2</th>\n",
       "      <td>[SPEND THE TIME Indoors and Outdoors]</td>\n",
       "      <td>95</td>\n",
       "    </tr>\n",
       "    <tr>\n",
       "      <th>3</th>\n",
       "      <td>[SPEND THE TIME Indoors, TYPE OF ACTIVITY At h...</td>\n",
       "      <td>9</td>\n",
       "    </tr>\n",
       "    <tr>\n",
       "      <th>4</th>\n",
       "      <td>[SPEND THE TIME Outdoors, TYPE OF ACTIVITY Whi...</td>\n",
       "      <td>6</td>\n",
       "    </tr>\n",
       "  </tbody>\n",
       "</table>\n",
       "</div>"
      ],
      "text/plain": [
       "                                       unique_values  counts\n",
       "0                          [SPEND THE TIME Outdoors]     271\n",
       "1                           [SPEND THE TIME Indoors]     111\n",
       "2              [SPEND THE TIME Indoors and Outdoors]      95\n",
       "3  [SPEND THE TIME Indoors, TYPE OF ACTIVITY At h...       9\n",
       "4  [SPEND THE TIME Outdoors, TYPE OF ACTIVITY Whi...       6"
      ]
     },
     "execution_count": 57,
     "metadata": {},
     "output_type": "execute_result"
    }
   ],
   "source": [
    "countsOfDevSpace = filter_dev_space.value_counts().rename_axis('unique_values').reset_index(name='counts')\n",
    "countsOfDevSpace.to_csv('output/Development_spaces.csv', index=False, header=True)\n",
    "countsOfDevSpace.head()"
   ]
  },
  {
   "cell_type": "markdown",
   "metadata": {},
   "source": [
    "# 5.31. Dedication Time"
   ]
  },
  {
   "cell_type": "code",
   "execution_count": 58,
   "metadata": {
    "collapsed": false
   },
   "outputs": [
    {
     "data": {
      "text/plain": [
       "count                           292\n",
       "unique                           25\n",
       "top       [AVERAGE TIME One minute]\n",
       "freq                             93\n",
       "Name: Dedication Time, dtype: object"
      ]
     },
     "execution_count": 58,
     "metadata": {},
     "output_type": "execute_result"
    }
   ],
   "source": [
    "filter_dedication_time = df['Dedication Time'].dropna(how = 'any')\n",
    "filter_dedication_time.describe()"
   ]
  },
  {
   "cell_type": "code",
   "execution_count": 59,
   "metadata": {
    "collapsed": false
   },
   "outputs": [],
   "source": [
    "filter_dedication_time.to_csv('output/dedicationTime.csv', index=False, encoding='utf-8-sig')"
   ]
  },
  {
   "cell_type": "code",
   "execution_count": 60,
   "metadata": {
    "collapsed": false
   },
   "outputs": [
    {
     "data": {
      "text/plain": [
       "{u'AVERAGE TIME 1 hour': None,\n",
       " u'AVERAGE TIME 1.5 hours': None,\n",
       " u'AVERAGE TIME 2 hours': None,\n",
       " u'AVERAGE TIME 3 hours': None,\n",
       " u'AVERAGE TIME 3.5 hours': None,\n",
       " u'AVERAGE TIME 4 hours': None,\n",
       " u'AVERAGE TIME 5 hours': None,\n",
       " u'AVERAGE TIME Fifteen minutes': None,\n",
       " u'AVERAGE TIME Five minutes': None,\n",
       " u'AVERAGE TIME Half hour': None,\n",
       " u'AVERAGE TIME One minute': None,\n",
       " u'AVERAGE TIME Three minutes': None,\n",
       " u'Haycuatroprotocolosderecogidadedatosquelosvoluntariospuedenelegirenfunci\\xf3ndesuconocimientodelosopistobranquiosydesudisponibilidad:muestreopuntual,seguimientocualitativo,seguimientocuantitativoytransecto.': None,\n",
       " u'How long will it take? 10-15 minutes to assemble apparatus, 5 minutes to make observations and submit data.': None,\n",
       " u'How long will it take? No set time': None,\n",
       " u'How long will it take? Participate for as long as you\\u2019d like.': None,\n",
       " u'How long will it take? Two minutes per bird': None,\n",
       " u'How long will it take? Two minutes per slide': None,\n",
       " u\"Positions on the Citizens' Jury will last for a period of 12 - 18 months.Time (We expect to hold meetings of 1-2 hours every few months)\": None,\n",
       " u'Serealizandoscampa\\xf1asdemuestreoanuales(primaverayoto\\xf1o).Cadacampa\\xf1arepresentacuatrojornadasdecampoconsecutivas(tresnochesdeexposici\\xf3ndelastrampas)': None,\n",
       " u'Serealizandosmuestreosala\\xf1odedos\\xa0horasdeduraci\\xf3naproximada,enlaprimeraysegundaquincenadelmesdeagosto.': None,\n",
       " u'Sindedicaci\\xf3nm\\xednima.': None,\n",
       " u'ealizaci\\xf3ndeuntransectoalasemanaentrelosmesesdemarzoyseptiembre.ltiempoutilizadopararecorrerlovar\\xedaseg\\xfanla\\xe9pocadela\\xf1o,perosueleoscilarentre1-3h.lcompromisoeselderealizarelseguimientoporlomenosdurantecincoa\\xf1os.': None,\n",
       " u'hismissionwilltakeapproximately10minutes.': None,\n",
       " u'twilltakeabout5-10minutestocomplete.': None}"
      ]
     },
     "execution_count": 60,
     "metadata": {},
     "output_type": "execute_result"
    }
   ],
   "source": [
    "#dedicationTimeTypes\n",
    "\n",
    "dedicationTimeTypes = {}\n",
    "\n",
    "for row in filter_dedication_time:\n",
    "    procString = ''.join([item.rstrip('AVERAGE TIME') for item in row]) #remove average time string with no values\n",
    "    if not procString: #remove no values\n",
    "        continue\n",
    "    else:\n",
    "        dedicationTimeTypes.setdefault(procString)\n",
    "\n",
    "            \n",
    "dedicationTimeTypes\n",
    "    "
   ]
  },
  {
   "cell_type": "code",
   "execution_count": 61,
   "metadata": {
    "collapsed": false
   },
   "outputs": [
    {
     "name": "stdout",
     "output_type": "stream",
     "text": [
      "{'AVERAGE TIME Five minutes': 134, 'AVERAGE TIME 3 hours': 44, 'AVERAGE TIME 3.5 hours': 45, 'AVERAGE TIME 4 hours': 48, 'AVERAGE TIME 2 hours': 39, 'AVERAGE TIME 5 hours': 49, 'AVERAGE TIME One minute': 253, 'AVERAGE TIME Fifteen minutes': 99, 'AVERAGE TIME Half hour': 160, 'AVERAGE TIME 1 hour': 31, 'AVERAGE TIME 1.5 hours': 35}\n"
     ]
    }
   ],
   "source": [
    "#count the frequency of each activity type\n",
    "\n",
    "from collections import Counter\n",
    "\n",
    "m=0\n",
    "cntTime = {}\n",
    "\n",
    "#ignoring string values and hardcoding only the average time format\n",
    "\n",
    "searchString =['AVERAGE TIME 1 hour','AVERAGE TIME 1.5 hours','AVERAGE TIME 2 hours','AVERAGE TIME 3 hours',\n",
    "               'AVERAGE TIME 3.5 hours','AVERAGE TIME 4 hours','AVERAGE TIME 5 hours','AVERAGE TIME Fifteen minutes',\n",
    "               'AVERAGE TIME Five minutes','AVERAGE TIME Half hour','AVERAGE TIME One minute']\n",
    "\n",
    "\n",
    "for i in searchString:\n",
    "   \n",
    "    for x in filter_dedication_time:\n",
    "        procString = ''.join([item.rstrip('AVERAGE TIME') for item in x]) \n",
    "        info = u''.join(procString).encode('utf-8').strip() #handle unicode characters\n",
    "\n",
    "        myvar = str(info) #string input\n",
    "        \n",
    "        #print var\n",
    "        \n",
    "        tot = myvar.count(i) #count each type\n",
    "        m = m + tot\n",
    "    cntTime[i] = m\n",
    "    n = 0\n",
    "print(cntTime)"
   ]
  },
  {
   "cell_type": "code",
   "execution_count": 62,
   "metadata": {
    "collapsed": false
   },
   "outputs": [
    {
     "data": {
      "image/png": "[encoded data removed]",
      "text/plain": [
       "<matplotlib.figure.Figure at 0x11f91fed0>"
      ]
     },
     "metadata": {},
     "output_type": "display_data"
    }
   ],
   "source": [
    "import matplotlib.pyplot as plt\n",
    "\n",
    "names = list(cntTime.keys())\n",
    "values = list(cntTime.values())\n",
    "\n",
    "#tick_label does the some work as plt.xticks()\n",
    "plt.bar(range(len(cntTime)),values,tick_label=names)\n",
    "degrees = 90\n",
    "plt.xticks(rotation=degrees)\n",
    "plt.xlabel('', fontsize=12)\n",
    "plt.gcf().subplots_adjust(bottom=0.25) #to make room for the label\n",
    "plt.savefig('dedication_time_counts.png')\n",
    "plt.show()"
   ]
  },
  {
   "cell_type": "markdown",
   "metadata": {},
   "source": [
    "# 5.32. Platform Update Date"
   ]
  },
  {
   "cell_type": "code",
   "execution_count": 63,
   "metadata": {
    "collapsed": false
   },
   "outputs": [
    {
     "data": {
      "text/plain": [
       "count                                             1325\n",
       "unique                                             595\n",
       "top       [PROJECT UPDATED 09/07/2019, 12:18 am GMT+2]\n",
       "freq                                               541\n",
       "Name: Platform Update Date, dtype: object"
      ]
     },
     "execution_count": 63,
     "metadata": {},
     "output_type": "execute_result"
    }
   ],
   "source": [
    "filter_plat_update = df['Platform Update Date'].dropna(how = 'any')\n",
    "filter_plat_update.describe()"
   ]
  },
  {
   "cell_type": "code",
   "execution_count": 64,
   "metadata": {
    "collapsed": false
   },
   "outputs": [
    {
     "data": {
      "text/html": [
       "<div>\n",
       "<style>\n",
       "    .dataframe thead tr:only-child th {\n",
       "        text-align: right;\n",
       "    }\n",
       "\n",
       "    .dataframe thead th {\n",
       "        text-align: left;\n",
       "    }\n",
       "\n",
       "    .dataframe tbody tr th {\n",
       "        vertical-align: top;\n",
       "    }\n",
       "</style>\n",
       "<table border=\"1\" class=\"dataframe\">\n",
       "  <thead>\n",
       "    <tr style=\"text-align: right;\">\n",
       "      <th></th>\n",
       "      <th>unique_values</th>\n",
       "      <th>counts</th>\n",
       "    </tr>\n",
       "  </thead>\n",
       "  <tbody>\n",
       "    <tr>\n",
       "      <th>0</th>\n",
       "      <td>[PROJECT UPDATED 09/07/2019, 12:18 am GMT+2]</td>\n",
       "      <td>541</td>\n",
       "    </tr>\n",
       "    <tr>\n",
       "      <th>1</th>\n",
       "      <td>[PROJECT UPDATED 09/24/2019, 04:37 pm GMT+2]</td>\n",
       "      <td>51</td>\n",
       "    </tr>\n",
       "    <tr>\n",
       "      <th>2</th>\n",
       "      <td>[PROJECT UPDATED 09/24/2019, 04:36 pm GMT+2]</td>\n",
       "      <td>50</td>\n",
       "    </tr>\n",
       "    <tr>\n",
       "      <th>3</th>\n",
       "      <td>[PROJECT UPDATED 09/24/2019, 04:53 pm GMT+2]</td>\n",
       "      <td>35</td>\n",
       "    </tr>\n",
       "    <tr>\n",
       "      <th>4</th>\n",
       "      <td>[PROJECT UPDATED 10/21/2019, 04:25 pm GMT+2]</td>\n",
       "      <td>7</td>\n",
       "    </tr>\n",
       "  </tbody>\n",
       "</table>\n",
       "</div>"
      ],
      "text/plain": [
       "                                  unique_values  counts\n",
       "0  [PROJECT UPDATED 09/07/2019, 12:18 am GMT+2]     541\n",
       "1  [PROJECT UPDATED 09/24/2019, 04:37 pm GMT+2]      51\n",
       "2  [PROJECT UPDATED 09/24/2019, 04:36 pm GMT+2]      50\n",
       "3  [PROJECT UPDATED 09/24/2019, 04:53 pm GMT+2]      35\n",
       "4  [PROJECT UPDATED 10/21/2019, 04:25 pm GMT+2]       7"
      ]
     },
     "execution_count": 64,
     "metadata": {},
     "output_type": "execute_result"
    }
   ],
   "source": [
    "\n",
    "countsOfplatUpdateDate= filter_plat_update.value_counts().rename_axis('unique_values').reset_index(name='counts')\n",
    "countsOfplatUpdateDate.to_csv('output/updteDeate.csv', index=False, header=True, encoding='utf-8-sig')\n",
    "countsOfplatUpdateDate.head()"
   ]
  },
  {
   "cell_type": "markdown",
   "metadata": {
    "collapsed": true
   },
   "source": [
    "# 5.33 Results"
   ]
  },
  {
   "cell_type": "code",
   "execution_count": 65,
   "metadata": {
    "collapsed": false
   },
   "outputs": [
    {
     "data": {
      "text/plain": [
       "count                                              249\n",
       "unique                                             129\n",
       "top       [This project has no results to report yet.]\n",
       "freq                                               102\n",
       "Name: Results, dtype: object"
      ]
     },
     "execution_count": 65,
     "metadata": {},
     "output_type": "execute_result"
    }
   ],
   "source": [
    "filter_results = df['Results'].dropna(how = 'any')\n",
    "filter_results.describe()\n",
    "\n"
   ]
  },
  {
   "cell_type": "code",
   "execution_count": 66,
   "metadata": {
    "collapsed": false
   },
   "outputs": [
    {
     "data": {
      "text/html": [
       "<div>\n",
       "<style>\n",
       "    .dataframe thead tr:only-child th {\n",
       "        text-align: right;\n",
       "    }\n",
       "\n",
       "    .dataframe thead th {\n",
       "        text-align: left;\n",
       "    }\n",
       "\n",
       "    .dataframe tbody tr th {\n",
       "        vertical-align: top;\n",
       "    }\n",
       "</style>\n",
       "<table border=\"1\" class=\"dataframe\">\n",
       "  <thead>\n",
       "    <tr style=\"text-align: right;\">\n",
       "      <th></th>\n",
       "      <th>unique_values</th>\n",
       "      <th>counts</th>\n",
       "    </tr>\n",
       "  </thead>\n",
       "  <tbody>\n",
       "    <tr>\n",
       "      <th>0</th>\n",
       "      <td>[This project has no results to report yet.]</td>\n",
       "      <td>102</td>\n",
       "    </tr>\n",
       "    <tr>\n",
       "      <th>1</th>\n",
       "      <td>[Nest Quest Go! volunteers should be proud of ...</td>\n",
       "      <td>19</td>\n",
       "    </tr>\n",
       "    <tr>\n",
       "      <th>2</th>\n",
       "      <td>[Snapshot Safari: a large-scale collaborative ...</td>\n",
       "      <td>2</td>\n",
       "    </tr>\n",
       "    <tr>\n",
       "      <th>3</th>\n",
       "      <td>[EM for Enlisted Men\\ncentPac for Central Paci...</td>\n",
       "      <td>1</td>\n",
       "    </tr>\n",
       "    <tr>\n",
       "      <th>4</th>\n",
       "      <td>[So far, we have identified 1118 national and ...</td>\n",
       "      <td>1</td>\n",
       "    </tr>\n",
       "  </tbody>\n",
       "</table>\n",
       "</div>"
      ],
      "text/plain": [
       "                                       unique_values  counts\n",
       "0       [This project has no results to report yet.]     102\n",
       "1  [Nest Quest Go! volunteers should be proud of ...      19\n",
       "2  [Snapshot Safari: a large-scale collaborative ...       2\n",
       "3  [EM for Enlisted Men\\ncentPac for Central Paci...       1\n",
       "4  [So far, we have identified 1118 national and ...       1"
      ]
     },
     "execution_count": 66,
     "metadata": {},
     "output_type": "execute_result"
    }
   ],
   "source": [
    "countsOfResults= filter_results.value_counts().rename_axis('unique_values').reset_index(name='counts')\n",
    "countsOfResults.to_csv('output/results.csv', index=False, header=True, encoding='utf-8-sig')\n",
    "countsOfResults.head()"
   ]
  },
  {
   "cell_type": "code",
   "execution_count": null,
   "metadata": {
    "collapsed": true
   },
   "outputs": [],
   "source": []
  }
 ],
 "metadata": {
  "kernelspec": {
   "display_name": "Python 2",
   "language": "python",
   "name": "python2"
  },
  "language_info": {
   "codemirror_mode": {
    "name": "ipython",
    "version": 2
   },
   "file_extension": ".py",
   "mimetype": "text/x-python",
   "name": "python",
   "nbconvert_exporter": "python",
   "pygments_lexer": "ipython2",
   "version": "2.7.9"
  }
 },
 "nbformat": 4,
 "nbformat_minor": 2
}
